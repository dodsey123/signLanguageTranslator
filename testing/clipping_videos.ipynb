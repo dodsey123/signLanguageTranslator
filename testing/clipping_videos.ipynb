{
 "cells": [
  {
   "cell_type": "code",
   "execution_count": null,
   "metadata": {},
   "outputs": [],
   "source": [
    "import os\n",
    "from moviepy import VideoFileClip\n",
    "import json"
   ]
  },
  {
   "cell_type": "code",
   "execution_count": null,
   "metadata": {},
   "outputs": [],
   "source": [
    "# Function to extract video clips based on subtitle information\n",
    "def extract_video_clip(subtitle_info, input_directory, output_directory):\n",
    "    for start_time, end_time, video_filename in subtitle_info:\n",
    "        # Derive the path of the video file\n",
    "        video_path = os.path.join(input_directory, video_filename)\n",
    "        \n",
    "        # Check if the corresponding MP4 video exists\n",
    "        if os.path.exists(video_path):\n",
    "            # Load the video clip\n",
    "            video = VideoFileClip(video_path)\n",
    "            \n",
    "            # Extract the clip based on the start and end time (times are in seconds)\n",
    "            clip = video.subclipped(start_time, end_time)\n",
    "            \n",
    "            # Save the clip with a new name (e.g., based on the time range)\n",
    "            output_filename = f\"{os.path.splitext(video_filename)[0]}_{start_time}-{end_time}.mp4\"\n",
    "            output_path = os.path.join(output_directory, output_filename)\n",
    "            \n",
    "            # Write the clip to a file\n",
    "            clip.write_videofile(output_path, codec=\"libx264\")\n",
    "            print(f\"Extracted clip: {output_filename}\")\n",
    "            \n",
    "            # Close the video clip object\n",
    "            video.close()\n",
    "        else:\n",
    "            # If the video file does not exist, print a message\n",
    "            print(f\"Video file {video_filename} not found.\")\n"
   ]
  },
  {
   "cell_type": "code",
   "execution_count": null,
   "metadata": {},
   "outputs": [],
   "source": [
    "# Function to convert subtitle times to seconds\n",
    "def time_to_float(time_str):\n",
    "\n",
    "    # Split the time string into hours, minutes, and seconds\n",
    "    hours, minutes, seconds = time_str.split(':')\n",
    "\n",
    "    # Convert to float\n",
    "    hours = float(hours)\n",
    "    minutes = float(minutes)\n",
    "    seconds = float(seconds)\n",
    "\n",
    "    # Convert to total seconds\n",
    "    total_seconds = hours * 3600 + minutes * 60 + seconds\n",
    "\n",
    "    # Return the total seconds as a float\n",
    "    return total_seconds"
   ]
  },
  {
   "cell_type": "code",
   "execution_count": null,
   "metadata": {},
   "outputs": [
    {
     "name": "stdout",
     "output_type": "stream",
     "text": [
      "[{'code': '001', 'file': '6191576750560895398.vtt', 'start': '00:43:43.239', 'end': '00:43:44.229', 'text': 'Help me.'}, {'code': '002', 'file': '5904461193300402199.vtt', 'start': '00:53:43.588', 'end': '00:53:48.558', 'text': 'It would start to concern me a little bit, looking at five years, looking at retiring.'}, {'code': '003', 'file': '6233608589009718329.vtt', 'start': '00:20:17.657', 'end': '00:20:20.657', 'text': 'Oh, God, I hate these Land Cruisers.'}, {'code': '004', 'file': '5958272409055245472.vtt', 'start': '00:27:03.521', 'end': '00:27:05.061', 'text': \"Hey, that's lovely!\"}, {'code': '005', 'file': '6285177831836075138.vtt', 'start': '00:25:00.073', 'end': '00:25:02.714', 'text': 'We have here two perfectly great classic soups.'}, {'code': '006', 'file': '6073370660661421086.vtt', 'start': '00:09:38.952', 'end': '00:09:40.430', 'text': \"They don't want to kill us!\"}, {'code': '007', 'file': '6044816429587412137.vtt', 'start': '00:06:46.955', 'end': '00:06:48.154', 'text': \"I'm glad you liked it.\"}, {'code': '008', 'file': '6175991173237160649.vtt', 'start': '00:18:47.030', 'end': '00:18:48.860', 'text': 'The most well-love bird, unmistakable.'}, {'code': '009', 'file': '6118829882991424621.vtt', 'start': '00:12:07.824', 'end': '00:12:09.844', 'text': 'LEAVE IT!'}, {'code': '010', 'file': '6075545632079083725.vtt', 'start': '00:27:39.342', 'end': '00:27:42.062', 'text': 'I thought that was absolutely fascinating.'}, {'code': '011', 'file': '6240919482340977071.vtt', 'start': '00:38:59.702', 'end': '00:39:05.332', 'text': 'I expect she would be quite pleased because she did make us try and write properly, you know.'}, {'code': '012', 'file': '6221297065255808656.vtt', 'start': '00:27:19.709', 'end': '00:27:21.635', 'text': 'I mean, you should be annoyed at him.'}, {'code': '013', 'file': '5912531007352921763.vtt', 'start': '00:47:12.421', 'end': '00:47:15.104', 'text': \"Yes, I'm happy with that one.\"}, {'code': '014', 'file': '6111065441113707054.vtt', 'start': '00:42:09.043', 'end': '00:42:11.203', 'text': \"Well, even I can't figure this one out.\"}, {'code': '015', 'file': '6231758317098601501.vtt', 'start': '00:03:30.539', 'end': '00:03:34.149', 'text': \"And it's not just the tents that are worrying her.\"}, {'code': '016', 'file': '6209781828438436925.vtt', 'start': '00:03:25.963', 'end': '00:03:27.510', 'text': \"Sorry, you'll have to excuse me.\"}, {'code': '017', 'file': '6342696033864091923.vtt', 'start': '00:45:18.100', 'end': '00:45:20.170', 'text': 'A breeding colony for feathered friends.'}, {'code': '018', 'file': '6536144796870811961.vtt', 'start': '00:02:05.895', 'end': '00:02:08.985', 'text': \"We all got up at 4 o'clock this morning!\"}, {'code': '019', 'file': '6779391128669000760.vtt', 'start': '00:17:17.687', 'end': '00:17:21.172', 'text': 'This labyrinth has given me a new perspective on Neapolitans.'}, {'code': '020', 'file': '6124443834744095233.vtt', 'start': '00:18:02.769', 'end': '00:18:06.239', 'text': \"No, I'm fine but I can definitely hear something.\"}, {'code': '021', 'file': '5982356867664289477.vtt', 'start': '00:13:37.893', 'end': '00:13:41.173', 'text': \"I don't think he's going to be coming back after this.\"}, {'code': '022', 'file': '6237351653029241223.vtt', 'start': '00:10:59.982', 'end': '00:11:02.752', 'text': 'Oh, I cannot believe how many there are.'}, {'code': '023', 'file': '6075545632079083725.vtt', 'start': '00:57:14.744', 'end': '00:57:25.564', 'text': 'Claims about the differences between male and female brains may always be controversial but at the end of our investigation, are our views any closer?'}, {'code': '024', 'file': '6353747414213438292.vtt', 'start': '00:52:36.016', 'end': '00:52:38.094', 'text': \"You can definitely see what's going on.\"}, {'code': '025', 'file': '6135535158289207849.vtt', 'start': '00:37:17.229', 'end': '00:37:23.229', 'text': \"Turner's observations of storms and dramatic skies really come together and culminate in this work...\"}, {'code': '026', 'file': '6170785672874404958.vtt', 'start': '00:08:02.377', 'end': '00:08:05.417', 'text': \"Shouldn't you believe in your own ability rather than someone else's?\"}, {'code': '027', 'file': '5976825379283792120.vtt', 'start': '00:08:33.488', 'end': '00:08:36.018', 'text': \"Well, it looks like he's missed all of them, actually.\"}, {'code': '028', 'file': '6026568831533621087.vtt', 'start': '00:11:00.792', 'end': '00:11:04.502', 'text': 'So there was no warnings on it, nothing of that nature.'}, {'code': '029', 'file': '6786626001083320011.vtt', 'start': '00:01:44.117', 'end': '00:01:45.416', 'text': 'Would you look at that!'}, {'code': '030', 'file': '6296242097087308509.vtt', 'start': '00:35:46.025', 'end': '00:35:48.135', 'text': \"It's not a great result having dead lambs...\"}, {'code': '031', 'file': '6285077329601348734.vtt', 'start': '00:41:54.357', 'end': '00:41:56.977', 'text': \"We don't often get much levels of aggressiveness.\"}, {'code': '032', 'file': '5925266444399973583.vtt', 'start': '00:21:24.628', 'end': '00:21:34.468', 'text': 'The battle between the wasp and the spider has been going on for a very long time and evolved into possibly the most epic battle of all.'}, {'code': '033', 'file': '5992708597841178489.vtt', 'start': '00:25:59.041', 'end': '00:26:01.851', 'text': \"It wasn't anything to do with you!\"}, {'code': '034', 'file': '6157810576673206395.vtt', 'start': '00:51:23.481', 'end': '00:51:27.601', 'text': \"I haven't handled this brilliantly, have I?\"}, {'code': '035', 'file': '6118829882991424621.vtt', 'start': '00:35:29.038', 'end': '00:35:33.908', 'text': \"This is the last place you'd expect to find sheep - look at it, there's nothing here, just sand.\"}, {'code': '036', 'file': '6165614961746744419.vtt', 'start': '00:24:36.944', 'end': '00:24:40.084', 'text': \"I have no idea what you're talking about.\"}, {'code': '037', 'file': '6351522191657378473.vtt', 'start': '00:22:59.149', 'end': '00:23:03.652', 'text': 'I need another plan, cos I thought my plan was working but I need another plan.'}, {'code': '038', 'file': '5957901323880871061.vtt', 'start': '00:32:57.176', 'end': '00:33:03.036', 'text': \"'But when I took a look at a map, it seems that there are some people 'who might be more in need than most.\"}, {'code': '039', 'file': '6724820992192941272.vtt', 'start': '00:02:16.679', 'end': '00:02:22.837', 'text': 'They would face the terror of execution and the trauma of civilian casualties.'}, {'code': '040', 'file': '6157795114790944374.vtt', 'start': '00:17:47.813', 'end': '00:17:54.473', 'text': 'There was just an enormous amount of thieving going on, and sometimes it got quite violent.'}, {'code': '041', 'file': '6356350164394816474.vtt', 'start': '00:48:08.799', 'end': '00:48:13.679', 'text': 'People were first drawn to the Wild West in search of riches from the land.'}, {'code': '042', 'file': '6005770022884969070.vtt', 'start': '00:22:04.198', 'end': '00:22:07.018', 'text': \"'Plant two seeds per unit and put them somewhere warm.\"}, {'code': '043', 'file': '6010868578562130609.vtt', 'start': '00:26:30.204', 'end': '00:26:33.994', 'text': 'Bar New York, there are more helicopters than any other city in the world.'}, {'code': '044', 'file': '6010590264681275644.vtt', 'start': '00:15:40.516', 'end': '00:15:44.406', 'text': \"But it's not a German vase and the material is the thing that tells us that.\"}, {'code': '045', 'file': '5999344322313448717.vtt', 'start': '00:04:38.634', 'end': '00:04:40.084', 'text': \"She's stamping her foot.\"}, {'code': '046', 'file': '6052979014933462992.vtt', 'start': '00:25:33.797', 'end': '00:25:37.077', 'text': 'This is a spy gun and it tells you the temperature of what your pan is.'}, {'code': '047', 'file': '5925611759749542295.vtt', 'start': '00:40:15.356', 'end': '00:40:25.206', 'text': 'Apart from the royal occasions, objects are made to commemorate all manner of events - from ship launches to moon landings to important moments in our military history.'}, {'code': '048', 'file': '6137019498986707547.vtt', 'start': '00:10:32.132', 'end': '00:10:38.512', 'text': 'On top of that, a recent survey found more than half of people thought carbohydrates were fattening.'}, {'code': '049', 'file': '5933404548411412231.vtt', 'start': '00:49:53.567', 'end': '00:50:00.557', 'text': \"The Maritime Heritage Centre was started by a group of volunteers determined to preserve the city's nautical history.\"}, {'code': '050', 'file': '6240206947266569588.vtt', 'start': '00:31:15.685', 'end': '00:31:17.895', 'text': 'One hour and 20 minutes.'}, {'code': '051', 'file': '5966855042223883556.vtt', 'start': '00:22:08.213', 'end': '00:22:13.463', 'text': 'The eagle-eyed cadets have spotted the kayakers, and waste no time in passing on the news.'}, {'code': '052', 'file': '6023978966254132189.vtt', 'start': '00:04:33.416', 'end': '00:04:35.996', 'text': \"We've had a few issues with that over the past few weeks.\"}, {'code': '053', 'file': '5867637432194743565.vtt', 'start': '00:21:27.702', 'end': '00:21:29.012', 'text': \"What's the first rule?\"}, {'code': '054', 'file': '6257761337619840450.vtt', 'start': '00:19:11.863', 'end': '00:19:15.853', 'text': 'Does being white make it difficult for it to hunt at night?'}, {'code': '055', 'file': '6366824301139582006.vtt', 'start': '00:00:08.179', 'end': '00:00:10.693', 'text': \"It's not for the faint-hearted.\"}, {'code': '056', 'file': '5928209355970165142.vtt', 'start': '00:26:33.013', 'end': '00:26:37.147', 'text': 'There was no-one else at the time doing that type of work.'}, {'code': '057', 'file': '5987128146850270993.vtt', 'start': '00:03:44.717', 'end': '00:03:51.657', 'text': \"'So he agreed to become one of the first 'to have a dead man's face transplanted onto his own.'\"}, {'code': '058', 'file': '5934408282268489292.vtt', 'start': '00:32:31.647', 'end': '00:32:33.757', 'text': 'What you think about the law and the police today?'}, {'code': '059', 'file': '6290262214121084137.vtt', 'start': '00:10:02.596', 'end': '00:10:12.816', 'text': 'But horticulture comes with small profit margins, normally between 2% and 8%, and that makes for some difficult sums if you are trying to run a business.'}, {'code': '060', 'file': '6047414025808034037.vtt', 'start': '00:26:47.115', 'end': '00:26:51.283', 'text': 'A relaxed-looking Lee finished the race in 59 seconds.'}, {'code': '061', 'file': '6130854073433323136.vtt', 'start': '00:27:59.200', 'end': '00:28:01.310', 'text': \"I'm going to pop these into the greenhouse.\"}, {'code': '062', 'file': '6164100985774907995.vtt', 'start': '00:35:19.703', 'end': '00:35:21.325', 'text': \"I haven't got loads.\"}, {'code': '063', 'file': '6059100631799409485.vtt', 'start': '00:30:30.346', 'end': '00:30:38.796', 'text': 'Later on in the programme, we will be following the water course down to help breathe new life into another fine example of this restoration project.'}, {'code': '064', 'file': '6118829882991424621.vtt', 'start': '00:13:48.754', 'end': '00:13:58.694', 'text': \"There is a debate that goes on where people like the Countryside Alliance claim that the legislation isn't being used and that it's not effective, whereas, in fact, the evidence is that it is being effective.\"}, {'code': '065', 'file': '6385655585248876901.vtt', 'start': '00:32:56.483', 'end': '00:32:59.803', 'text': 'Curtains were never opened at any time at all, front or back of house.'}, {'code': '066', 'file': '5947893620584452247.vtt', 'start': '00:30:54.968', 'end': '00:30:56.609', 'text': 'You go off and play, presumably.'}, {'code': '067', 'file': '6070722813302401768.vtt', 'start': '00:11:34.086', 'end': '00:11:40.276', 'text': \"Then leave them, because they won't show any signs of growth until next summer.\"}, {'code': '068', 'file': '6124055999197204899.vtt', 'start': '00:43:35.856', 'end': '00:43:37.736', 'text': 'He said so himself when he first met you.'}, {'code': '069', 'file': '5960483458219230511.vtt', 'start': '00:55:51.990', 'end': '00:55:54.470', 'text': 'All the juices have soaked into the rice.'}, {'code': '070', 'file': '6249968548957975525.vtt', 'start': '00:17:10.572', 'end': '00:17:15.302', 'text': 'Well, the condor is one of the largest flying birds in the world.'}, {'code': '071', 'file': '6036581688769750274.vtt', 'start': '00:20:32.649', 'end': '00:20:35.371', 'text': 'And the cubs are coping really well.'}, {'code': '072', 'file': '6035711957892310247.vtt', 'start': '00:42:24.916', 'end': '00:42:28.386', 'text': 'But I can help you, we could take it slowly, make up our own rules...'}, {'code': '073', 'file': '6259110386826469954.vtt', 'start': '00:04:28.592', 'end': '00:04:32.279', 'text': 'Probably about the youngest oyster we sell here is about four years old.'}, {'code': '074', 'file': '6023593707666665811.vtt', 'start': '00:24:50.343', 'end': '00:24:53.623', 'text': \"But muffled hearing isn't the only factor at play here.\"}, {'code': '075', 'file': '5915128603573543065.vtt', 'start': '00:22:40.649', 'end': '00:22:47.639', 'text': 'And that leaves me with a show... a cast... ..and no theatre.'}, {'code': '076', 'file': '6274851871484060612.vtt', 'start': '00:17:20.260', 'end': '00:17:22.272', 'text': 'We need to meet as soon as possible.'}, {'code': '077', 'file': '6163005769114423167.vtt', 'start': '00:22:13.487', 'end': '00:22:23.847', 'text': 'Now, from sheep rustling to flytipping, the countryside certainly has its share of crime, but as Tom has been finding out, a new national survey may help to change that.'}, {'code': '078', 'file': '6014949226990061588.vtt', 'start': '00:18:30.962', 'end': '00:18:35.692', 'text': \"Oh, that daughter-in-law of mine's got herself free chambermaids, has she?\"}, {'code': '079', 'file': '6147411172359393435.vtt', 'start': '00:37:26.484', 'end': '00:37:32.822', 'text': 'She could be in there for a week before anything happens, running the risk of her damaging herself even further with minimal impact.'}, {'code': '080', 'file': '5925241963065356687.vtt', 'start': '00:24:33.436', 'end': '00:24:41.316', 'text': 'And the Georgians loved their wine, and hidden underneath this side server is the grape juice that got the party started.'}, {'code': '081', 'file': '6273198738550790730.vtt', 'start': '00:44:20.860', 'end': '00:44:25.360', 'text': 'They are two children that I had with my first wife.'}, {'code': '082', 'file': '6078143228299678284.vtt', 'start': '00:13:17.307', 'end': '00:13:27.147', 'text': \"Before Christianity, Judaism had arrived and according to legend, this area has been the resting place for one of religion's holiest treasures for almost 3,000 years.\"}, {'code': '083', 'file': '6373770551747408642.vtt', 'start': '00:06:05.018', 'end': '00:06:09.798', 'text': 'I really rely very, very, very much on the director.'}, {'code': '084', 'file': '6237606774065566357.vtt', 'start': '00:03:16.942', 'end': '00:03:19.142', 'text': 'I think it needs more pepperoni, though.'}, {'code': '085', 'file': '6175991173237160649.vtt', 'start': '00:19:44.880', 'end': '00:19:53.030', 'text': \"Um, if you go back far enough, if you go back to the 1940s and '50s, this was essentially where grey seals bred in eastern Britain.\"}, {'code': '086', 'file': '6183800712271483017.vtt', 'start': '00:53:45.020', 'end': '00:53:49.230', 'text': \"And there would've been a time when you'd have understood that, or at least your wife would!\"}, {'code': '087', 'file': '6161239249065577328.vtt', 'start': '00:09:04.865', 'end': '00:09:07.065', 'text': \"Let's think about how she got here.\"}, {'code': '088', 'file': '6270230057155793464.vtt', 'start': '00:01:20.058', 'end': '00:01:21.278', 'text': 'What do you think?'}, {'code': '089', 'file': '6064277785378015921.vtt', 'start': '00:26:26.836', 'end': '00:26:33.486', 'text': 'Rain water seeps through the centuries-old peat before carving its way across South Devon to reach the sea.'}, {'code': '090', 'file': '5921437051537909155.vtt', 'start': '00:35:23.299', 'end': '00:35:24.889', 'text': 'It takes hours and hours and hours.'}, {'code': '091', 'file': '6275965127007184076.vtt', 'start': '00:24:37.678', 'end': '00:24:40.728', 'text': \"Last time I checked, vampires aren't big on compassion.\"}, {'code': '092', 'file': '6577144554674233627.vtt', 'start': '00:28:24.471', 'end': '00:28:30.371', 'text': 'All across Britain at this time, a new way of life and technology emerged.'}, {'code': '093', 'file': '6129252480128642705.vtt', 'start': '00:18:35.260', 'end': '00:18:43.016', 'text': 'Because, sometimes, talking about feelings helps to process them.'}, {'code': '094', 'file': '6039179284990373014.vtt', 'start': '00:10:13.982', 'end': '00:10:23.492', 'text': 'Tigers are incredibly powerful swimmers, they have these huge paws, and actually when they spread their toes out, there is webbing, if you like, in between their toes.'}, {'code': '095', 'file': '6352730795454475067.vtt', 'start': '00:20:21.687', 'end': '00:20:25.957', 'text': 'But the tenacious turtle fights back, and wriggles free.'}, {'code': '096', 'file': '6268478998989212414.vtt', 'start': '00:52:20.074', 'end': '00:52:25.414', 'text': 'So, these are the people, obviously, the people who are going to watch the runners come in at the finish line.'}, {'code': '097', 'file': '6333418904504754384.vtt', 'start': '00:32:49.773', 'end': '00:32:51.323', 'text': \"They're the wonders of the age.\"}, {'code': '098', 'file': '6033968630666861125.vtt', 'start': '00:55:58.274', 'end': '00:56:00.154', 'text': 'They were allowed to freely roam around.'}, {'code': '099', 'file': '6129605526440376534.vtt', 'start': '00:43:12.037', 'end': '00:43:14.097', 'text': 'I want to say something else about the castle.'}, {'code': '100', 'file': '6274706272088545077.vtt', 'start': '00:42:34.093', 'end': '00:42:45.353', 'text': \"And, there, he attacked the temple establishment, overturning the tables of the money changers and telling them they had turned God's house into a den of thieves.\"}]\n",
      "{'code': '001', 'file': '6191576750560895398.vtt', 'start': '00:43:43.239', 'end': '00:43:44.229', 'text': 'Help me.'}\n",
      "{'video_found': True, 'audio_found': False, 'metadata': {'major_brand': 'isom', 'minor_version': '512', 'compatible_brands': 'isomiso2avc1mp41', 'encoder': 'Lavf61.7.100'}, 'inputs': [{'streams': [{'input_number': 0, 'stream_number': 0, 'stream_type': 'video', 'language': None, 'default': True, 'size': [444, 444], 'bitrate': 248, 'fps': 25.0, 'codec_name': 'h264', 'profile': '(High)', 'metadata': {'Metadata': '', 'handler_name': 'VideoHandler', 'vendor_id': '[0][0][0][0]', 'encoder': 'Lavc61.19.100 libx264'}}], 'input_number': 0}], 'duration': 14.0, 'bitrate': 250, 'start': 0.0, 'default_video_input_number': 0, 'default_video_stream_number': 0, 'video_codec_name': 'h264', 'video_profile': '(High)', 'video_size': [444, 444], 'video_bitrate': 248, 'video_fps': 25.0, 'video_duration': 14.0, 'video_n_frames': 350}\n",
      "c:\\Users\\taylo\\OneDrive\\Documents\\Dissertation_Work\\signLanguageTranslator\\preprocessing\\.venv\\Lib\\site-packages\\imageio_ffmpeg\\binaries\\ffmpeg-win-x86_64-v7.1.exe -i C:\\Users\\taylo\\OneDrive - Queen Mary, University of London\\Documents\\test_videos\\clip_001.mp4 -loglevel error -f image2pipe -vf scale=444:444 -sws_flags bicubic -pix_fmt rgb24 -vcodec rawvideo -\n",
      "MoviePy - Building video C:\\Users\\taylo\\OneDrive - Queen Mary, University of London\\Documents\\test_videos_extracted\\001_edited.mp4.\n",
      "MoviePy - Writing video C:\\Users\\taylo\\OneDrive - Queen Mary, University of London\\Documents\\test_videos_extracted\\001_edited.mp4\n",
      "\n"
     ]
    },
    {
     "name": "stderr",
     "output_type": "stream",
     "text": [
      "                                                             \r"
     ]
    },
    {
     "name": "stdout",
     "output_type": "stream",
     "text": [
      "MoviePy - Done !\n",
      "MoviePy - video ready C:\\Users\\taylo\\OneDrive - Queen Mary, University of London\\Documents\\test_videos_extracted\\001_edited.mp4\n",
      "Extracted clip: 001_edited.mp4\n",
      "{'code': '002', 'file': '5904461193300402199.vtt', 'start': '00:53:43.588', 'end': '00:53:48.558', 'text': 'It would start to concern me a little bit, looking at five years, looking at retiring.'}\n",
      "{'video_found': True, 'audio_found': False, 'metadata': {'major_brand': 'isom', 'minor_version': '512', 'compatible_brands': 'isomiso2avc1mp41', 'encoder': 'Lavf61.7.100'}, 'inputs': [{'streams': [{'input_number': 0, 'stream_number': 0, 'stream_type': 'video', 'language': None, 'default': True, 'size': [444, 444], 'bitrate': 344, 'fps': 25.0, 'codec_name': 'h264', 'profile': '(High)', 'metadata': {'Metadata': '', 'handler_name': 'VideoHandler', 'vendor_id': '[0][0][0][0]', 'encoder': 'Lavc61.19.100 libx264'}}], 'input_number': 0}], 'duration': 18.0, 'bitrate': 347, 'start': 0.0, 'default_video_input_number': 0, 'default_video_stream_number': 0, 'video_codec_name': 'h264', 'video_profile': '(High)', 'video_size': [444, 444], 'video_bitrate': 344, 'video_fps': 25.0, 'video_duration': 18.0, 'video_n_frames': 450}\n",
      "c:\\Users\\taylo\\OneDrive\\Documents\\Dissertation_Work\\signLanguageTranslator\\preprocessing\\.venv\\Lib\\site-packages\\imageio_ffmpeg\\binaries\\ffmpeg-win-x86_64-v7.1.exe -i C:\\Users\\taylo\\OneDrive - Queen Mary, University of London\\Documents\\test_videos\\clip_002.mp4 -loglevel error -f image2pipe -vf scale=444:444 -sws_flags bicubic -pix_fmt rgb24 -vcodec rawvideo -\n",
      "MoviePy - Building video C:\\Users\\taylo\\OneDrive - Queen Mary, University of London\\Documents\\test_videos_extracted\\002_edited.mp4.\n",
      "MoviePy - Writing video C:\\Users\\taylo\\OneDrive - Queen Mary, University of London\\Documents\\test_videos_extracted\\002_edited.mp4\n",
      "\n"
     ]
    },
    {
     "name": "stderr",
     "output_type": "stream",
     "text": [
      "                                                                        \r"
     ]
    },
    {
     "name": "stdout",
     "output_type": "stream",
     "text": [
      "MoviePy - Done !\n",
      "MoviePy - video ready C:\\Users\\taylo\\OneDrive - Queen Mary, University of London\\Documents\\test_videos_extracted\\002_edited.mp4\n",
      "Extracted clip: 002_edited.mp4\n",
      "{'code': '003', 'file': '6233608589009718329.vtt', 'start': '00:20:17.657', 'end': '00:20:20.657', 'text': 'Oh, God, I hate these Land Cruisers.'}\n",
      "{'video_found': True, 'audio_found': False, 'metadata': {'major_brand': 'isom', 'minor_version': '512', 'compatible_brands': 'isomiso2avc1mp41', 'encoder': 'Lavf61.7.100'}, 'inputs': [{'streams': [{'input_number': 0, 'stream_number': 0, 'stream_type': 'video', 'language': None, 'default': True, 'size': [444, 444], 'bitrate': 342, 'fps': 25.0, 'codec_name': 'h264', 'profile': '(High)', 'metadata': {'Metadata': '', 'handler_name': 'VideoHandler', 'vendor_id': '[0][0][0][0]', 'encoder': 'Lavc61.19.100 libx264'}}], 'input_number': 0}], 'duration': 16.0, 'bitrate': 345, 'start': 0.0, 'default_video_input_number': 0, 'default_video_stream_number': 0, 'video_codec_name': 'h264', 'video_profile': '(High)', 'video_size': [444, 444], 'video_bitrate': 342, 'video_fps': 25.0, 'video_duration': 16.0, 'video_n_frames': 400}\n",
      "c:\\Users\\taylo\\OneDrive\\Documents\\Dissertation_Work\\signLanguageTranslator\\preprocessing\\.venv\\Lib\\site-packages\\imageio_ffmpeg\\binaries\\ffmpeg-win-x86_64-v7.1.exe -i C:\\Users\\taylo\\OneDrive - Queen Mary, University of London\\Documents\\test_videos\\clip_003.mp4 -loglevel error -f image2pipe -vf scale=444:444 -sws_flags bicubic -pix_fmt rgb24 -vcodec rawvideo -\n",
      "MoviePy - Building video C:\\Users\\taylo\\OneDrive - Queen Mary, University of London\\Documents\\test_videos_extracted\\003_edited.mp4.\n",
      "MoviePy - Writing video C:\\Users\\taylo\\OneDrive - Queen Mary, University of London\\Documents\\test_videos_extracted\\003_edited.mp4\n",
      "\n"
     ]
    },
    {
     "name": "stderr",
     "output_type": "stream",
     "text": [
      "                                                                       \r"
     ]
    },
    {
     "name": "stdout",
     "output_type": "stream",
     "text": [
      "MoviePy - Done !\n",
      "MoviePy - video ready C:\\Users\\taylo\\OneDrive - Queen Mary, University of London\\Documents\\test_videos_extracted\\003_edited.mp4\n",
      "Extracted clip: 003_edited.mp4\n",
      "{'code': '004', 'file': '5958272409055245472.vtt', 'start': '00:27:03.521', 'end': '00:27:05.061', 'text': \"Hey, that's lovely!\"}\n",
      "{'video_found': True, 'audio_found': False, 'metadata': {'major_brand': 'isom', 'minor_version': '512', 'compatible_brands': 'isomiso2avc1mp41', 'encoder': 'Lavf61.7.100'}, 'inputs': [{'streams': [{'input_number': 0, 'stream_number': 0, 'stream_type': 'video', 'language': None, 'default': True, 'size': [444, 444], 'bitrate': 472, 'fps': 25.0, 'codec_name': 'h264', 'profile': '(High)', 'metadata': {'Metadata': '', 'handler_name': 'VideoHandler', 'vendor_id': '[0][0][0][0]', 'encoder': 'Lavc61.19.100 libx264'}}], 'input_number': 0}], 'duration': 14.56, 'bitrate': 474, 'start': 0.0, 'default_video_input_number': 0, 'default_video_stream_number': 0, 'video_codec_name': 'h264', 'video_profile': '(High)', 'video_size': [444, 444], 'video_bitrate': 472, 'video_fps': 25.0, 'video_duration': 14.56, 'video_n_frames': 364}\n",
      "c:\\Users\\taylo\\OneDrive\\Documents\\Dissertation_Work\\signLanguageTranslator\\preprocessing\\.venv\\Lib\\site-packages\\imageio_ffmpeg\\binaries\\ffmpeg-win-x86_64-v7.1.exe -i C:\\Users\\taylo\\OneDrive - Queen Mary, University of London\\Documents\\test_videos\\clip_004.mp4 -loglevel error -f image2pipe -vf scale=444:444 -sws_flags bicubic -pix_fmt rgb24 -vcodec rawvideo -\n",
      "MoviePy - Building video C:\\Users\\taylo\\OneDrive - Queen Mary, University of London\\Documents\\test_videos_extracted\\004_edited.mp4.\n",
      "MoviePy - Writing video C:\\Users\\taylo\\OneDrive - Queen Mary, University of London\\Documents\\test_videos_extracted\\004_edited.mp4\n",
      "\n"
     ]
    },
    {
     "name": "stderr",
     "output_type": "stream",
     "text": [
      "                                                                     \r"
     ]
    },
    {
     "name": "stdout",
     "output_type": "stream",
     "text": [
      "MoviePy - Done !\n",
      "MoviePy - video ready C:\\Users\\taylo\\OneDrive - Queen Mary, University of London\\Documents\\test_videos_extracted\\004_edited.mp4\n",
      "Extracted clip: 004_edited.mp4\n",
      "{'code': '005', 'file': '6285177831836075138.vtt', 'start': '00:25:00.073', 'end': '00:25:02.714', 'text': 'We have here two perfectly great classic soups.'}\n",
      "{'video_found': True, 'audio_found': False, 'metadata': {'major_brand': 'isom', 'minor_version': '512', 'compatible_brands': 'isomiso2avc1mp41', 'encoder': 'Lavf61.7.100'}, 'inputs': [{'streams': [{'input_number': 0, 'stream_number': 0, 'stream_type': 'video', 'language': None, 'default': True, 'size': [444, 444], 'bitrate': 331, 'fps': 25.0, 'codec_name': 'h264', 'profile': '(High)', 'metadata': {'Metadata': '', 'handler_name': 'VideoHandler', 'vendor_id': '[0][0][0][0]', 'encoder': 'Lavc61.19.100 libx264'}}], 'input_number': 0}], 'duration': 15.68, 'bitrate': 334, 'start': 0.0, 'default_video_input_number': 0, 'default_video_stream_number': 0, 'video_codec_name': 'h264', 'video_profile': '(High)', 'video_size': [444, 444], 'video_bitrate': 331, 'video_fps': 25.0, 'video_duration': 15.68, 'video_n_frames': 392}\n",
      "c:\\Users\\taylo\\OneDrive\\Documents\\Dissertation_Work\\signLanguageTranslator\\preprocessing\\.venv\\Lib\\site-packages\\imageio_ffmpeg\\binaries\\ffmpeg-win-x86_64-v7.1.exe -i C:\\Users\\taylo\\OneDrive - Queen Mary, University of London\\Documents\\test_videos\\clip_005.mp4 -loglevel error -f image2pipe -vf scale=444:444 -sws_flags bicubic -pix_fmt rgb24 -vcodec rawvideo -\n",
      "MoviePy - Building video C:\\Users\\taylo\\OneDrive - Queen Mary, University of London\\Documents\\test_videos_extracted\\005_edited.mp4.\n",
      "MoviePy - Writing video C:\\Users\\taylo\\OneDrive - Queen Mary, University of London\\Documents\\test_videos_extracted\\005_edited.mp4\n",
      "\n"
     ]
    },
    {
     "name": "stderr",
     "output_type": "stream",
     "text": [
      "                                                                       \r"
     ]
    },
    {
     "name": "stdout",
     "output_type": "stream",
     "text": [
      "MoviePy - Done !\n",
      "MoviePy - video ready C:\\Users\\taylo\\OneDrive - Queen Mary, University of London\\Documents\\test_videos_extracted\\005_edited.mp4\n",
      "Extracted clip: 005_edited.mp4\n",
      "{'code': '006', 'file': '6073370660661421086.vtt', 'start': '00:09:38.952', 'end': '00:09:40.430', 'text': \"They don't want to kill us!\"}\n",
      "{'video_found': True, 'audio_found': False, 'metadata': {'major_brand': 'isom', 'minor_version': '512', 'compatible_brands': 'isomiso2avc1mp41', 'encoder': 'Lavf61.7.100'}, 'inputs': [{'streams': [{'input_number': 0, 'stream_number': 0, 'stream_type': 'video', 'language': None, 'default': True, 'size': [444, 444], 'bitrate': 405, 'fps': 25.0, 'codec_name': 'h264', 'profile': '(High)', 'metadata': {'Metadata': '', 'handler_name': 'VideoHandler', 'vendor_id': '[0][0][0][0]', 'encoder': 'Lavc61.19.100 libx264'}}], 'input_number': 0}], 'duration': 14.48, 'bitrate': 407, 'start': 0.0, 'default_video_input_number': 0, 'default_video_stream_number': 0, 'video_codec_name': 'h264', 'video_profile': '(High)', 'video_size': [444, 444], 'video_bitrate': 405, 'video_fps': 25.0, 'video_duration': 14.48, 'video_n_frames': 362}\n",
      "c:\\Users\\taylo\\OneDrive\\Documents\\Dissertation_Work\\signLanguageTranslator\\preprocessing\\.venv\\Lib\\site-packages\\imageio_ffmpeg\\binaries\\ffmpeg-win-x86_64-v7.1.exe -i C:\\Users\\taylo\\OneDrive - Queen Mary, University of London\\Documents\\test_videos\\clip_006.mp4 -loglevel error -f image2pipe -vf scale=444:444 -sws_flags bicubic -pix_fmt rgb24 -vcodec rawvideo -\n",
      "MoviePy - Building video C:\\Users\\taylo\\OneDrive - Queen Mary, University of London\\Documents\\test_videos_extracted\\006_edited.mp4.\n",
      "MoviePy - Writing video C:\\Users\\taylo\\OneDrive - Queen Mary, University of London\\Documents\\test_videos_extracted\\006_edited.mp4\n",
      "\n"
     ]
    },
    {
     "name": "stderr",
     "output_type": "stream",
     "text": [
      "                                                                     \r"
     ]
    },
    {
     "name": "stdout",
     "output_type": "stream",
     "text": [
      "MoviePy - Done !\n",
      "MoviePy - video ready C:\\Users\\taylo\\OneDrive - Queen Mary, University of London\\Documents\\test_videos_extracted\\006_edited.mp4\n",
      "Extracted clip: 006_edited.mp4\n",
      "{'code': '007', 'file': '6044816429587412137.vtt', 'start': '00:06:46.955', 'end': '00:06:48.154', 'text': \"I'm glad you liked it.\"}\n",
      "{'video_found': True, 'audio_found': False, 'metadata': {'major_brand': 'isom', 'minor_version': '512', 'compatible_brands': 'isomiso2avc1mp41', 'encoder': 'Lavf61.7.100'}, 'inputs': [{'streams': [{'input_number': 0, 'stream_number': 0, 'stream_type': 'video', 'language': None, 'default': True, 'size': [444, 444], 'bitrate': 550, 'fps': 25.0, 'codec_name': 'h264', 'profile': '(High)', 'metadata': {'Metadata': '', 'handler_name': 'VideoHandler', 'vendor_id': '[0][0][0][0]', 'encoder': 'Lavc61.19.100 libx264'}}], 'input_number': 0}], 'duration': 14.2, 'bitrate': 552, 'start': 0.0, 'default_video_input_number': 0, 'default_video_stream_number': 0, 'video_codec_name': 'h264', 'video_profile': '(High)', 'video_size': [444, 444], 'video_bitrate': 550, 'video_fps': 25.0, 'video_duration': 14.2, 'video_n_frames': 355}\n",
      "c:\\Users\\taylo\\OneDrive\\Documents\\Dissertation_Work\\signLanguageTranslator\\preprocessing\\.venv\\Lib\\site-packages\\imageio_ffmpeg\\binaries\\ffmpeg-win-x86_64-v7.1.exe -i C:\\Users\\taylo\\OneDrive - Queen Mary, University of London\\Documents\\test_videos\\clip_007.mp4 -loglevel error -f image2pipe -vf scale=444:444 -sws_flags bicubic -pix_fmt rgb24 -vcodec rawvideo -\n",
      "MoviePy - Building video C:\\Users\\taylo\\OneDrive - Queen Mary, University of London\\Documents\\test_videos_extracted\\007_edited.mp4.\n",
      "MoviePy - Writing video C:\\Users\\taylo\\OneDrive - Queen Mary, University of London\\Documents\\test_videos_extracted\\007_edited.mp4\n",
      "\n"
     ]
    },
    {
     "name": "stderr",
     "output_type": "stream",
     "text": [
      "                                                                      \r"
     ]
    },
    {
     "name": "stdout",
     "output_type": "stream",
     "text": [
      "MoviePy - Done !\n",
      "MoviePy - video ready C:\\Users\\taylo\\OneDrive - Queen Mary, University of London\\Documents\\test_videos_extracted\\007_edited.mp4\n",
      "Extracted clip: 007_edited.mp4\n",
      "{'code': '008', 'file': '6175991173237160649.vtt', 'start': '00:18:47.030', 'end': '00:18:48.860', 'text': 'The most well-love bird, unmistakable.'}\n",
      "{'video_found': True, 'audio_found': False, 'metadata': {'major_brand': 'isom', 'minor_version': '512', 'compatible_brands': 'isomiso2avc1mp41', 'encoder': 'Lavf61.7.100'}, 'inputs': [{'streams': [{'input_number': 0, 'stream_number': 0, 'stream_type': 'video', 'language': None, 'default': True, 'size': [444, 444], 'bitrate': 303, 'fps': 25.0, 'codec_name': 'h264', 'profile': '(High)', 'metadata': {'Metadata': '', 'handler_name': 'VideoHandler', 'vendor_id': '[0][0][0][0]', 'encoder': 'Lavc61.19.100 libx264'}}], 'input_number': 0}], 'duration': 14.84, 'bitrate': 306, 'start': 0.0, 'default_video_input_number': 0, 'default_video_stream_number': 0, 'video_codec_name': 'h264', 'video_profile': '(High)', 'video_size': [444, 444], 'video_bitrate': 303, 'video_fps': 25.0, 'video_duration': 14.84, 'video_n_frames': 371}\n",
      "c:\\Users\\taylo\\OneDrive\\Documents\\Dissertation_Work\\signLanguageTranslator\\preprocessing\\.venv\\Lib\\site-packages\\imageio_ffmpeg\\binaries\\ffmpeg-win-x86_64-v7.1.exe -i C:\\Users\\taylo\\OneDrive - Queen Mary, University of London\\Documents\\test_videos\\clip_008.mp4 -loglevel error -f image2pipe -vf scale=444:444 -sws_flags bicubic -pix_fmt rgb24 -vcodec rawvideo -\n",
      "MoviePy - Building video C:\\Users\\taylo\\OneDrive - Queen Mary, University of London\\Documents\\test_videos_extracted\\008_edited.mp4.\n",
      "MoviePy - Writing video C:\\Users\\taylo\\OneDrive - Queen Mary, University of London\\Documents\\test_videos_extracted\\008_edited.mp4\n",
      "\n"
     ]
    },
    {
     "name": "stderr",
     "output_type": "stream",
     "text": [
      "                                                                      \r"
     ]
    },
    {
     "name": "stdout",
     "output_type": "stream",
     "text": [
      "MoviePy - Done !\n",
      "MoviePy - video ready C:\\Users\\taylo\\OneDrive - Queen Mary, University of London\\Documents\\test_videos_extracted\\008_edited.mp4\n",
      "Extracted clip: 008_edited.mp4\n",
      "{'code': '009', 'file': '6118829882991424621.vtt', 'start': '00:12:07.824', 'end': '00:12:09.844', 'text': 'LEAVE IT!'}\n",
      "{'video_found': True, 'audio_found': False, 'metadata': {'major_brand': 'isom', 'minor_version': '512', 'compatible_brands': 'isomiso2avc1mp41', 'encoder': 'Lavf61.7.100'}, 'inputs': [{'streams': [{'input_number': 0, 'stream_number': 0, 'stream_type': 'video', 'language': None, 'default': True, 'size': [444, 444], 'bitrate': 388, 'fps': 25.0, 'codec_name': 'h264', 'profile': '(High)', 'metadata': {'Metadata': '', 'handler_name': 'VideoHandler', 'vendor_id': '[0][0][0][0]', 'encoder': 'Lavc61.19.100 libx264'}}], 'input_number': 0}], 'duration': 15.04, 'bitrate': 391, 'start': 0.0, 'default_video_input_number': 0, 'default_video_stream_number': 0, 'video_codec_name': 'h264', 'video_profile': '(High)', 'video_size': [444, 444], 'video_bitrate': 388, 'video_fps': 25.0, 'video_duration': 15.04, 'video_n_frames': 376}\n",
      "c:\\Users\\taylo\\OneDrive\\Documents\\Dissertation_Work\\signLanguageTranslator\\preprocessing\\.venv\\Lib\\site-packages\\imageio_ffmpeg\\binaries\\ffmpeg-win-x86_64-v7.1.exe -i C:\\Users\\taylo\\OneDrive - Queen Mary, University of London\\Documents\\test_videos\\clip_009.mp4 -loglevel error -f image2pipe -vf scale=444:444 -sws_flags bicubic -pix_fmt rgb24 -vcodec rawvideo -\n",
      "MoviePy - Building video C:\\Users\\taylo\\OneDrive - Queen Mary, University of London\\Documents\\test_videos_extracted\\009_edited.mp4.\n",
      "MoviePy - Writing video C:\\Users\\taylo\\OneDrive - Queen Mary, University of London\\Documents\\test_videos_extracted\\009_edited.mp4\n",
      "\n"
     ]
    },
    {
     "name": "stderr",
     "output_type": "stream",
     "text": [
      "                                                                       \r"
     ]
    },
    {
     "name": "stdout",
     "output_type": "stream",
     "text": [
      "MoviePy - Done !\n",
      "MoviePy - video ready C:\\Users\\taylo\\OneDrive - Queen Mary, University of London\\Documents\\test_videos_extracted\\009_edited.mp4\n",
      "Extracted clip: 009_edited.mp4\n",
      "{'code': '010', 'file': '6075545632079083725.vtt', 'start': '00:27:39.342', 'end': '00:27:42.062', 'text': 'I thought that was absolutely fascinating.'}\n",
      "{'video_found': True, 'audio_found': False, 'metadata': {'major_brand': 'isom', 'minor_version': '512', 'compatible_brands': 'isomiso2avc1mp41', 'encoder': 'Lavf61.7.100'}, 'inputs': [{'streams': [{'input_number': 0, 'stream_number': 0, 'stream_type': 'video', 'language': None, 'default': True, 'size': [444, 444], 'bitrate': 322, 'fps': 25.0, 'codec_name': 'h264', 'profile': '(High)', 'metadata': {'Metadata': '', 'handler_name': 'VideoHandler', 'vendor_id': '[0][0][0][0]', 'encoder': 'Lavc61.19.100 libx264'}}], 'input_number': 0}], 'duration': 15.72, 'bitrate': 325, 'start': 0.0, 'default_video_input_number': 0, 'default_video_stream_number': 0, 'video_codec_name': 'h264', 'video_profile': '(High)', 'video_size': [444, 444], 'video_bitrate': 322, 'video_fps': 25.0, 'video_duration': 15.72, 'video_n_frames': 393}\n",
      "c:\\Users\\taylo\\OneDrive\\Documents\\Dissertation_Work\\signLanguageTranslator\\preprocessing\\.venv\\Lib\\site-packages\\imageio_ffmpeg\\binaries\\ffmpeg-win-x86_64-v7.1.exe -i C:\\Users\\taylo\\OneDrive - Queen Mary, University of London\\Documents\\test_videos\\clip_010.mp4 -loglevel error -f image2pipe -vf scale=444:444 -sws_flags bicubic -pix_fmt rgb24 -vcodec rawvideo -\n",
      "MoviePy - Building video C:\\Users\\taylo\\OneDrive - Queen Mary, University of London\\Documents\\test_videos_extracted\\010_edited.mp4.\n",
      "MoviePy - Writing video C:\\Users\\taylo\\OneDrive - Queen Mary, University of London\\Documents\\test_videos_extracted\\010_edited.mp4\n",
      "\n"
     ]
    },
    {
     "name": "stderr",
     "output_type": "stream",
     "text": [
      "                                                                       \r"
     ]
    },
    {
     "name": "stdout",
     "output_type": "stream",
     "text": [
      "MoviePy - Done !\n",
      "MoviePy - video ready C:\\Users\\taylo\\OneDrive - Queen Mary, University of London\\Documents\\test_videos_extracted\\010_edited.mp4\n",
      "Extracted clip: 010_edited.mp4\n",
      "{'code': '011', 'file': '6240919482340977071.vtt', 'start': '00:38:59.702', 'end': '00:39:05.332', 'text': 'I expect she would be quite pleased because she did make us try and write properly, you know.'}\n",
      "{'video_found': True, 'audio_found': False, 'metadata': {'major_brand': 'isom', 'minor_version': '512', 'compatible_brands': 'isomiso2avc1mp41', 'encoder': 'Lavf61.7.100'}, 'inputs': [{'streams': [{'input_number': 0, 'stream_number': 0, 'stream_type': 'video', 'language': None, 'default': True, 'size': [444, 444], 'bitrate': 331, 'fps': 25.0, 'codec_name': 'h264', 'profile': '(High)', 'metadata': {'Metadata': '', 'handler_name': 'VideoHandler', 'vendor_id': '[0][0][0][0]', 'encoder': 'Lavc61.19.100 libx264'}}], 'input_number': 0}], 'duration': 18.64, 'bitrate': 333, 'start': 0.0, 'default_video_input_number': 0, 'default_video_stream_number': 0, 'video_codec_name': 'h264', 'video_profile': '(High)', 'video_size': [444, 444], 'video_bitrate': 331, 'video_fps': 25.0, 'video_duration': 18.64, 'video_n_frames': 466}\n",
      "c:\\Users\\taylo\\OneDrive\\Documents\\Dissertation_Work\\signLanguageTranslator\\preprocessing\\.venv\\Lib\\site-packages\\imageio_ffmpeg\\binaries\\ffmpeg-win-x86_64-v7.1.exe -i C:\\Users\\taylo\\OneDrive - Queen Mary, University of London\\Documents\\test_videos\\clip_011.mp4 -loglevel error -f image2pipe -vf scale=444:444 -sws_flags bicubic -pix_fmt rgb24 -vcodec rawvideo -\n",
      "MoviePy - Building video C:\\Users\\taylo\\OneDrive - Queen Mary, University of London\\Documents\\test_videos_extracted\\011_edited.mp4.\n",
      "MoviePy - Writing video C:\\Users\\taylo\\OneDrive - Queen Mary, University of London\\Documents\\test_videos_extracted\\011_edited.mp4\n",
      "\n"
     ]
    },
    {
     "name": "stderr",
     "output_type": "stream",
     "text": [
      "                                                                         \r"
     ]
    },
    {
     "name": "stdout",
     "output_type": "stream",
     "text": [
      "MoviePy - Done !\n",
      "MoviePy - video ready C:\\Users\\taylo\\OneDrive - Queen Mary, University of London\\Documents\\test_videos_extracted\\011_edited.mp4\n",
      "Extracted clip: 011_edited.mp4\n",
      "{'code': '012', 'file': '6221297065255808656.vtt', 'start': '00:27:19.709', 'end': '00:27:21.635', 'text': 'I mean, you should be annoyed at him.'}\n",
      "{'video_found': True, 'audio_found': False, 'metadata': {'major_brand': 'isom', 'minor_version': '512', 'compatible_brands': 'isomiso2avc1mp41', 'encoder': 'Lavf61.7.100'}, 'inputs': [{'streams': [{'input_number': 0, 'stream_number': 0, 'stream_type': 'video', 'language': None, 'default': True, 'size': [444, 444], 'bitrate': 349, 'fps': 25.0, 'codec_name': 'h264', 'profile': '(High)', 'metadata': {'Metadata': '', 'handler_name': 'VideoHandler', 'vendor_id': '[0][0][0][0]', 'encoder': 'Lavc61.19.100 libx264'}}], 'input_number': 0}], 'duration': 14.96, 'bitrate': 352, 'start': 0.0, 'default_video_input_number': 0, 'default_video_stream_number': 0, 'video_codec_name': 'h264', 'video_profile': '(High)', 'video_size': [444, 444], 'video_bitrate': 349, 'video_fps': 25.0, 'video_duration': 14.96, 'video_n_frames': 374}\n",
      "c:\\Users\\taylo\\OneDrive\\Documents\\Dissertation_Work\\signLanguageTranslator\\preprocessing\\.venv\\Lib\\site-packages\\imageio_ffmpeg\\binaries\\ffmpeg-win-x86_64-v7.1.exe -i C:\\Users\\taylo\\OneDrive - Queen Mary, University of London\\Documents\\test_videos\\clip_012.mp4 -loglevel error -f image2pipe -vf scale=444:444 -sws_flags bicubic -pix_fmt rgb24 -vcodec rawvideo -\n",
      "MoviePy - Building video C:\\Users\\taylo\\OneDrive - Queen Mary, University of London\\Documents\\test_videos_extracted\\012_edited.mp4.\n",
      "MoviePy - Writing video C:\\Users\\taylo\\OneDrive - Queen Mary, University of London\\Documents\\test_videos_extracted\\012_edited.mp4\n",
      "\n"
     ]
    },
    {
     "name": "stderr",
     "output_type": "stream",
     "text": [
      "                                                                       \r"
     ]
    },
    {
     "name": "stdout",
     "output_type": "stream",
     "text": [
      "MoviePy - Done !\n",
      "MoviePy - video ready C:\\Users\\taylo\\OneDrive - Queen Mary, University of London\\Documents\\test_videos_extracted\\012_edited.mp4\n",
      "Extracted clip: 012_edited.mp4\n",
      "{'code': '013', 'file': '5912531007352921763.vtt', 'start': '00:47:12.421', 'end': '00:47:15.104', 'text': \"Yes, I'm happy with that one.\"}\n",
      "{'video_found': True, 'audio_found': False, 'metadata': {'major_brand': 'isom', 'minor_version': '512', 'compatible_brands': 'isomiso2avc1mp41', 'encoder': 'Lavf61.7.100'}, 'inputs': [{'streams': [{'input_number': 0, 'stream_number': 0, 'stream_type': 'video', 'language': None, 'default': True, 'size': [444, 444], 'bitrate': 474, 'fps': 25.0, 'codec_name': 'h264', 'profile': '(High)', 'metadata': {'Metadata': '', 'handler_name': 'VideoHandler', 'vendor_id': '[0][0][0][0]', 'encoder': 'Lavc61.19.100 libx264'}}], 'input_number': 0}], 'duration': 15.72, 'bitrate': 476, 'start': 0.0, 'default_video_input_number': 0, 'default_video_stream_number': 0, 'video_codec_name': 'h264', 'video_profile': '(High)', 'video_size': [444, 444], 'video_bitrate': 474, 'video_fps': 25.0, 'video_duration': 15.72, 'video_n_frames': 393}\n",
      "c:\\Users\\taylo\\OneDrive\\Documents\\Dissertation_Work\\signLanguageTranslator\\preprocessing\\.venv\\Lib\\site-packages\\imageio_ffmpeg\\binaries\\ffmpeg-win-x86_64-v7.1.exe -i C:\\Users\\taylo\\OneDrive - Queen Mary, University of London\\Documents\\test_videos\\clip_013.mp4 -loglevel error -f image2pipe -vf scale=444:444 -sws_flags bicubic -pix_fmt rgb24 -vcodec rawvideo -\n",
      "MoviePy - Building video C:\\Users\\taylo\\OneDrive - Queen Mary, University of London\\Documents\\test_videos_extracted\\013_edited.mp4.\n",
      "MoviePy - Writing video C:\\Users\\taylo\\OneDrive - Queen Mary, University of London\\Documents\\test_videos_extracted\\013_edited.mp4\n",
      "\n"
     ]
    },
    {
     "name": "stderr",
     "output_type": "stream",
     "text": [
      "                                                                       \r"
     ]
    },
    {
     "name": "stdout",
     "output_type": "stream",
     "text": [
      "MoviePy - Done !\n",
      "MoviePy - video ready C:\\Users\\taylo\\OneDrive - Queen Mary, University of London\\Documents\\test_videos_extracted\\013_edited.mp4\n",
      "Extracted clip: 013_edited.mp4\n",
      "{'code': '014', 'file': '6111065441113707054.vtt', 'start': '00:42:09.043', 'end': '00:42:11.203', 'text': \"Well, even I can't figure this one out.\"}\n",
      "{'video_found': True, 'audio_found': False, 'metadata': {'major_brand': 'isom', 'minor_version': '512', 'compatible_brands': 'isomiso2avc1mp41', 'encoder': 'Lavf61.7.100'}, 'inputs': [{'streams': [{'input_number': 0, 'stream_number': 0, 'stream_type': 'video', 'language': None, 'default': True, 'size': [444, 444], 'bitrate': 265, 'fps': 25.0, 'codec_name': 'h264', 'profile': '(High)', 'metadata': {'Metadata': '', 'handler_name': 'VideoHandler', 'vendor_id': '[0][0][0][0]', 'encoder': 'Lavc61.19.100 libx264'}}], 'input_number': 0}], 'duration': 15.16, 'bitrate': 268, 'start': 0.0, 'default_video_input_number': 0, 'default_video_stream_number': 0, 'video_codec_name': 'h264', 'video_profile': '(High)', 'video_size': [444, 444], 'video_bitrate': 265, 'video_fps': 25.0, 'video_duration': 15.16, 'video_n_frames': 379}\n",
      "c:\\Users\\taylo\\OneDrive\\Documents\\Dissertation_Work\\signLanguageTranslator\\preprocessing\\.venv\\Lib\\site-packages\\imageio_ffmpeg\\binaries\\ffmpeg-win-x86_64-v7.1.exe -i C:\\Users\\taylo\\OneDrive - Queen Mary, University of London\\Documents\\test_videos\\clip_014.mp4 -loglevel error -f image2pipe -vf scale=444:444 -sws_flags bicubic -pix_fmt rgb24 -vcodec rawvideo -\n",
      "MoviePy - Building video C:\\Users\\taylo\\OneDrive - Queen Mary, University of London\\Documents\\test_videos_extracted\\014_edited.mp4.\n",
      "MoviePy - Writing video C:\\Users\\taylo\\OneDrive - Queen Mary, University of London\\Documents\\test_videos_extracted\\014_edited.mp4\n",
      "\n"
     ]
    },
    {
     "name": "stderr",
     "output_type": "stream",
     "text": [
      "                                                                       \r"
     ]
    },
    {
     "name": "stdout",
     "output_type": "stream",
     "text": [
      "MoviePy - Done !\n",
      "MoviePy - video ready C:\\Users\\taylo\\OneDrive - Queen Mary, University of London\\Documents\\test_videos_extracted\\014_edited.mp4\n",
      "Extracted clip: 014_edited.mp4\n",
      "{'code': '015', 'file': '6231758317098601501.vtt', 'start': '00:03:30.539', 'end': '00:03:34.149', 'text': \"And it's not just the tents that are worrying her.\"}\n",
      "{'video_found': True, 'audio_found': False, 'metadata': {'major_brand': 'isom', 'minor_version': '512', 'compatible_brands': 'isomiso2avc1mp41', 'encoder': 'Lavf61.7.100'}, 'inputs': [{'streams': [{'input_number': 0, 'stream_number': 0, 'stream_type': 'video', 'language': None, 'default': True, 'size': [444, 444], 'bitrate': 393, 'fps': 25.0, 'codec_name': 'h264', 'profile': '(High)', 'metadata': {'Metadata': '', 'handler_name': 'VideoHandler', 'vendor_id': '[0][0][0][0]', 'encoder': 'Lavc61.19.100 libx264'}}], 'input_number': 0}], 'duration': 16.64, 'bitrate': 396, 'start': 0.0, 'default_video_input_number': 0, 'default_video_stream_number': 0, 'video_codec_name': 'h264', 'video_profile': '(High)', 'video_size': [444, 444], 'video_bitrate': 393, 'video_fps': 25.0, 'video_duration': 16.64, 'video_n_frames': 416}\n",
      "c:\\Users\\taylo\\OneDrive\\Documents\\Dissertation_Work\\signLanguageTranslator\\preprocessing\\.venv\\Lib\\site-packages\\imageio_ffmpeg\\binaries\\ffmpeg-win-x86_64-v7.1.exe -i C:\\Users\\taylo\\OneDrive - Queen Mary, University of London\\Documents\\test_videos\\clip_015.mp4 -loglevel error -f image2pipe -vf scale=444:444 -sws_flags bicubic -pix_fmt rgb24 -vcodec rawvideo -\n",
      "MoviePy - Building video C:\\Users\\taylo\\OneDrive - Queen Mary, University of London\\Documents\\test_videos_extracted\\015_edited.mp4.\n",
      "MoviePy - Writing video C:\\Users\\taylo\\OneDrive - Queen Mary, University of London\\Documents\\test_videos_extracted\\015_edited.mp4\n",
      "\n"
     ]
    },
    {
     "name": "stderr",
     "output_type": "stream",
     "text": [
      "                                                                       \r"
     ]
    },
    {
     "name": "stdout",
     "output_type": "stream",
     "text": [
      "MoviePy - Done !\n",
      "MoviePy - video ready C:\\Users\\taylo\\OneDrive - Queen Mary, University of London\\Documents\\test_videos_extracted\\015_edited.mp4\n",
      "Extracted clip: 015_edited.mp4\n",
      "{'code': '016', 'file': '6209781828438436925.vtt', 'start': '00:03:25.963', 'end': '00:03:27.510', 'text': \"Sorry, you'll have to excuse me.\"}\n",
      "{'video_found': True, 'audio_found': False, 'metadata': {'major_brand': 'isom', 'minor_version': '512', 'compatible_brands': 'isomiso2avc1mp41', 'encoder': 'Lavf61.7.100'}, 'inputs': [{'streams': [{'input_number': 0, 'stream_number': 0, 'stream_type': 'video', 'language': None, 'default': True, 'size': [444, 444], 'bitrate': 477, 'fps': 25.0, 'codec_name': 'h264', 'profile': '(High)', 'metadata': {'Metadata': '', 'handler_name': 'VideoHandler', 'vendor_id': '[0][0][0][0]', 'encoder': 'Lavc61.19.100 libx264'}}], 'input_number': 0}], 'duration': 14.56, 'bitrate': 480, 'start': 0.0, 'default_video_input_number': 0, 'default_video_stream_number': 0, 'video_codec_name': 'h264', 'video_profile': '(High)', 'video_size': [444, 444], 'video_bitrate': 477, 'video_fps': 25.0, 'video_duration': 14.56, 'video_n_frames': 364}\n",
      "c:\\Users\\taylo\\OneDrive\\Documents\\Dissertation_Work\\signLanguageTranslator\\preprocessing\\.venv\\Lib\\site-packages\\imageio_ffmpeg\\binaries\\ffmpeg-win-x86_64-v7.1.exe -i C:\\Users\\taylo\\OneDrive - Queen Mary, University of London\\Documents\\test_videos\\clip_016.mp4 -loglevel error -f image2pipe -vf scale=444:444 -sws_flags bicubic -pix_fmt rgb24 -vcodec rawvideo -\n",
      "MoviePy - Building video C:\\Users\\taylo\\OneDrive - Queen Mary, University of London\\Documents\\test_videos_extracted\\016_edited.mp4.\n",
      "MoviePy - Writing video C:\\Users\\taylo\\OneDrive - Queen Mary, University of London\\Documents\\test_videos_extracted\\016_edited.mp4\n",
      "\n"
     ]
    },
    {
     "name": "stderr",
     "output_type": "stream",
     "text": [
      "                                                                     \r"
     ]
    },
    {
     "name": "stdout",
     "output_type": "stream",
     "text": [
      "MoviePy - Done !\n",
      "MoviePy - video ready C:\\Users\\taylo\\OneDrive - Queen Mary, University of London\\Documents\\test_videos_extracted\\016_edited.mp4\n",
      "Extracted clip: 016_edited.mp4\n",
      "{'code': '017', 'file': '6342696033864091923.vtt', 'start': '00:45:18.100', 'end': '00:45:20.170', 'text': 'A breeding colony for feathered friends.'}\n",
      "{'video_found': True, 'audio_found': False, 'metadata': {'major_brand': 'isom', 'minor_version': '512', 'compatible_brands': 'isomiso2avc1mp41', 'encoder': 'Lavf61.7.100'}, 'inputs': [{'streams': [{'input_number': 0, 'stream_number': 0, 'stream_type': 'video', 'language': None, 'default': True, 'size': [444, 444], 'bitrate': 506, 'fps': 25.0, 'codec_name': 'h264', 'profile': '(High)', 'metadata': {'Metadata': '', 'handler_name': 'VideoHandler', 'vendor_id': '[0][0][0][0]', 'encoder': 'Lavc61.19.100 libx264'}}], 'input_number': 0}], 'duration': 15.08, 'bitrate': 509, 'start': 0.0, 'default_video_input_number': 0, 'default_video_stream_number': 0, 'video_codec_name': 'h264', 'video_profile': '(High)', 'video_size': [444, 444], 'video_bitrate': 506, 'video_fps': 25.0, 'video_duration': 15.08, 'video_n_frames': 377}\n",
      "c:\\Users\\taylo\\OneDrive\\Documents\\Dissertation_Work\\signLanguageTranslator\\preprocessing\\.venv\\Lib\\site-packages\\imageio_ffmpeg\\binaries\\ffmpeg-win-x86_64-v7.1.exe -i C:\\Users\\taylo\\OneDrive - Queen Mary, University of London\\Documents\\test_videos\\clip_017.mp4 -loglevel error -f image2pipe -vf scale=444:444 -sws_flags bicubic -pix_fmt rgb24 -vcodec rawvideo -\n",
      "MoviePy - Building video C:\\Users\\taylo\\OneDrive - Queen Mary, University of London\\Documents\\test_videos_extracted\\017_edited.mp4.\n",
      "MoviePy - Writing video C:\\Users\\taylo\\OneDrive - Queen Mary, University of London\\Documents\\test_videos_extracted\\017_edited.mp4\n",
      "\n"
     ]
    },
    {
     "name": "stderr",
     "output_type": "stream",
     "text": [
      "                                                                      \r"
     ]
    },
    {
     "name": "stdout",
     "output_type": "stream",
     "text": [
      "MoviePy - Done !\n",
      "MoviePy - video ready C:\\Users\\taylo\\OneDrive - Queen Mary, University of London\\Documents\\test_videos_extracted\\017_edited.mp4\n",
      "Extracted clip: 017_edited.mp4\n",
      "{'code': '018', 'file': '6536144796870811961.vtt', 'start': '00:02:05.895', 'end': '00:02:08.985', 'text': \"We all got up at 4 o'clock this morning!\"}\n",
      "{'video_found': True, 'audio_found': False, 'metadata': {'major_brand': 'isom', 'minor_version': '512', 'compatible_brands': 'isomiso2avc1mp41', 'encoder': 'Lavf61.7.100'}, 'inputs': [{'streams': [{'input_number': 0, 'stream_number': 0, 'stream_type': 'video', 'language': None, 'default': True, 'size': [444, 444], 'bitrate': 381, 'fps': 25.0, 'codec_name': 'h264', 'profile': '(High)', 'metadata': {'Metadata': '', 'handler_name': 'VideoHandler', 'vendor_id': '[0][0][0][0]', 'encoder': 'Lavc61.19.100 libx264'}}], 'input_number': 0}], 'duration': 16.12, 'bitrate': 383, 'start': 0.0, 'default_video_input_number': 0, 'default_video_stream_number': 0, 'video_codec_name': 'h264', 'video_profile': '(High)', 'video_size': [444, 444], 'video_bitrate': 381, 'video_fps': 25.0, 'video_duration': 16.12, 'video_n_frames': 403}\n",
      "c:\\Users\\taylo\\OneDrive\\Documents\\Dissertation_Work\\signLanguageTranslator\\preprocessing\\.venv\\Lib\\site-packages\\imageio_ffmpeg\\binaries\\ffmpeg-win-x86_64-v7.1.exe -i C:\\Users\\taylo\\OneDrive - Queen Mary, University of London\\Documents\\test_videos\\clip_018.mp4 -loglevel error -f image2pipe -vf scale=444:444 -sws_flags bicubic -pix_fmt rgb24 -vcodec rawvideo -\n",
      "MoviePy - Building video C:\\Users\\taylo\\OneDrive - Queen Mary, University of London\\Documents\\test_videos_extracted\\018_edited.mp4.\n",
      "MoviePy - Writing video C:\\Users\\taylo\\OneDrive - Queen Mary, University of London\\Documents\\test_videos_extracted\\018_edited.mp4\n",
      "\n"
     ]
    },
    {
     "name": "stderr",
     "output_type": "stream",
     "text": [
      "                                                                       \r"
     ]
    },
    {
     "name": "stdout",
     "output_type": "stream",
     "text": [
      "MoviePy - Done !\n",
      "MoviePy - video ready C:\\Users\\taylo\\OneDrive - Queen Mary, University of London\\Documents\\test_videos_extracted\\018_edited.mp4\n",
      "Extracted clip: 018_edited.mp4\n",
      "{'code': '019', 'file': '6779391128669000760.vtt', 'start': '00:17:17.687', 'end': '00:17:21.172', 'text': 'This labyrinth has given me a new perspective on Neapolitans.'}\n",
      "{'video_found': True, 'audio_found': False, 'metadata': {'major_brand': 'isom', 'minor_version': '512', 'compatible_brands': 'isomiso2avc1mp41', 'encoder': 'Lavf61.7.100'}, 'inputs': [{'streams': [{'input_number': 0, 'stream_number': 0, 'stream_type': 'video', 'language': None, 'default': True, 'size': [444, 444], 'bitrate': 541, 'fps': 25.0, 'codec_name': 'h264', 'profile': '(High)', 'metadata': {'Metadata': '', 'handler_name': 'VideoHandler', 'vendor_id': '[0][0][0][0]', 'encoder': 'Lavc61.19.100 libx264'}}], 'input_number': 0}], 'duration': 16.52, 'bitrate': 543, 'start': 0.0, 'default_video_input_number': 0, 'default_video_stream_number': 0, 'video_codec_name': 'h264', 'video_profile': '(High)', 'video_size': [444, 444], 'video_bitrate': 541, 'video_fps': 25.0, 'video_duration': 16.52, 'video_n_frames': 413}\n",
      "c:\\Users\\taylo\\OneDrive\\Documents\\Dissertation_Work\\signLanguageTranslator\\preprocessing\\.venv\\Lib\\site-packages\\imageio_ffmpeg\\binaries\\ffmpeg-win-x86_64-v7.1.exe -i C:\\Users\\taylo\\OneDrive - Queen Mary, University of London\\Documents\\test_videos\\clip_019.mp4 -loglevel error -f image2pipe -vf scale=444:444 -sws_flags bicubic -pix_fmt rgb24 -vcodec rawvideo -\n",
      "MoviePy - Building video C:\\Users\\taylo\\OneDrive - Queen Mary, University of London\\Documents\\test_videos_extracted\\019_edited.mp4.\n",
      "MoviePy - Writing video C:\\Users\\taylo\\OneDrive - Queen Mary, University of London\\Documents\\test_videos_extracted\\019_edited.mp4\n",
      "\n"
     ]
    },
    {
     "name": "stderr",
     "output_type": "stream",
     "text": [
      "                                                                       \r"
     ]
    },
    {
     "name": "stdout",
     "output_type": "stream",
     "text": [
      "MoviePy - Done !\n",
      "MoviePy - video ready C:\\Users\\taylo\\OneDrive - Queen Mary, University of London\\Documents\\test_videos_extracted\\019_edited.mp4\n",
      "Extracted clip: 019_edited.mp4\n",
      "{'code': '020', 'file': '6124443834744095233.vtt', 'start': '00:18:02.769', 'end': '00:18:06.239', 'text': \"No, I'm fine but I can definitely hear something.\"}\n",
      "{'video_found': True, 'audio_found': False, 'metadata': {'major_brand': 'isom', 'minor_version': '512', 'compatible_brands': 'isomiso2avc1mp41', 'encoder': 'Lavf61.7.100'}, 'inputs': [{'streams': [{'input_number': 0, 'stream_number': 0, 'stream_type': 'video', 'language': None, 'default': True, 'size': [444, 444], 'bitrate': 494, 'fps': 25.0, 'codec_name': 'h264', 'profile': '(High)', 'metadata': {'Metadata': '', 'handler_name': 'VideoHandler', 'vendor_id': '[0][0][0][0]', 'encoder': 'Lavc61.19.100 libx264'}}], 'input_number': 0}], 'duration': 16.48, 'bitrate': 497, 'start': 0.0, 'default_video_input_number': 0, 'default_video_stream_number': 0, 'video_codec_name': 'h264', 'video_profile': '(High)', 'video_size': [444, 444], 'video_bitrate': 494, 'video_fps': 25.0, 'video_duration': 16.48, 'video_n_frames': 412}\n",
      "c:\\Users\\taylo\\OneDrive\\Documents\\Dissertation_Work\\signLanguageTranslator\\preprocessing\\.venv\\Lib\\site-packages\\imageio_ffmpeg\\binaries\\ffmpeg-win-x86_64-v7.1.exe -i C:\\Users\\taylo\\OneDrive - Queen Mary, University of London\\Documents\\test_videos\\clip_020.mp4 -loglevel error -f image2pipe -vf scale=444:444 -sws_flags bicubic -pix_fmt rgb24 -vcodec rawvideo -\n",
      "MoviePy - Building video C:\\Users\\taylo\\OneDrive - Queen Mary, University of London\\Documents\\test_videos_extracted\\020_edited.mp4.\n",
      "MoviePy - Writing video C:\\Users\\taylo\\OneDrive - Queen Mary, University of London\\Documents\\test_videos_extracted\\020_edited.mp4\n",
      "\n"
     ]
    },
    {
     "name": "stderr",
     "output_type": "stream",
     "text": [
      "                                                                       \r"
     ]
    },
    {
     "name": "stdout",
     "output_type": "stream",
     "text": [
      "MoviePy - Done !\n",
      "MoviePy - video ready C:\\Users\\taylo\\OneDrive - Queen Mary, University of London\\Documents\\test_videos_extracted\\020_edited.mp4\n",
      "Extracted clip: 020_edited.mp4\n",
      "{'code': '021', 'file': '5982356867664289477.vtt', 'start': '00:13:37.893', 'end': '00:13:41.173', 'text': \"I don't think he's going to be coming back after this.\"}\n",
      "{'video_found': True, 'audio_found': False, 'metadata': {'major_brand': 'isom', 'minor_version': '512', 'compatible_brands': 'isomiso2avc1mp41', 'encoder': 'Lavf61.7.100'}, 'inputs': [{'streams': [{'input_number': 0, 'stream_number': 0, 'stream_type': 'video', 'language': None, 'default': True, 'size': [444, 444], 'bitrate': 560, 'fps': 25.0, 'codec_name': 'h264', 'profile': '(High)', 'metadata': {'Metadata': '', 'handler_name': 'VideoHandler', 'vendor_id': '[0][0][0][0]', 'encoder': 'Lavc61.19.100 libx264'}}], 'input_number': 0}], 'duration': 16.28, 'bitrate': 562, 'start': 0.0, 'default_video_input_number': 0, 'default_video_stream_number': 0, 'video_codec_name': 'h264', 'video_profile': '(High)', 'video_size': [444, 444], 'video_bitrate': 560, 'video_fps': 25.0, 'video_duration': 16.28, 'video_n_frames': 407}\n",
      "c:\\Users\\taylo\\OneDrive\\Documents\\Dissertation_Work\\signLanguageTranslator\\preprocessing\\.venv\\Lib\\site-packages\\imageio_ffmpeg\\binaries\\ffmpeg-win-x86_64-v7.1.exe -i C:\\Users\\taylo\\OneDrive - Queen Mary, University of London\\Documents\\test_videos\\clip_021.mp4 -loglevel error -f image2pipe -vf scale=444:444 -sws_flags bicubic -pix_fmt rgb24 -vcodec rawvideo -\n",
      "MoviePy - Building video C:\\Users\\taylo\\OneDrive - Queen Mary, University of London\\Documents\\test_videos_extracted\\021_edited.mp4.\n",
      "MoviePy - Writing video C:\\Users\\taylo\\OneDrive - Queen Mary, University of London\\Documents\\test_videos_extracted\\021_edited.mp4\n",
      "\n"
     ]
    },
    {
     "name": "stderr",
     "output_type": "stream",
     "text": [
      "                                                                       \r"
     ]
    },
    {
     "name": "stdout",
     "output_type": "stream",
     "text": [
      "MoviePy - Done !\n",
      "MoviePy - video ready C:\\Users\\taylo\\OneDrive - Queen Mary, University of London\\Documents\\test_videos_extracted\\021_edited.mp4\n",
      "Extracted clip: 021_edited.mp4\n",
      "{'code': '022', 'file': '6237351653029241223.vtt', 'start': '00:10:59.982', 'end': '00:11:02.752', 'text': 'Oh, I cannot believe how many there are.'}\n",
      "{'video_found': True, 'audio_found': False, 'metadata': {'major_brand': 'isom', 'minor_version': '512', 'compatible_brands': 'isomiso2avc1mp41', 'encoder': 'Lavf61.7.100'}, 'inputs': [{'streams': [{'input_number': 0, 'stream_number': 0, 'stream_type': 'video', 'language': None, 'default': True, 'size': [444, 444], 'bitrate': 449, 'fps': 25.0, 'codec_name': 'h264', 'profile': '(High)', 'metadata': {'Metadata': '', 'handler_name': 'VideoHandler', 'vendor_id': '[0][0][0][0]', 'encoder': 'Lavc61.19.100 libx264'}}], 'input_number': 0}], 'duration': 15.8, 'bitrate': 451, 'start': 0.0, 'default_video_input_number': 0, 'default_video_stream_number': 0, 'video_codec_name': 'h264', 'video_profile': '(High)', 'video_size': [444, 444], 'video_bitrate': 449, 'video_fps': 25.0, 'video_duration': 15.8, 'video_n_frames': 395}\n",
      "c:\\Users\\taylo\\OneDrive\\Documents\\Dissertation_Work\\signLanguageTranslator\\preprocessing\\.venv\\Lib\\site-packages\\imageio_ffmpeg\\binaries\\ffmpeg-win-x86_64-v7.1.exe -i C:\\Users\\taylo\\OneDrive - Queen Mary, University of London\\Documents\\test_videos\\clip_022.mp4 -loglevel error -f image2pipe -vf scale=444:444 -sws_flags bicubic -pix_fmt rgb24 -vcodec rawvideo -\n",
      "MoviePy - Building video C:\\Users\\taylo\\OneDrive - Queen Mary, University of London\\Documents\\test_videos_extracted\\022_edited.mp4.\n",
      "MoviePy - Writing video C:\\Users\\taylo\\OneDrive - Queen Mary, University of London\\Documents\\test_videos_extracted\\022_edited.mp4\n",
      "\n"
     ]
    },
    {
     "name": "stderr",
     "output_type": "stream",
     "text": [
      "                                                                       \r"
     ]
    },
    {
     "name": "stdout",
     "output_type": "stream",
     "text": [
      "MoviePy - Done !\n",
      "MoviePy - video ready C:\\Users\\taylo\\OneDrive - Queen Mary, University of London\\Documents\\test_videos_extracted\\022_edited.mp4\n",
      "Extracted clip: 022_edited.mp4\n",
      "{'code': '023', 'file': '6075545632079083725.vtt', 'start': '00:57:14.744', 'end': '00:57:25.564', 'text': 'Claims about the differences between male and female brains may always be controversial but at the end of our investigation, are our views any closer?'}\n",
      "{'video_found': True, 'audio_found': False, 'metadata': {'major_brand': 'isom', 'minor_version': '512', 'compatible_brands': 'isomiso2avc1mp41', 'encoder': 'Lavf61.7.100'}, 'inputs': [{'streams': [{'input_number': 0, 'stream_number': 0, 'stream_type': 'video', 'language': None, 'default': True, 'size': [444, 444], 'bitrate': 357, 'fps': 25.0, 'codec_name': 'h264', 'profile': '(High)', 'metadata': {'Metadata': '', 'handler_name': 'VideoHandler', 'vendor_id': '[0][0][0][0]', 'encoder': 'Lavc61.19.100 libx264'}}], 'input_number': 0}], 'duration': 23.84, 'bitrate': 360, 'start': 0.0, 'default_video_input_number': 0, 'default_video_stream_number': 0, 'video_codec_name': 'h264', 'video_profile': '(High)', 'video_size': [444, 444], 'video_bitrate': 357, 'video_fps': 25.0, 'video_duration': 23.84, 'video_n_frames': 596}\n",
      "c:\\Users\\taylo\\OneDrive\\Documents\\Dissertation_Work\\signLanguageTranslator\\preprocessing\\.venv\\Lib\\site-packages\\imageio_ffmpeg\\binaries\\ffmpeg-win-x86_64-v7.1.exe -i C:\\Users\\taylo\\OneDrive - Queen Mary, University of London\\Documents\\test_videos\\clip_023.mp4 -loglevel error -f image2pipe -vf scale=444:444 -sws_flags bicubic -pix_fmt rgb24 -vcodec rawvideo -\n",
      "MoviePy - Building video C:\\Users\\taylo\\OneDrive - Queen Mary, University of London\\Documents\\test_videos_extracted\\023_edited.mp4.\n",
      "MoviePy - Writing video C:\\Users\\taylo\\OneDrive - Queen Mary, University of London\\Documents\\test_videos_extracted\\023_edited.mp4\n",
      "\n"
     ]
    },
    {
     "name": "stderr",
     "output_type": "stream",
     "text": [
      "                                                                         \r"
     ]
    },
    {
     "name": "stdout",
     "output_type": "stream",
     "text": [
      "MoviePy - Done !\n",
      "MoviePy - video ready C:\\Users\\taylo\\OneDrive - Queen Mary, University of London\\Documents\\test_videos_extracted\\023_edited.mp4\n",
      "Extracted clip: 023_edited.mp4\n",
      "{'code': '024', 'file': '6353747414213438292.vtt', 'start': '00:52:36.016', 'end': '00:52:38.094', 'text': \"You can definitely see what's going on.\"}\n",
      "{'video_found': True, 'audio_found': False, 'metadata': {'major_brand': 'isom', 'minor_version': '512', 'compatible_brands': 'isomiso2avc1mp41', 'encoder': 'Lavf61.7.100'}, 'inputs': [{'streams': [{'input_number': 0, 'stream_number': 0, 'stream_type': 'video', 'language': None, 'default': True, 'size': [444, 444], 'bitrate': 347, 'fps': 25.0, 'codec_name': 'h264', 'profile': '(High)', 'metadata': {'Metadata': '', 'handler_name': 'VideoHandler', 'vendor_id': '[0][0][0][0]', 'encoder': 'Lavc61.19.100 libx264'}}], 'input_number': 0}], 'duration': 15.08, 'bitrate': 349, 'start': 0.0, 'default_video_input_number': 0, 'default_video_stream_number': 0, 'video_codec_name': 'h264', 'video_profile': '(High)', 'video_size': [444, 444], 'video_bitrate': 347, 'video_fps': 25.0, 'video_duration': 15.08, 'video_n_frames': 377}\n",
      "c:\\Users\\taylo\\OneDrive\\Documents\\Dissertation_Work\\signLanguageTranslator\\preprocessing\\.venv\\Lib\\site-packages\\imageio_ffmpeg\\binaries\\ffmpeg-win-x86_64-v7.1.exe -i C:\\Users\\taylo\\OneDrive - Queen Mary, University of London\\Documents\\test_videos\\clip_024.mp4 -loglevel error -f image2pipe -vf scale=444:444 -sws_flags bicubic -pix_fmt rgb24 -vcodec rawvideo -\n",
      "MoviePy - Building video C:\\Users\\taylo\\OneDrive - Queen Mary, University of London\\Documents\\test_videos_extracted\\024_edited.mp4.\n",
      "MoviePy - Writing video C:\\Users\\taylo\\OneDrive - Queen Mary, University of London\\Documents\\test_videos_extracted\\024_edited.mp4\n",
      "\n"
     ]
    },
    {
     "name": "stderr",
     "output_type": "stream",
     "text": [
      "                                                                       \r"
     ]
    },
    {
     "name": "stdout",
     "output_type": "stream",
     "text": [
      "MoviePy - Done !\n",
      "MoviePy - video ready C:\\Users\\taylo\\OneDrive - Queen Mary, University of London\\Documents\\test_videos_extracted\\024_edited.mp4\n",
      "Extracted clip: 024_edited.mp4\n",
      "{'code': '025', 'file': '6135535158289207849.vtt', 'start': '00:37:17.229', 'end': '00:37:23.229', 'text': \"Turner's observations of storms and dramatic skies really come together and culminate in this work...\"}\n",
      "{'video_found': True, 'audio_found': False, 'metadata': {'major_brand': 'isom', 'minor_version': '512', 'compatible_brands': 'isomiso2avc1mp41', 'encoder': 'Lavf61.7.100'}, 'inputs': [{'streams': [{'input_number': 0, 'stream_number': 0, 'stream_type': 'video', 'language': None, 'default': True, 'size': [444, 444], 'bitrate': 342, 'fps': 25.0, 'codec_name': 'h264', 'profile': '(High)', 'metadata': {'Metadata': '', 'handler_name': 'VideoHandler', 'vendor_id': '[0][0][0][0]', 'encoder': 'Lavc61.19.100 libx264'}}], 'input_number': 0}], 'duration': 19.0, 'bitrate': 345, 'start': 0.0, 'default_video_input_number': 0, 'default_video_stream_number': 0, 'video_codec_name': 'h264', 'video_profile': '(High)', 'video_size': [444, 444], 'video_bitrate': 342, 'video_fps': 25.0, 'video_duration': 19.0, 'video_n_frames': 475}\n",
      "c:\\Users\\taylo\\OneDrive\\Documents\\Dissertation_Work\\signLanguageTranslator\\preprocessing\\.venv\\Lib\\site-packages\\imageio_ffmpeg\\binaries\\ffmpeg-win-x86_64-v7.1.exe -i C:\\Users\\taylo\\OneDrive - Queen Mary, University of London\\Documents\\test_videos\\clip_025.mp4 -loglevel error -f image2pipe -vf scale=444:444 -sws_flags bicubic -pix_fmt rgb24 -vcodec rawvideo -\n",
      "MoviePy - Building video C:\\Users\\taylo\\OneDrive - Queen Mary, University of London\\Documents\\test_videos_extracted\\025_edited.mp4.\n",
      "MoviePy - Writing video C:\\Users\\taylo\\OneDrive - Queen Mary, University of London\\Documents\\test_videos_extracted\\025_edited.mp4\n",
      "\n"
     ]
    },
    {
     "name": "stderr",
     "output_type": "stream",
     "text": [
      "                                                                         \r"
     ]
    },
    {
     "name": "stdout",
     "output_type": "stream",
     "text": [
      "MoviePy - Done !\n",
      "MoviePy - video ready C:\\Users\\taylo\\OneDrive - Queen Mary, University of London\\Documents\\test_videos_extracted\\025_edited.mp4\n",
      "Extracted clip: 025_edited.mp4\n",
      "{'code': '026', 'file': '6170785672874404958.vtt', 'start': '00:08:02.377', 'end': '00:08:05.417', 'text': \"Shouldn't you believe in your own ability rather than someone else's?\"}\n",
      "{'video_found': True, 'audio_found': False, 'metadata': {'major_brand': 'isom', 'minor_version': '512', 'compatible_brands': 'isomiso2avc1mp41', 'encoder': 'Lavf61.7.100'}, 'inputs': [{'streams': [{'input_number': 0, 'stream_number': 0, 'stream_type': 'video', 'language': None, 'default': True, 'size': [444, 444], 'bitrate': 371, 'fps': 25.0, 'codec_name': 'h264', 'profile': '(High)', 'metadata': {'Metadata': '', 'handler_name': 'VideoHandler', 'vendor_id': '[0][0][0][0]', 'encoder': 'Lavc61.19.100 libx264'}}], 'input_number': 0}], 'duration': 16.04, 'bitrate': 373, 'start': 0.0, 'default_video_input_number': 0, 'default_video_stream_number': 0, 'video_codec_name': 'h264', 'video_profile': '(High)', 'video_size': [444, 444], 'video_bitrate': 371, 'video_fps': 25.0, 'video_duration': 16.04, 'video_n_frames': 401}\n",
      "c:\\Users\\taylo\\OneDrive\\Documents\\Dissertation_Work\\signLanguageTranslator\\preprocessing\\.venv\\Lib\\site-packages\\imageio_ffmpeg\\binaries\\ffmpeg-win-x86_64-v7.1.exe -i C:\\Users\\taylo\\OneDrive - Queen Mary, University of London\\Documents\\test_videos\\clip_026.mp4 -loglevel error -f image2pipe -vf scale=444:444 -sws_flags bicubic -pix_fmt rgb24 -vcodec rawvideo -\n",
      "MoviePy - Building video C:\\Users\\taylo\\OneDrive - Queen Mary, University of London\\Documents\\test_videos_extracted\\026_edited.mp4.\n",
      "MoviePy - Writing video C:\\Users\\taylo\\OneDrive - Queen Mary, University of London\\Documents\\test_videos_extracted\\026_edited.mp4\n",
      "\n"
     ]
    },
    {
     "name": "stderr",
     "output_type": "stream",
     "text": [
      "                                                                       \r"
     ]
    },
    {
     "name": "stdout",
     "output_type": "stream",
     "text": [
      "MoviePy - Done !\n",
      "MoviePy - video ready C:\\Users\\taylo\\OneDrive - Queen Mary, University of London\\Documents\\test_videos_extracted\\026_edited.mp4\n",
      "Extracted clip: 026_edited.mp4\n",
      "{'code': '027', 'file': '5976825379283792120.vtt', 'start': '00:08:33.488', 'end': '00:08:36.018', 'text': \"Well, it looks like he's missed all of them, actually.\"}\n",
      "{'video_found': True, 'audio_found': False, 'metadata': {'major_brand': 'isom', 'minor_version': '512', 'compatible_brands': 'isomiso2avc1mp41', 'encoder': 'Lavf61.7.100'}, 'inputs': [{'streams': [{'input_number': 0, 'stream_number': 0, 'stream_type': 'video', 'language': None, 'default': True, 'size': [444, 444], 'bitrate': 351, 'fps': 25.0, 'codec_name': 'h264', 'profile': '(High)', 'metadata': {'Metadata': '', 'handler_name': 'VideoHandler', 'vendor_id': '[0][0][0][0]', 'encoder': 'Lavc61.19.100 libx264'}}], 'input_number': 0}], 'duration': 15.56, 'bitrate': 354, 'start': 0.0, 'default_video_input_number': 0, 'default_video_stream_number': 0, 'video_codec_name': 'h264', 'video_profile': '(High)', 'video_size': [444, 444], 'video_bitrate': 351, 'video_fps': 25.0, 'video_duration': 15.56, 'video_n_frames': 389}\n",
      "c:\\Users\\taylo\\OneDrive\\Documents\\Dissertation_Work\\signLanguageTranslator\\preprocessing\\.venv\\Lib\\site-packages\\imageio_ffmpeg\\binaries\\ffmpeg-win-x86_64-v7.1.exe -i C:\\Users\\taylo\\OneDrive - Queen Mary, University of London\\Documents\\test_videos\\clip_027.mp4 -loglevel error -f image2pipe -vf scale=444:444 -sws_flags bicubic -pix_fmt rgb24 -vcodec rawvideo -\n",
      "MoviePy - Building video C:\\Users\\taylo\\OneDrive - Queen Mary, University of London\\Documents\\test_videos_extracted\\027_edited.mp4.\n",
      "MoviePy - Writing video C:\\Users\\taylo\\OneDrive - Queen Mary, University of London\\Documents\\test_videos_extracted\\027_edited.mp4\n",
      "\n"
     ]
    },
    {
     "name": "stderr",
     "output_type": "stream",
     "text": [
      "                                                                       \r"
     ]
    },
    {
     "name": "stdout",
     "output_type": "stream",
     "text": [
      "MoviePy - Done !\n",
      "MoviePy - video ready C:\\Users\\taylo\\OneDrive - Queen Mary, University of London\\Documents\\test_videos_extracted\\027_edited.mp4\n",
      "Extracted clip: 027_edited.mp4\n",
      "{'code': '028', 'file': '6026568831533621087.vtt', 'start': '00:11:00.792', 'end': '00:11:04.502', 'text': 'So there was no warnings on it, nothing of that nature.'}\n",
      "{'video_found': True, 'audio_found': False, 'metadata': {'major_brand': 'isom', 'minor_version': '512', 'compatible_brands': 'isomiso2avc1mp41', 'encoder': 'Lavf61.7.100'}, 'inputs': [{'streams': [{'input_number': 0, 'stream_number': 0, 'stream_type': 'video', 'language': None, 'default': True, 'size': [444, 444], 'bitrate': 397, 'fps': 25.0, 'codec_name': 'h264', 'profile': '(High)', 'metadata': {'Metadata': '', 'handler_name': 'VideoHandler', 'vendor_id': '[0][0][0][0]', 'encoder': 'Lavc61.19.100 libx264'}}], 'input_number': 0}], 'duration': 16.72, 'bitrate': 399, 'start': 0.0, 'default_video_input_number': 0, 'default_video_stream_number': 0, 'video_codec_name': 'h264', 'video_profile': '(High)', 'video_size': [444, 444], 'video_bitrate': 397, 'video_fps': 25.0, 'video_duration': 16.72, 'video_n_frames': 418}\n",
      "c:\\Users\\taylo\\OneDrive\\Documents\\Dissertation_Work\\signLanguageTranslator\\preprocessing\\.venv\\Lib\\site-packages\\imageio_ffmpeg\\binaries\\ffmpeg-win-x86_64-v7.1.exe -i C:\\Users\\taylo\\OneDrive - Queen Mary, University of London\\Documents\\test_videos\\clip_028.mp4 -loglevel error -f image2pipe -vf scale=444:444 -sws_flags bicubic -pix_fmt rgb24 -vcodec rawvideo -\n",
      "MoviePy - Building video C:\\Users\\taylo\\OneDrive - Queen Mary, University of London\\Documents\\test_videos_extracted\\028_edited.mp4.\n",
      "MoviePy - Writing video C:\\Users\\taylo\\OneDrive - Queen Mary, University of London\\Documents\\test_videos_extracted\\028_edited.mp4\n",
      "\n"
     ]
    },
    {
     "name": "stderr",
     "output_type": "stream",
     "text": [
      "                                                                       \r"
     ]
    },
    {
     "name": "stdout",
     "output_type": "stream",
     "text": [
      "MoviePy - Done !\n",
      "MoviePy - video ready C:\\Users\\taylo\\OneDrive - Queen Mary, University of London\\Documents\\test_videos_extracted\\028_edited.mp4\n",
      "Extracted clip: 028_edited.mp4\n",
      "{'code': '029', 'file': '6786626001083320011.vtt', 'start': '00:01:44.117', 'end': '00:01:45.416', 'text': 'Would you look at that!'}\n",
      "{'video_found': True, 'audio_found': False, 'metadata': {'major_brand': 'isom', 'minor_version': '512', 'compatible_brands': 'isomiso2avc1mp41', 'encoder': 'Lavf61.7.100'}, 'inputs': [{'streams': [{'input_number': 0, 'stream_number': 0, 'stream_type': 'video', 'language': None, 'default': True, 'size': [444, 444], 'bitrate': 518, 'fps': 25.0, 'codec_name': 'h264', 'profile': '(High)', 'metadata': {'Metadata': '', 'handler_name': 'VideoHandler', 'vendor_id': '[0][0][0][0]', 'encoder': 'Lavc61.19.100 libx264'}}], 'input_number': 0}], 'duration': 14.32, 'bitrate': 521, 'start': 0.0, 'default_video_input_number': 0, 'default_video_stream_number': 0, 'video_codec_name': 'h264', 'video_profile': '(High)', 'video_size': [444, 444], 'video_bitrate': 518, 'video_fps': 25.0, 'video_duration': 14.32, 'video_n_frames': 358}\n",
      "c:\\Users\\taylo\\OneDrive\\Documents\\Dissertation_Work\\signLanguageTranslator\\preprocessing\\.venv\\Lib\\site-packages\\imageio_ffmpeg\\binaries\\ffmpeg-win-x86_64-v7.1.exe -i C:\\Users\\taylo\\OneDrive - Queen Mary, University of London\\Documents\\test_videos\\clip_029.mp4 -loglevel error -f image2pipe -vf scale=444:444 -sws_flags bicubic -pix_fmt rgb24 -vcodec rawvideo -\n",
      "MoviePy - Building video C:\\Users\\taylo\\OneDrive - Queen Mary, University of London\\Documents\\test_videos_extracted\\029_edited.mp4.\n",
      "MoviePy - Writing video C:\\Users\\taylo\\OneDrive - Queen Mary, University of London\\Documents\\test_videos_extracted\\029_edited.mp4\n",
      "\n"
     ]
    },
    {
     "name": "stderr",
     "output_type": "stream",
     "text": [
      "                                                             \r"
     ]
    },
    {
     "name": "stdout",
     "output_type": "stream",
     "text": [
      "MoviePy - Done !\n",
      "MoviePy - video ready C:\\Users\\taylo\\OneDrive - Queen Mary, University of London\\Documents\\test_videos_extracted\\029_edited.mp4\n",
      "Extracted clip: 029_edited.mp4\n",
      "{'code': '030', 'file': '6296242097087308509.vtt', 'start': '00:35:46.025', 'end': '00:35:48.135', 'text': \"It's not a great result having dead lambs...\"}\n",
      "{'video_found': True, 'audio_found': False, 'metadata': {'major_brand': 'isom', 'minor_version': '512', 'compatible_brands': 'isomiso2avc1mp41', 'encoder': 'Lavf61.7.100'}, 'inputs': [{'streams': [{'input_number': 0, 'stream_number': 0, 'stream_type': 'video', 'language': None, 'default': True, 'size': [444, 444], 'bitrate': 269, 'fps': 25.0, 'codec_name': 'h264', 'profile': '(High)', 'metadata': {'Metadata': '', 'handler_name': 'VideoHandler', 'vendor_id': '[0][0][0][0]', 'encoder': 'Lavc61.19.100 libx264'}}], 'input_number': 0}], 'duration': 15.12, 'bitrate': 272, 'start': 0.0, 'default_video_input_number': 0, 'default_video_stream_number': 0, 'video_codec_name': 'h264', 'video_profile': '(High)', 'video_size': [444, 444], 'video_bitrate': 269, 'video_fps': 25.0, 'video_duration': 15.12, 'video_n_frames': 378}\n",
      "c:\\Users\\taylo\\OneDrive\\Documents\\Dissertation_Work\\signLanguageTranslator\\preprocessing\\.venv\\Lib\\site-packages\\imageio_ffmpeg\\binaries\\ffmpeg-win-x86_64-v7.1.exe -i C:\\Users\\taylo\\OneDrive - Queen Mary, University of London\\Documents\\test_videos\\clip_030.mp4 -loglevel error -f image2pipe -vf scale=444:444 -sws_flags bicubic -pix_fmt rgb24 -vcodec rawvideo -\n",
      "MoviePy - Building video C:\\Users\\taylo\\OneDrive - Queen Mary, University of London\\Documents\\test_videos_extracted\\030_edited.mp4.\n",
      "MoviePy - Writing video C:\\Users\\taylo\\OneDrive - Queen Mary, University of London\\Documents\\test_videos_extracted\\030_edited.mp4\n",
      "\n"
     ]
    },
    {
     "name": "stderr",
     "output_type": "stream",
     "text": [
      "                                                                       \r"
     ]
    },
    {
     "name": "stdout",
     "output_type": "stream",
     "text": [
      "MoviePy - Done !\n",
      "MoviePy - video ready C:\\Users\\taylo\\OneDrive - Queen Mary, University of London\\Documents\\test_videos_extracted\\030_edited.mp4\n",
      "Extracted clip: 030_edited.mp4\n",
      "{'code': '031', 'file': '6285077329601348734.vtt', 'start': '00:41:54.357', 'end': '00:41:56.977', 'text': \"We don't often get much levels of aggressiveness.\"}\n",
      "{'video_found': True, 'audio_found': False, 'metadata': {'major_brand': 'isom', 'minor_version': '512', 'compatible_brands': 'isomiso2avc1mp41', 'encoder': 'Lavf61.7.100'}, 'inputs': [{'streams': [{'input_number': 0, 'stream_number': 0, 'stream_type': 'video', 'language': None, 'default': True, 'size': [444, 444], 'bitrate': 444, 'fps': 25.0, 'codec_name': 'h264', 'profile': '(High)', 'metadata': {'Metadata': '', 'handler_name': 'VideoHandler', 'vendor_id': '[0][0][0][0]', 'encoder': 'Lavc61.19.100 libx264'}}], 'input_number': 0}], 'duration': 15.64, 'bitrate': 447, 'start': 0.0, 'default_video_input_number': 0, 'default_video_stream_number': 0, 'video_codec_name': 'h264', 'video_profile': '(High)', 'video_size': [444, 444], 'video_bitrate': 444, 'video_fps': 25.0, 'video_duration': 15.64, 'video_n_frames': 391}\n",
      "c:\\Users\\taylo\\OneDrive\\Documents\\Dissertation_Work\\signLanguageTranslator\\preprocessing\\.venv\\Lib\\site-packages\\imageio_ffmpeg\\binaries\\ffmpeg-win-x86_64-v7.1.exe -i C:\\Users\\taylo\\OneDrive - Queen Mary, University of London\\Documents\\test_videos\\clip_031.mp4 -loglevel error -f image2pipe -vf scale=444:444 -sws_flags bicubic -pix_fmt rgb24 -vcodec rawvideo -\n",
      "MoviePy - Building video C:\\Users\\taylo\\OneDrive - Queen Mary, University of London\\Documents\\test_videos_extracted\\031_edited.mp4.\n",
      "MoviePy - Writing video C:\\Users\\taylo\\OneDrive - Queen Mary, University of London\\Documents\\test_videos_extracted\\031_edited.mp4\n",
      "\n"
     ]
    },
    {
     "name": "stderr",
     "output_type": "stream",
     "text": [
      "                                                                       \r"
     ]
    },
    {
     "name": "stdout",
     "output_type": "stream",
     "text": [
      "MoviePy - Done !\n",
      "MoviePy - video ready C:\\Users\\taylo\\OneDrive - Queen Mary, University of London\\Documents\\test_videos_extracted\\031_edited.mp4\n",
      "Extracted clip: 031_edited.mp4\n",
      "{'code': '032', 'file': '5925266444399973583.vtt', 'start': '00:21:24.628', 'end': '00:21:34.468', 'text': 'The battle between the wasp and the spider has been going on for a very long time and evolved into possibly the most epic battle of all.'}\n",
      "{'video_found': True, 'audio_found': False, 'metadata': {'major_brand': 'isom', 'minor_version': '512', 'compatible_brands': 'isomiso2avc1mp41', 'encoder': 'Lavf61.7.100'}, 'inputs': [{'streams': [{'input_number': 0, 'stream_number': 0, 'stream_type': 'video', 'language': None, 'default': True, 'size': [444, 444], 'bitrate': 435, 'fps': 25.0, 'codec_name': 'h264', 'profile': '(High)', 'metadata': {'Metadata': '', 'handler_name': 'VideoHandler', 'vendor_id': '[0][0][0][0]', 'encoder': 'Lavc61.19.100 libx264'}}], 'input_number': 0}], 'duration': 22.88, 'bitrate': 438, 'start': 0.0, 'default_video_input_number': 0, 'default_video_stream_number': 0, 'video_codec_name': 'h264', 'video_profile': '(High)', 'video_size': [444, 444], 'video_bitrate': 435, 'video_fps': 25.0, 'video_duration': 22.88, 'video_n_frames': 572}\n",
      "c:\\Users\\taylo\\OneDrive\\Documents\\Dissertation_Work\\signLanguageTranslator\\preprocessing\\.venv\\Lib\\site-packages\\imageio_ffmpeg\\binaries\\ffmpeg-win-x86_64-v7.1.exe -i C:\\Users\\taylo\\OneDrive - Queen Mary, University of London\\Documents\\test_videos\\clip_032.mp4 -loglevel error -f image2pipe -vf scale=444:444 -sws_flags bicubic -pix_fmt rgb24 -vcodec rawvideo -\n",
      "MoviePy - Building video C:\\Users\\taylo\\OneDrive - Queen Mary, University of London\\Documents\\test_videos_extracted\\032_edited.mp4.\n",
      "MoviePy - Writing video C:\\Users\\taylo\\OneDrive - Queen Mary, University of London\\Documents\\test_videos_extracted\\032_edited.mp4\n",
      "\n"
     ]
    },
    {
     "name": "stderr",
     "output_type": "stream",
     "text": [
      "                                                                         \r"
     ]
    },
    {
     "name": "stdout",
     "output_type": "stream",
     "text": [
      "MoviePy - Done !\n",
      "MoviePy - video ready C:\\Users\\taylo\\OneDrive - Queen Mary, University of London\\Documents\\test_videos_extracted\\032_edited.mp4\n",
      "Extracted clip: 032_edited.mp4\n",
      "{'code': '033', 'file': '5992708597841178489.vtt', 'start': '00:25:59.041', 'end': '00:26:01.851', 'text': \"It wasn't anything to do with you!\"}\n",
      "{'video_found': True, 'audio_found': False, 'metadata': {'major_brand': 'isom', 'minor_version': '512', 'compatible_brands': 'isomiso2avc1mp41', 'encoder': 'Lavf61.7.100'}, 'inputs': [{'streams': [{'input_number': 0, 'stream_number': 0, 'stream_type': 'video', 'language': None, 'default': True, 'size': [444, 444], 'bitrate': 342, 'fps': 25.0, 'codec_name': 'h264', 'profile': '(High)', 'metadata': {'Metadata': '', 'handler_name': 'VideoHandler', 'vendor_id': '[0][0][0][0]', 'encoder': 'Lavc61.19.100 libx264'}}], 'input_number': 0}], 'duration': 15.84, 'bitrate': 344, 'start': 0.0, 'default_video_input_number': 0, 'default_video_stream_number': 0, 'video_codec_name': 'h264', 'video_profile': '(High)', 'video_size': [444, 444], 'video_bitrate': 342, 'video_fps': 25.0, 'video_duration': 15.84, 'video_n_frames': 396}\n",
      "c:\\Users\\taylo\\OneDrive\\Documents\\Dissertation_Work\\signLanguageTranslator\\preprocessing\\.venv\\Lib\\site-packages\\imageio_ffmpeg\\binaries\\ffmpeg-win-x86_64-v7.1.exe -i C:\\Users\\taylo\\OneDrive - Queen Mary, University of London\\Documents\\test_videos\\clip_033.mp4 -loglevel error -f image2pipe -vf scale=444:444 -sws_flags bicubic -pix_fmt rgb24 -vcodec rawvideo -\n",
      "MoviePy - Building video C:\\Users\\taylo\\OneDrive - Queen Mary, University of London\\Documents\\test_videos_extracted\\033_edited.mp4.\n",
      "MoviePy - Writing video C:\\Users\\taylo\\OneDrive - Queen Mary, University of London\\Documents\\test_videos_extracted\\033_edited.mp4\n",
      "\n"
     ]
    },
    {
     "name": "stderr",
     "output_type": "stream",
     "text": [
      "                                                                       \r"
     ]
    },
    {
     "name": "stdout",
     "output_type": "stream",
     "text": [
      "MoviePy - Done !\n",
      "MoviePy - video ready C:\\Users\\taylo\\OneDrive - Queen Mary, University of London\\Documents\\test_videos_extracted\\033_edited.mp4\n",
      "Extracted clip: 033_edited.mp4\n",
      "{'code': '034', 'file': '6157810576673206395.vtt', 'start': '00:51:23.481', 'end': '00:51:27.601', 'text': \"I haven't handled this brilliantly, have I?\"}\n",
      "{'video_found': True, 'audio_found': False, 'metadata': {'major_brand': 'isom', 'minor_version': '512', 'compatible_brands': 'isomiso2avc1mp41', 'encoder': 'Lavf61.7.100'}, 'inputs': [{'streams': [{'input_number': 0, 'stream_number': 0, 'stream_type': 'video', 'language': None, 'default': True, 'size': [444, 444], 'bitrate': 234, 'fps': 25.0, 'codec_name': 'h264', 'profile': '(High)', 'metadata': {'Metadata': '', 'handler_name': 'VideoHandler', 'vendor_id': '[0][0][0][0]', 'encoder': 'Lavc61.19.100 libx264'}}], 'input_number': 0}], 'duration': 17.12, 'bitrate': 237, 'start': 0.0, 'default_video_input_number': 0, 'default_video_stream_number': 0, 'video_codec_name': 'h264', 'video_profile': '(High)', 'video_size': [444, 444], 'video_bitrate': 234, 'video_fps': 25.0, 'video_duration': 17.12, 'video_n_frames': 428}\n",
      "c:\\Users\\taylo\\OneDrive\\Documents\\Dissertation_Work\\signLanguageTranslator\\preprocessing\\.venv\\Lib\\site-packages\\imageio_ffmpeg\\binaries\\ffmpeg-win-x86_64-v7.1.exe -i C:\\Users\\taylo\\OneDrive - Queen Mary, University of London\\Documents\\test_videos\\clip_034.mp4 -loglevel error -f image2pipe -vf scale=444:444 -sws_flags bicubic -pix_fmt rgb24 -vcodec rawvideo -\n",
      "MoviePy - Building video C:\\Users\\taylo\\OneDrive - Queen Mary, University of London\\Documents\\test_videos_extracted\\034_edited.mp4.\n",
      "MoviePy - Writing video C:\\Users\\taylo\\OneDrive - Queen Mary, University of London\\Documents\\test_videos_extracted\\034_edited.mp4\n",
      "\n"
     ]
    },
    {
     "name": "stderr",
     "output_type": "stream",
     "text": [
      "                                                                        \r"
     ]
    },
    {
     "name": "stdout",
     "output_type": "stream",
     "text": [
      "MoviePy - Done !\n",
      "MoviePy - video ready C:\\Users\\taylo\\OneDrive - Queen Mary, University of London\\Documents\\test_videos_extracted\\034_edited.mp4\n",
      "Extracted clip: 034_edited.mp4\n",
      "{'code': '035', 'file': '6118829882991424621.vtt', 'start': '00:35:29.038', 'end': '00:35:33.908', 'text': \"This is the last place you'd expect to find sheep - look at it, there's nothing here, just sand.\"}\n",
      "{'video_found': True, 'audio_found': False, 'metadata': {'major_brand': 'isom', 'minor_version': '512', 'compatible_brands': 'isomiso2avc1mp41', 'encoder': 'Lavf61.7.100'}, 'inputs': [{'streams': [{'input_number': 0, 'stream_number': 0, 'stream_type': 'video', 'language': None, 'default': True, 'size': [444, 444], 'bitrate': 405, 'fps': 25.0, 'codec_name': 'h264', 'profile': '(High)', 'metadata': {'Metadata': '', 'handler_name': 'VideoHandler', 'vendor_id': '[0][0][0][0]', 'encoder': 'Lavc61.19.100 libx264'}}], 'input_number': 0}], 'duration': 17.88, 'bitrate': 407, 'start': 0.0, 'default_video_input_number': 0, 'default_video_stream_number': 0, 'video_codec_name': 'h264', 'video_profile': '(High)', 'video_size': [444, 444], 'video_bitrate': 405, 'video_fps': 25.0, 'video_duration': 17.88, 'video_n_frames': 447}\n",
      "c:\\Users\\taylo\\OneDrive\\Documents\\Dissertation_Work\\signLanguageTranslator\\preprocessing\\.venv\\Lib\\site-packages\\imageio_ffmpeg\\binaries\\ffmpeg-win-x86_64-v7.1.exe -i C:\\Users\\taylo\\OneDrive - Queen Mary, University of London\\Documents\\test_videos\\clip_035.mp4 -loglevel error -f image2pipe -vf scale=444:444 -sws_flags bicubic -pix_fmt rgb24 -vcodec rawvideo -\n",
      "MoviePy - Building video C:\\Users\\taylo\\OneDrive - Queen Mary, University of London\\Documents\\test_videos_extracted\\035_edited.mp4.\n",
      "MoviePy - Writing video C:\\Users\\taylo\\OneDrive - Queen Mary, University of London\\Documents\\test_videos_extracted\\035_edited.mp4\n",
      "\n"
     ]
    },
    {
     "name": "stderr",
     "output_type": "stream",
     "text": [
      "                                                                        \r"
     ]
    },
    {
     "name": "stdout",
     "output_type": "stream",
     "text": [
      "MoviePy - Done !\n",
      "MoviePy - video ready C:\\Users\\taylo\\OneDrive - Queen Mary, University of London\\Documents\\test_videos_extracted\\035_edited.mp4\n",
      "Extracted clip: 035_edited.mp4\n",
      "{'code': '036', 'file': '6165614961746744419.vtt', 'start': '00:24:36.944', 'end': '00:24:40.084', 'text': \"I have no idea what you're talking about.\"}\n",
      "{'video_found': True, 'audio_found': False, 'metadata': {'major_brand': 'isom', 'minor_version': '512', 'compatible_brands': 'isomiso2avc1mp41', 'encoder': 'Lavf61.7.100'}, 'inputs': [{'streams': [{'input_number': 0, 'stream_number': 0, 'stream_type': 'video', 'language': None, 'default': True, 'size': [444, 444], 'bitrate': 321, 'fps': 25.0, 'codec_name': 'h264', 'profile': '(High)', 'metadata': {'Metadata': '', 'handler_name': 'VideoHandler', 'vendor_id': '[0][0][0][0]', 'encoder': 'Lavc61.19.100 libx264'}}], 'input_number': 0}], 'duration': 16.16, 'bitrate': 324, 'start': 0.0, 'default_video_input_number': 0, 'default_video_stream_number': 0, 'video_codec_name': 'h264', 'video_profile': '(High)', 'video_size': [444, 444], 'video_bitrate': 321, 'video_fps': 25.0, 'video_duration': 16.16, 'video_n_frames': 404}\n",
      "c:\\Users\\taylo\\OneDrive\\Documents\\Dissertation_Work\\signLanguageTranslator\\preprocessing\\.venv\\Lib\\site-packages\\imageio_ffmpeg\\binaries\\ffmpeg-win-x86_64-v7.1.exe -i C:\\Users\\taylo\\OneDrive - Queen Mary, University of London\\Documents\\test_videos\\clip_036.mp4 -loglevel error -f image2pipe -vf scale=444:444 -sws_flags bicubic -pix_fmt rgb24 -vcodec rawvideo -\n",
      "MoviePy - Building video C:\\Users\\taylo\\OneDrive - Queen Mary, University of London\\Documents\\test_videos_extracted\\036_edited.mp4.\n",
      "MoviePy - Writing video C:\\Users\\taylo\\OneDrive - Queen Mary, University of London\\Documents\\test_videos_extracted\\036_edited.mp4\n",
      "\n"
     ]
    },
    {
     "name": "stderr",
     "output_type": "stream",
     "text": [
      "                                                                       \r"
     ]
    },
    {
     "name": "stdout",
     "output_type": "stream",
     "text": [
      "MoviePy - Done !\n",
      "MoviePy - video ready C:\\Users\\taylo\\OneDrive - Queen Mary, University of London\\Documents\\test_videos_extracted\\036_edited.mp4\n",
      "Extracted clip: 036_edited.mp4\n",
      "{'code': '037', 'file': '6351522191657378473.vtt', 'start': '00:22:59.149', 'end': '00:23:03.652', 'text': 'I need another plan, cos I thought my plan was working but I need another plan.'}\n",
      "{'video_found': True, 'audio_found': False, 'metadata': {'major_brand': 'isom', 'minor_version': '512', 'compatible_brands': 'isomiso2avc1mp41', 'encoder': 'Lavf61.7.100'}, 'inputs': [{'streams': [{'input_number': 0, 'stream_number': 0, 'stream_type': 'video', 'language': None, 'default': True, 'size': [444, 444], 'bitrate': 378, 'fps': 25.0, 'codec_name': 'h264', 'profile': '(High)', 'metadata': {'Metadata': '', 'handler_name': 'VideoHandler', 'vendor_id': '[0][0][0][0]', 'encoder': 'Lavc61.19.100 libx264'}}], 'input_number': 0}], 'duration': 17.52, 'bitrate': 381, 'start': 0.0, 'default_video_input_number': 0, 'default_video_stream_number': 0, 'video_codec_name': 'h264', 'video_profile': '(High)', 'video_size': [444, 444], 'video_bitrate': 378, 'video_fps': 25.0, 'video_duration': 17.52, 'video_n_frames': 438}\n",
      "c:\\Users\\taylo\\OneDrive\\Documents\\Dissertation_Work\\signLanguageTranslator\\preprocessing\\.venv\\Lib\\site-packages\\imageio_ffmpeg\\binaries\\ffmpeg-win-x86_64-v7.1.exe -i C:\\Users\\taylo\\OneDrive - Queen Mary, University of London\\Documents\\test_videos\\clip_037.mp4 -loglevel error -f image2pipe -vf scale=444:444 -sws_flags bicubic -pix_fmt rgb24 -vcodec rawvideo -\n",
      "MoviePy - Building video C:\\Users\\taylo\\OneDrive - Queen Mary, University of London\\Documents\\test_videos_extracted\\037_edited.mp4.\n",
      "MoviePy - Writing video C:\\Users\\taylo\\OneDrive - Queen Mary, University of London\\Documents\\test_videos_extracted\\037_edited.mp4\n",
      "\n"
     ]
    },
    {
     "name": "stderr",
     "output_type": "stream",
     "text": [
      "                                                                        \r"
     ]
    },
    {
     "name": "stdout",
     "output_type": "stream",
     "text": [
      "MoviePy - Done !\n",
      "MoviePy - video ready C:\\Users\\taylo\\OneDrive - Queen Mary, University of London\\Documents\\test_videos_extracted\\037_edited.mp4\n",
      "Extracted clip: 037_edited.mp4\n",
      "{'code': '038', 'file': '5957901323880871061.vtt', 'start': '00:32:57.176', 'end': '00:33:03.036', 'text': \"'But when I took a look at a map, it seems that there are some people 'who might be more in need than most.\"}\n",
      "{'video_found': True, 'audio_found': False, 'metadata': {'major_brand': 'isom', 'minor_version': '512', 'compatible_brands': 'isomiso2avc1mp41', 'encoder': 'Lavf61.7.100'}, 'inputs': [{'streams': [{'input_number': 0, 'stream_number': 0, 'stream_type': 'video', 'language': None, 'default': True, 'size': [444, 444], 'bitrate': 402, 'fps': 25.0, 'codec_name': 'h264', 'profile': '(High)', 'metadata': {'Metadata': '', 'handler_name': 'VideoHandler', 'vendor_id': '[0][0][0][0]', 'encoder': 'Lavc61.19.100 libx264'}}], 'input_number': 0}], 'duration': 18.88, 'bitrate': 405, 'start': 0.0, 'default_video_input_number': 0, 'default_video_stream_number': 0, 'video_codec_name': 'h264', 'video_profile': '(High)', 'video_size': [444, 444], 'video_bitrate': 402, 'video_fps': 25.0, 'video_duration': 18.88, 'video_n_frames': 472}\n",
      "c:\\Users\\taylo\\OneDrive\\Documents\\Dissertation_Work\\signLanguageTranslator\\preprocessing\\.venv\\Lib\\site-packages\\imageio_ffmpeg\\binaries\\ffmpeg-win-x86_64-v7.1.exe -i C:\\Users\\taylo\\OneDrive - Queen Mary, University of London\\Documents\\test_videos\\clip_038.mp4 -loglevel error -f image2pipe -vf scale=444:444 -sws_flags bicubic -pix_fmt rgb24 -vcodec rawvideo -\n",
      "MoviePy - Building video C:\\Users\\taylo\\OneDrive - Queen Mary, University of London\\Documents\\test_videos_extracted\\038_edited.mp4.\n",
      "MoviePy - Writing video C:\\Users\\taylo\\OneDrive - Queen Mary, University of London\\Documents\\test_videos_extracted\\038_edited.mp4\n",
      "\n"
     ]
    },
    {
     "name": "stderr",
     "output_type": "stream",
     "text": [
      "                                                                         \r"
     ]
    },
    {
     "name": "stdout",
     "output_type": "stream",
     "text": [
      "MoviePy - Done !\n",
      "MoviePy - video ready C:\\Users\\taylo\\OneDrive - Queen Mary, University of London\\Documents\\test_videos_extracted\\038_edited.mp4\n",
      "Extracted clip: 038_edited.mp4\n",
      "{'code': '039', 'file': '6724820992192941272.vtt', 'start': '00:02:16.679', 'end': '00:02:22.837', 'text': 'They would face the terror of execution and the trauma of civilian casualties.'}\n",
      "{'video_found': True, 'audio_found': False, 'metadata': {'major_brand': 'isom', 'minor_version': '512', 'compatible_brands': 'isomiso2avc1mp41', 'encoder': 'Lavf61.7.100'}, 'inputs': [{'streams': [{'input_number': 0, 'stream_number': 0, 'stream_type': 'video', 'language': None, 'default': True, 'size': [444, 444], 'bitrate': 447, 'fps': 25.0, 'codec_name': 'h264', 'profile': '(High)', 'metadata': {'Metadata': '', 'handler_name': 'VideoHandler', 'vendor_id': '[0][0][0][0]', 'encoder': 'Lavc61.19.100 libx264'}}], 'input_number': 0}], 'duration': 19.16, 'bitrate': 450, 'start': 0.0, 'default_video_input_number': 0, 'default_video_stream_number': 0, 'video_codec_name': 'h264', 'video_profile': '(High)', 'video_size': [444, 444], 'video_bitrate': 447, 'video_fps': 25.0, 'video_duration': 19.16, 'video_n_frames': 479}\n",
      "c:\\Users\\taylo\\OneDrive\\Documents\\Dissertation_Work\\signLanguageTranslator\\preprocessing\\.venv\\Lib\\site-packages\\imageio_ffmpeg\\binaries\\ffmpeg-win-x86_64-v7.1.exe -i C:\\Users\\taylo\\OneDrive - Queen Mary, University of London\\Documents\\test_videos\\clip_039.mp4 -loglevel error -f image2pipe -vf scale=444:444 -sws_flags bicubic -pix_fmt rgb24 -vcodec rawvideo -\n",
      "MoviePy - Building video C:\\Users\\taylo\\OneDrive - Queen Mary, University of London\\Documents\\test_videos_extracted\\039_edited.mp4.\n",
      "MoviePy - Writing video C:\\Users\\taylo\\OneDrive - Queen Mary, University of London\\Documents\\test_videos_extracted\\039_edited.mp4\n",
      "\n"
     ]
    },
    {
     "name": "stderr",
     "output_type": "stream",
     "text": [
      "                                                                         \r"
     ]
    },
    {
     "name": "stdout",
     "output_type": "stream",
     "text": [
      "MoviePy - Done !\n",
      "MoviePy - video ready C:\\Users\\taylo\\OneDrive - Queen Mary, University of London\\Documents\\test_videos_extracted\\039_edited.mp4\n",
      "Extracted clip: 039_edited.mp4\n",
      "{'code': '040', 'file': '6157795114790944374.vtt', 'start': '00:17:47.813', 'end': '00:17:54.473', 'text': 'There was just an enormous amount of thieving going on, and sometimes it got quite violent.'}\n",
      "{'video_found': True, 'audio_found': False, 'metadata': {'major_brand': 'isom', 'minor_version': '512', 'compatible_brands': 'isomiso2avc1mp41', 'encoder': 'Lavf61.7.100'}, 'inputs': [{'streams': [{'input_number': 0, 'stream_number': 0, 'stream_type': 'video', 'language': None, 'default': True, 'size': [444, 444], 'bitrate': 373, 'fps': 25.0, 'codec_name': 'h264', 'profile': '(High)', 'metadata': {'Metadata': '', 'handler_name': 'VideoHandler', 'vendor_id': '[0][0][0][0]', 'encoder': 'Lavc61.19.100 libx264'}}], 'input_number': 0}], 'duration': 19.68, 'bitrate': 376, 'start': 0.0, 'default_video_input_number': 0, 'default_video_stream_number': 0, 'video_codec_name': 'h264', 'video_profile': '(High)', 'video_size': [444, 444], 'video_bitrate': 373, 'video_fps': 25.0, 'video_duration': 19.68, 'video_n_frames': 492}\n",
      "c:\\Users\\taylo\\OneDrive\\Documents\\Dissertation_Work\\signLanguageTranslator\\preprocessing\\.venv\\Lib\\site-packages\\imageio_ffmpeg\\binaries\\ffmpeg-win-x86_64-v7.1.exe -i C:\\Users\\taylo\\OneDrive - Queen Mary, University of London\\Documents\\test_videos\\clip_040.mp4 -loglevel error -f image2pipe -vf scale=444:444 -sws_flags bicubic -pix_fmt rgb24 -vcodec rawvideo -\n",
      "MoviePy - Building video C:\\Users\\taylo\\OneDrive - Queen Mary, University of London\\Documents\\test_videos_extracted\\040_edited.mp4.\n",
      "MoviePy - Writing video C:\\Users\\taylo\\OneDrive - Queen Mary, University of London\\Documents\\test_videos_extracted\\040_edited.mp4\n",
      "\n"
     ]
    },
    {
     "name": "stderr",
     "output_type": "stream",
     "text": [
      "                                                                         \r"
     ]
    },
    {
     "name": "stdout",
     "output_type": "stream",
     "text": [
      "MoviePy - Done !\n",
      "MoviePy - video ready C:\\Users\\taylo\\OneDrive - Queen Mary, University of London\\Documents\\test_videos_extracted\\040_edited.mp4\n",
      "Extracted clip: 040_edited.mp4\n",
      "{'code': '041', 'file': '6356350164394816474.vtt', 'start': '00:48:08.799', 'end': '00:48:13.679', 'text': 'People were first drawn to the Wild West in search of riches from the land.'}\n",
      "{'video_found': True, 'audio_found': False, 'metadata': {'major_brand': 'isom', 'minor_version': '512', 'compatible_brands': 'isomiso2avc1mp41', 'encoder': 'Lavf61.7.100'}, 'inputs': [{'streams': [{'input_number': 0, 'stream_number': 0, 'stream_type': 'video', 'language': None, 'default': True, 'size': [444, 444], 'bitrate': 581, 'fps': 25.0, 'codec_name': 'h264', 'profile': '(High)', 'metadata': {'Metadata': '', 'handler_name': 'VideoHandler', 'vendor_id': '[0][0][0][0]', 'encoder': 'Lavc61.19.100 libx264'}}], 'input_number': 0}], 'duration': 17.92, 'bitrate': 583, 'start': 0.0, 'default_video_input_number': 0, 'default_video_stream_number': 0, 'video_codec_name': 'h264', 'video_profile': '(High)', 'video_size': [444, 444], 'video_bitrate': 581, 'video_fps': 25.0, 'video_duration': 17.92, 'video_n_frames': 448}\n",
      "c:\\Users\\taylo\\OneDrive\\Documents\\Dissertation_Work\\signLanguageTranslator\\preprocessing\\.venv\\Lib\\site-packages\\imageio_ffmpeg\\binaries\\ffmpeg-win-x86_64-v7.1.exe -i C:\\Users\\taylo\\OneDrive - Queen Mary, University of London\\Documents\\test_videos\\clip_041.mp4 -loglevel error -f image2pipe -vf scale=444:444 -sws_flags bicubic -pix_fmt rgb24 -vcodec rawvideo -\n",
      "MoviePy - Building video C:\\Users\\taylo\\OneDrive - Queen Mary, University of London\\Documents\\test_videos_extracted\\041_edited.mp4.\n",
      "MoviePy - Writing video C:\\Users\\taylo\\OneDrive - Queen Mary, University of London\\Documents\\test_videos_extracted\\041_edited.mp4\n",
      "\n"
     ]
    },
    {
     "name": "stderr",
     "output_type": "stream",
     "text": [
      "                                                                         \r"
     ]
    },
    {
     "name": "stdout",
     "output_type": "stream",
     "text": [
      "MoviePy - Done !\n",
      "MoviePy - video ready C:\\Users\\taylo\\OneDrive - Queen Mary, University of London\\Documents\\test_videos_extracted\\041_edited.mp4\n",
      "Extracted clip: 041_edited.mp4\n",
      "{'code': '042', 'file': '6005770022884969070.vtt', 'start': '00:22:04.198', 'end': '00:22:07.018', 'text': \"'Plant two seeds per unit and put them somewhere warm.\"}\n",
      "{'video_found': True, 'audio_found': False, 'metadata': {'major_brand': 'isom', 'minor_version': '512', 'compatible_brands': 'isomiso2avc1mp41', 'encoder': 'Lavf61.7.100'}, 'inputs': [{'streams': [{'input_number': 0, 'stream_number': 0, 'stream_type': 'video', 'language': None, 'default': True, 'size': [444, 444], 'bitrate': 375, 'fps': 25.0, 'codec_name': 'h264', 'profile': '(High)', 'metadata': {'Metadata': '', 'handler_name': 'VideoHandler', 'vendor_id': '[0][0][0][0]', 'encoder': 'Lavc61.19.100 libx264'}}], 'input_number': 0}], 'duration': 15.84, 'bitrate': 377, 'start': 0.0, 'default_video_input_number': 0, 'default_video_stream_number': 0, 'video_codec_name': 'h264', 'video_profile': '(High)', 'video_size': [444, 444], 'video_bitrate': 375, 'video_fps': 25.0, 'video_duration': 15.84, 'video_n_frames': 396}\n",
      "c:\\Users\\taylo\\OneDrive\\Documents\\Dissertation_Work\\signLanguageTranslator\\preprocessing\\.venv\\Lib\\site-packages\\imageio_ffmpeg\\binaries\\ffmpeg-win-x86_64-v7.1.exe -i C:\\Users\\taylo\\OneDrive - Queen Mary, University of London\\Documents\\test_videos\\clip_042.mp4 -loglevel error -f image2pipe -vf scale=444:444 -sws_flags bicubic -pix_fmt rgb24 -vcodec rawvideo -\n",
      "MoviePy - Building video C:\\Users\\taylo\\OneDrive - Queen Mary, University of London\\Documents\\test_videos_extracted\\042_edited.mp4.\n",
      "MoviePy - Writing video C:\\Users\\taylo\\OneDrive - Queen Mary, University of London\\Documents\\test_videos_extracted\\042_edited.mp4\n",
      "\n"
     ]
    },
    {
     "name": "stderr",
     "output_type": "stream",
     "text": [
      "                                                                       \r"
     ]
    },
    {
     "name": "stdout",
     "output_type": "stream",
     "text": [
      "MoviePy - Done !\n",
      "MoviePy - video ready C:\\Users\\taylo\\OneDrive - Queen Mary, University of London\\Documents\\test_videos_extracted\\042_edited.mp4\n",
      "Extracted clip: 042_edited.mp4\n",
      "{'code': '043', 'file': '6010868578562130609.vtt', 'start': '00:26:30.204', 'end': '00:26:33.994', 'text': 'Bar New York, there are more helicopters than any other city in the world.'}\n",
      "{'video_found': True, 'audio_found': False, 'metadata': {'major_brand': 'isom', 'minor_version': '512', 'compatible_brands': 'isomiso2avc1mp41', 'encoder': 'Lavf61.7.100'}, 'inputs': [{'streams': [{'input_number': 0, 'stream_number': 0, 'stream_type': 'video', 'language': None, 'default': True, 'size': [444, 444], 'bitrate': 467, 'fps': 25.0, 'codec_name': 'h264', 'profile': '(High)', 'metadata': {'Metadata': '', 'handler_name': 'VideoHandler', 'vendor_id': '[0][0][0][0]', 'encoder': 'Lavc61.19.100 libx264'}}], 'input_number': 0}], 'duration': 16.8, 'bitrate': 469, 'start': 0.0, 'default_video_input_number': 0, 'default_video_stream_number': 0, 'video_codec_name': 'h264', 'video_profile': '(High)', 'video_size': [444, 444], 'video_bitrate': 467, 'video_fps': 25.0, 'video_duration': 16.8, 'video_n_frames': 420}\n",
      "c:\\Users\\taylo\\OneDrive\\Documents\\Dissertation_Work\\signLanguageTranslator\\preprocessing\\.venv\\Lib\\site-packages\\imageio_ffmpeg\\binaries\\ffmpeg-win-x86_64-v7.1.exe -i C:\\Users\\taylo\\OneDrive - Queen Mary, University of London\\Documents\\test_videos\\clip_043.mp4 -loglevel error -f image2pipe -vf scale=444:444 -sws_flags bicubic -pix_fmt rgb24 -vcodec rawvideo -\n",
      "MoviePy - Building video C:\\Users\\taylo\\OneDrive - Queen Mary, University of London\\Documents\\test_videos_extracted\\043_edited.mp4.\n",
      "MoviePy - Writing video C:\\Users\\taylo\\OneDrive - Queen Mary, University of London\\Documents\\test_videos_extracted\\043_edited.mp4\n",
      "\n"
     ]
    },
    {
     "name": "stderr",
     "output_type": "stream",
     "text": [
      "                                                                       \r"
     ]
    },
    {
     "name": "stdout",
     "output_type": "stream",
     "text": [
      "MoviePy - Done !\n",
      "MoviePy - video ready C:\\Users\\taylo\\OneDrive - Queen Mary, University of London\\Documents\\test_videos_extracted\\043_edited.mp4\n",
      "Extracted clip: 043_edited.mp4\n",
      "{'code': '044', 'file': '6010590264681275644.vtt', 'start': '00:15:40.516', 'end': '00:15:44.406', 'text': \"But it's not a German vase and the material is the thing that tells us that.\"}\n",
      "{'video_found': True, 'audio_found': False, 'metadata': {'major_brand': 'isom', 'minor_version': '512', 'compatible_brands': 'isomiso2avc1mp41', 'encoder': 'Lavf61.7.100'}, 'inputs': [{'streams': [{'input_number': 0, 'stream_number': 0, 'stream_type': 'video', 'language': None, 'default': True, 'size': [444, 444], 'bitrate': 323, 'fps': 25.0, 'codec_name': 'h264', 'profile': '(High)', 'metadata': {'Metadata': '', 'handler_name': 'VideoHandler', 'vendor_id': '[0][0][0][0]', 'encoder': 'Lavc61.19.100 libx264'}}], 'input_number': 0}], 'duration': 16.92, 'bitrate': 326, 'start': 0.0, 'default_video_input_number': 0, 'default_video_stream_number': 0, 'video_codec_name': 'h264', 'video_profile': '(High)', 'video_size': [444, 444], 'video_bitrate': 323, 'video_fps': 25.0, 'video_duration': 16.92, 'video_n_frames': 423}\n",
      "c:\\Users\\taylo\\OneDrive\\Documents\\Dissertation_Work\\signLanguageTranslator\\preprocessing\\.venv\\Lib\\site-packages\\imageio_ffmpeg\\binaries\\ffmpeg-win-x86_64-v7.1.exe -i C:\\Users\\taylo\\OneDrive - Queen Mary, University of London\\Documents\\test_videos\\clip_044.mp4 -loglevel error -f image2pipe -vf scale=444:444 -sws_flags bicubic -pix_fmt rgb24 -vcodec rawvideo -\n",
      "MoviePy - Building video C:\\Users\\taylo\\OneDrive - Queen Mary, University of London\\Documents\\test_videos_extracted\\044_edited.mp4.\n",
      "MoviePy - Writing video C:\\Users\\taylo\\OneDrive - Queen Mary, University of London\\Documents\\test_videos_extracted\\044_edited.mp4\n",
      "\n"
     ]
    },
    {
     "name": "stderr",
     "output_type": "stream",
     "text": [
      "                                                                       \r"
     ]
    },
    {
     "name": "stdout",
     "output_type": "stream",
     "text": [
      "MoviePy - Done !\n",
      "MoviePy - video ready C:\\Users\\taylo\\OneDrive - Queen Mary, University of London\\Documents\\test_videos_extracted\\044_edited.mp4\n",
      "Extracted clip: 044_edited.mp4\n",
      "{'code': '045', 'file': '5999344322313448717.vtt', 'start': '00:04:38.634', 'end': '00:04:40.084', 'text': \"She's stamping her foot.\"}\n",
      "{'video_found': True, 'audio_found': False, 'metadata': {'major_brand': 'isom', 'minor_version': '512', 'compatible_brands': 'isomiso2avc1mp41', 'encoder': 'Lavf61.7.100'}, 'inputs': [{'streams': [{'input_number': 0, 'stream_number': 0, 'stream_type': 'video', 'language': None, 'default': True, 'size': [444, 444], 'bitrate': 429, 'fps': 25.0, 'codec_name': 'h264', 'profile': '(High)', 'metadata': {'Metadata': '', 'handler_name': 'VideoHandler', 'vendor_id': '[0][0][0][0]', 'encoder': 'Lavc61.19.100 libx264'}}], 'input_number': 0}], 'duration': 14.48, 'bitrate': 432, 'start': 0.0, 'default_video_input_number': 0, 'default_video_stream_number': 0, 'video_codec_name': 'h264', 'video_profile': '(High)', 'video_size': [444, 444], 'video_bitrate': 429, 'video_fps': 25.0, 'video_duration': 14.48, 'video_n_frames': 362}\n",
      "c:\\Users\\taylo\\OneDrive\\Documents\\Dissertation_Work\\signLanguageTranslator\\preprocessing\\.venv\\Lib\\site-packages\\imageio_ffmpeg\\binaries\\ffmpeg-win-x86_64-v7.1.exe -i C:\\Users\\taylo\\OneDrive - Queen Mary, University of London\\Documents\\test_videos\\clip_045.mp4 -loglevel error -f image2pipe -vf scale=444:444 -sws_flags bicubic -pix_fmt rgb24 -vcodec rawvideo -\n",
      "MoviePy - Building video C:\\Users\\taylo\\OneDrive - Queen Mary, University of London\\Documents\\test_videos_extracted\\045_edited.mp4.\n",
      "MoviePy - Writing video C:\\Users\\taylo\\OneDrive - Queen Mary, University of London\\Documents\\test_videos_extracted\\045_edited.mp4\n",
      "\n"
     ]
    },
    {
     "name": "stderr",
     "output_type": "stream",
     "text": [
      "                                                                       \r"
     ]
    },
    {
     "name": "stdout",
     "output_type": "stream",
     "text": [
      "MoviePy - Done !\n",
      "MoviePy - video ready C:\\Users\\taylo\\OneDrive - Queen Mary, University of London\\Documents\\test_videos_extracted\\045_edited.mp4\n",
      "Extracted clip: 045_edited.mp4\n",
      "{'code': '046', 'file': '6052979014933462992.vtt', 'start': '00:25:33.797', 'end': '00:25:37.077', 'text': 'This is a spy gun and it tells you the temperature of what your pan is.'}\n",
      "{'video_found': True, 'audio_found': False, 'metadata': {'major_brand': 'isom', 'minor_version': '512', 'compatible_brands': 'isomiso2avc1mp41', 'encoder': 'Lavf61.7.100'}, 'inputs': [{'streams': [{'input_number': 0, 'stream_number': 0, 'stream_type': 'video', 'language': None, 'default': True, 'size': [444, 444], 'bitrate': 462, 'fps': 25.0, 'codec_name': 'h264', 'profile': '(High)', 'metadata': {'Metadata': '', 'handler_name': 'VideoHandler', 'vendor_id': '[0][0][0][0]', 'encoder': 'Lavc61.19.100 libx264'}}], 'input_number': 0}], 'duration': 16.28, 'bitrate': 465, 'start': 0.0, 'default_video_input_number': 0, 'default_video_stream_number': 0, 'video_codec_name': 'h264', 'video_profile': '(High)', 'video_size': [444, 444], 'video_bitrate': 462, 'video_fps': 25.0, 'video_duration': 16.28, 'video_n_frames': 407}\n",
      "c:\\Users\\taylo\\OneDrive\\Documents\\Dissertation_Work\\signLanguageTranslator\\preprocessing\\.venv\\Lib\\site-packages\\imageio_ffmpeg\\binaries\\ffmpeg-win-x86_64-v7.1.exe -i C:\\Users\\taylo\\OneDrive - Queen Mary, University of London\\Documents\\test_videos\\clip_046.mp4 -loglevel error -f image2pipe -vf scale=444:444 -sws_flags bicubic -pix_fmt rgb24 -vcodec rawvideo -\n",
      "MoviePy - Building video C:\\Users\\taylo\\OneDrive - Queen Mary, University of London\\Documents\\test_videos_extracted\\046_edited.mp4.\n",
      "MoviePy - Writing video C:\\Users\\taylo\\OneDrive - Queen Mary, University of London\\Documents\\test_videos_extracted\\046_edited.mp4\n",
      "\n"
     ]
    },
    {
     "name": "stderr",
     "output_type": "stream",
     "text": [
      "                                                                       \r"
     ]
    },
    {
     "name": "stdout",
     "output_type": "stream",
     "text": [
      "MoviePy - Done !\n",
      "MoviePy - video ready C:\\Users\\taylo\\OneDrive - Queen Mary, University of London\\Documents\\test_videos_extracted\\046_edited.mp4\n",
      "Extracted clip: 046_edited.mp4\n",
      "{'code': '047', 'file': '5925611759749542295.vtt', 'start': '00:40:15.356', 'end': '00:40:25.206', 'text': 'Apart from the royal occasions, objects are made to commemorate all manner of events - from ship launches to moon landings to important moments in our military history.'}\n",
      "{'video_found': True, 'audio_found': False, 'metadata': {'major_brand': 'isom', 'minor_version': '512', 'compatible_brands': 'isomiso2avc1mp41', 'encoder': 'Lavf61.7.100'}, 'inputs': [{'streams': [{'input_number': 0, 'stream_number': 0, 'stream_type': 'video', 'language': None, 'default': True, 'size': [444, 444], 'bitrate': 344, 'fps': 25.0, 'codec_name': 'h264', 'profile': '(High)', 'metadata': {'Metadata': '', 'handler_name': 'VideoHandler', 'vendor_id': '[0][0][0][0]', 'encoder': 'Lavc61.19.100 libx264'}}], 'input_number': 0}], 'duration': 22.88, 'bitrate': 346, 'start': 0.0, 'default_video_input_number': 0, 'default_video_stream_number': 0, 'video_codec_name': 'h264', 'video_profile': '(High)', 'video_size': [444, 444], 'video_bitrate': 344, 'video_fps': 25.0, 'video_duration': 22.88, 'video_n_frames': 572}\n",
      "c:\\Users\\taylo\\OneDrive\\Documents\\Dissertation_Work\\signLanguageTranslator\\preprocessing\\.venv\\Lib\\site-packages\\imageio_ffmpeg\\binaries\\ffmpeg-win-x86_64-v7.1.exe -i C:\\Users\\taylo\\OneDrive - Queen Mary, University of London\\Documents\\test_videos\\clip_047.mp4 -loglevel error -f image2pipe -vf scale=444:444 -sws_flags bicubic -pix_fmt rgb24 -vcodec rawvideo -\n",
      "MoviePy - Building video C:\\Users\\taylo\\OneDrive - Queen Mary, University of London\\Documents\\test_videos_extracted\\047_edited.mp4.\n",
      "MoviePy - Writing video C:\\Users\\taylo\\OneDrive - Queen Mary, University of London\\Documents\\test_videos_extracted\\047_edited.mp4\n",
      "\n"
     ]
    },
    {
     "name": "stderr",
     "output_type": "stream",
     "text": [
      "                                                                         \r"
     ]
    },
    {
     "name": "stdout",
     "output_type": "stream",
     "text": [
      "MoviePy - Done !\n",
      "MoviePy - video ready C:\\Users\\taylo\\OneDrive - Queen Mary, University of London\\Documents\\test_videos_extracted\\047_edited.mp4\n",
      "Extracted clip: 047_edited.mp4\n",
      "{'code': '048', 'file': '6137019498986707547.vtt', 'start': '00:10:32.132', 'end': '00:10:38.512', 'text': 'On top of that, a recent survey found more than half of people thought carbohydrates were fattening.'}\n",
      "{'video_found': True, 'audio_found': False, 'metadata': {'major_brand': 'isom', 'minor_version': '512', 'compatible_brands': 'isomiso2avc1mp41', 'encoder': 'Lavf61.7.100'}, 'inputs': [{'streams': [{'input_number': 0, 'stream_number': 0, 'stream_type': 'video', 'language': None, 'default': True, 'size': [444, 444], 'bitrate': 403, 'fps': 25.0, 'codec_name': 'h264', 'profile': '(High)', 'metadata': {'Metadata': '', 'handler_name': 'VideoHandler', 'vendor_id': '[0][0][0][0]', 'encoder': 'Lavc61.19.100 libx264'}}], 'input_number': 0}], 'duration': 19.4, 'bitrate': 406, 'start': 0.0, 'default_video_input_number': 0, 'default_video_stream_number': 0, 'video_codec_name': 'h264', 'video_profile': '(High)', 'video_size': [444, 444], 'video_bitrate': 403, 'video_fps': 25.0, 'video_duration': 19.4, 'video_n_frames': 484}\n",
      "c:\\Users\\taylo\\OneDrive\\Documents\\Dissertation_Work\\signLanguageTranslator\\preprocessing\\.venv\\Lib\\site-packages\\imageio_ffmpeg\\binaries\\ffmpeg-win-x86_64-v7.1.exe -i C:\\Users\\taylo\\OneDrive - Queen Mary, University of London\\Documents\\test_videos\\clip_048.mp4 -loglevel error -f image2pipe -vf scale=444:444 -sws_flags bicubic -pix_fmt rgb24 -vcodec rawvideo -\n",
      "MoviePy - Building video C:\\Users\\taylo\\OneDrive - Queen Mary, University of London\\Documents\\test_videos_extracted\\048_edited.mp4.\n",
      "MoviePy - Writing video C:\\Users\\taylo\\OneDrive - Queen Mary, University of London\\Documents\\test_videos_extracted\\048_edited.mp4\n",
      "\n"
     ]
    },
    {
     "name": "stderr",
     "output_type": "stream",
     "text": [
      "                                                                         \r"
     ]
    },
    {
     "name": "stdout",
     "output_type": "stream",
     "text": [
      "MoviePy - Done !\n",
      "MoviePy - video ready C:\\Users\\taylo\\OneDrive - Queen Mary, University of London\\Documents\\test_videos_extracted\\048_edited.mp4\n",
      "Extracted clip: 048_edited.mp4\n",
      "{'code': '049', 'file': '5933404548411412231.vtt', 'start': '00:49:53.567', 'end': '00:50:00.557', 'text': \"The Maritime Heritage Centre was started by a group of volunteers determined to preserve the city's nautical history.\"}\n",
      "{'video_found': True, 'audio_found': False, 'metadata': {'major_brand': 'isom', 'minor_version': '512', 'compatible_brands': 'isomiso2avc1mp41', 'encoder': 'Lavf61.7.100'}, 'inputs': [{'streams': [{'input_number': 0, 'stream_number': 0, 'stream_type': 'video', 'language': None, 'default': True, 'size': [444, 444], 'bitrate': 391, 'fps': 25.0, 'codec_name': 'h264', 'profile': '(High)', 'metadata': {'Metadata': '', 'handler_name': 'VideoHandler', 'vendor_id': '[0][0][0][0]', 'encoder': 'Lavc61.19.100 libx264'}}], 'input_number': 0}], 'duration': 20.0, 'bitrate': 394, 'start': 0.0, 'default_video_input_number': 0, 'default_video_stream_number': 0, 'video_codec_name': 'h264', 'video_profile': '(High)', 'video_size': [444, 444], 'video_bitrate': 391, 'video_fps': 25.0, 'video_duration': 20.0, 'video_n_frames': 500}\n",
      "c:\\Users\\taylo\\OneDrive\\Documents\\Dissertation_Work\\signLanguageTranslator\\preprocessing\\.venv\\Lib\\site-packages\\imageio_ffmpeg\\binaries\\ffmpeg-win-x86_64-v7.1.exe -i C:\\Users\\taylo\\OneDrive - Queen Mary, University of London\\Documents\\test_videos\\clip_049.mp4 -loglevel error -f image2pipe -vf scale=444:444 -sws_flags bicubic -pix_fmt rgb24 -vcodec rawvideo -\n",
      "MoviePy - Building video C:\\Users\\taylo\\OneDrive - Queen Mary, University of London\\Documents\\test_videos_extracted\\049_edited.mp4.\n",
      "MoviePy - Writing video C:\\Users\\taylo\\OneDrive - Queen Mary, University of London\\Documents\\test_videos_extracted\\049_edited.mp4\n",
      "\n"
     ]
    },
    {
     "name": "stderr",
     "output_type": "stream",
     "text": [
      "                                                                         \r"
     ]
    },
    {
     "name": "stdout",
     "output_type": "stream",
     "text": [
      "MoviePy - Done !\n",
      "MoviePy - video ready C:\\Users\\taylo\\OneDrive - Queen Mary, University of London\\Documents\\test_videos_extracted\\049_edited.mp4\n",
      "Extracted clip: 049_edited.mp4\n",
      "{'code': '050', 'file': '6240206947266569588.vtt', 'start': '00:31:15.685', 'end': '00:31:17.895', 'text': 'One hour and 20 minutes.'}\n",
      "{'video_found': True, 'audio_found': False, 'metadata': {'major_brand': 'isom', 'minor_version': '512', 'compatible_brands': 'isomiso2avc1mp41', 'encoder': 'Lavf61.7.100'}, 'inputs': [{'streams': [{'input_number': 0, 'stream_number': 0, 'stream_type': 'video', 'language': None, 'default': True, 'size': [444, 444], 'bitrate': 505, 'fps': 25.0, 'codec_name': 'h264', 'profile': '(High)', 'metadata': {'Metadata': '', 'handler_name': 'VideoHandler', 'vendor_id': '[0][0][0][0]', 'encoder': 'Lavc61.19.100 libx264'}}], 'input_number': 0}], 'duration': 15.24, 'bitrate': 507, 'start': 0.0, 'default_video_input_number': 0, 'default_video_stream_number': 0, 'video_codec_name': 'h264', 'video_profile': '(High)', 'video_size': [444, 444], 'video_bitrate': 505, 'video_fps': 25.0, 'video_duration': 15.24, 'video_n_frames': 381}\n",
      "c:\\Users\\taylo\\OneDrive\\Documents\\Dissertation_Work\\signLanguageTranslator\\preprocessing\\.venv\\Lib\\site-packages\\imageio_ffmpeg\\binaries\\ffmpeg-win-x86_64-v7.1.exe -i C:\\Users\\taylo\\OneDrive - Queen Mary, University of London\\Documents\\test_videos\\clip_050.mp4 -loglevel error -f image2pipe -vf scale=444:444 -sws_flags bicubic -pix_fmt rgb24 -vcodec rawvideo -\n",
      "MoviePy - Building video C:\\Users\\taylo\\OneDrive - Queen Mary, University of London\\Documents\\test_videos_extracted\\050_edited.mp4.\n",
      "MoviePy - Writing video C:\\Users\\taylo\\OneDrive - Queen Mary, University of London\\Documents\\test_videos_extracted\\050_edited.mp4\n",
      "\n"
     ]
    },
    {
     "name": "stderr",
     "output_type": "stream",
     "text": [
      "                                                                       \r"
     ]
    },
    {
     "name": "stdout",
     "output_type": "stream",
     "text": [
      "MoviePy - Done !\n",
      "MoviePy - video ready C:\\Users\\taylo\\OneDrive - Queen Mary, University of London\\Documents\\test_videos_extracted\\050_edited.mp4\n",
      "Extracted clip: 050_edited.mp4\n",
      "{'code': '051', 'file': '5966855042223883556.vtt', 'start': '00:22:08.213', 'end': '00:22:13.463', 'text': 'The eagle-eyed cadets have spotted the kayakers, and waste no time in passing on the news.'}\n",
      "{'video_found': True, 'audio_found': False, 'metadata': {'major_brand': 'isom', 'minor_version': '512', 'compatible_brands': 'isomiso2avc1mp41', 'encoder': 'Lavf61.7.100'}, 'inputs': [{'streams': [{'input_number': 0, 'stream_number': 0, 'stream_type': 'video', 'language': None, 'default': True, 'size': [444, 444], 'bitrate': 414, 'fps': 25.0, 'codec_name': 'h264', 'profile': '(High)', 'metadata': {'Metadata': '', 'handler_name': 'VideoHandler', 'vendor_id': '[0][0][0][0]', 'encoder': 'Lavc61.19.100 libx264'}}], 'input_number': 0}], 'duration': 18.28, 'bitrate': 417, 'start': 0.0, 'default_video_input_number': 0, 'default_video_stream_number': 0, 'video_codec_name': 'h264', 'video_profile': '(High)', 'video_size': [444, 444], 'video_bitrate': 414, 'video_fps': 25.0, 'video_duration': 18.28, 'video_n_frames': 457}\n",
      "c:\\Users\\taylo\\OneDrive\\Documents\\Dissertation_Work\\signLanguageTranslator\\preprocessing\\.venv\\Lib\\site-packages\\imageio_ffmpeg\\binaries\\ffmpeg-win-x86_64-v7.1.exe -i C:\\Users\\taylo\\OneDrive - Queen Mary, University of London\\Documents\\test_videos\\clip_051.mp4 -loglevel error -f image2pipe -vf scale=444:444 -sws_flags bicubic -pix_fmt rgb24 -vcodec rawvideo -\n",
      "MoviePy - Building video C:\\Users\\taylo\\OneDrive - Queen Mary, University of London\\Documents\\test_videos_extracted\\051_edited.mp4.\n",
      "MoviePy - Writing video C:\\Users\\taylo\\OneDrive - Queen Mary, University of London\\Documents\\test_videos_extracted\\051_edited.mp4\n",
      "\n"
     ]
    },
    {
     "name": "stderr",
     "output_type": "stream",
     "text": [
      "                                                                         \r"
     ]
    },
    {
     "name": "stdout",
     "output_type": "stream",
     "text": [
      "MoviePy - Done !\n",
      "MoviePy - video ready C:\\Users\\taylo\\OneDrive - Queen Mary, University of London\\Documents\\test_videos_extracted\\051_edited.mp4\n",
      "Extracted clip: 051_edited.mp4\n",
      "{'code': '052', 'file': '6023978966254132189.vtt', 'start': '00:04:33.416', 'end': '00:04:35.996', 'text': \"We've had a few issues with that over the past few weeks.\"}\n",
      "{'video_found': True, 'audio_found': False, 'metadata': {'major_brand': 'isom', 'minor_version': '512', 'compatible_brands': 'isomiso2avc1mp41', 'encoder': 'Lavf61.7.100'}, 'inputs': [{'streams': [{'input_number': 0, 'stream_number': 0, 'stream_type': 'video', 'language': None, 'default': True, 'size': [444, 444], 'bitrate': 397, 'fps': 25.0, 'codec_name': 'h264', 'profile': '(High)', 'metadata': {'Metadata': '', 'handler_name': 'VideoHandler', 'vendor_id': '[0][0][0][0]', 'encoder': 'Lavc61.19.100 libx264'}}], 'input_number': 0}], 'duration': 15.6, 'bitrate': 399, 'start': 0.0, 'default_video_input_number': 0, 'default_video_stream_number': 0, 'video_codec_name': 'h264', 'video_profile': '(High)', 'video_size': [444, 444], 'video_bitrate': 397, 'video_fps': 25.0, 'video_duration': 15.6, 'video_n_frames': 390}\n",
      "c:\\Users\\taylo\\OneDrive\\Documents\\Dissertation_Work\\signLanguageTranslator\\preprocessing\\.venv\\Lib\\site-packages\\imageio_ffmpeg\\binaries\\ffmpeg-win-x86_64-v7.1.exe -i C:\\Users\\taylo\\OneDrive - Queen Mary, University of London\\Documents\\test_videos\\clip_052.mp4 -loglevel error -f image2pipe -vf scale=444:444 -sws_flags bicubic -pix_fmt rgb24 -vcodec rawvideo -\n",
      "MoviePy - Building video C:\\Users\\taylo\\OneDrive - Queen Mary, University of London\\Documents\\test_videos_extracted\\052_edited.mp4.\n",
      "MoviePy - Writing video C:\\Users\\taylo\\OneDrive - Queen Mary, University of London\\Documents\\test_videos_extracted\\052_edited.mp4\n",
      "\n"
     ]
    },
    {
     "name": "stderr",
     "output_type": "stream",
     "text": [
      "                                                                       \r"
     ]
    },
    {
     "name": "stdout",
     "output_type": "stream",
     "text": [
      "MoviePy - Done !\n",
      "MoviePy - video ready C:\\Users\\taylo\\OneDrive - Queen Mary, University of London\\Documents\\test_videos_extracted\\052_edited.mp4\n",
      "Extracted clip: 052_edited.mp4\n",
      "{'code': '053', 'file': '5867637432194743565.vtt', 'start': '00:21:27.702', 'end': '00:21:29.012', 'text': \"What's the first rule?\"}\n",
      "{'video_found': True, 'audio_found': False, 'metadata': {'major_brand': 'isom', 'minor_version': '512', 'compatible_brands': 'isomiso2avc1mp41', 'encoder': 'Lavf61.7.100'}, 'inputs': [{'streams': [{'input_number': 0, 'stream_number': 0, 'stream_type': 'video', 'language': None, 'default': True, 'size': [444, 444], 'bitrate': 386, 'fps': 25.0, 'codec_name': 'h264', 'profile': '(High)', 'metadata': {'Metadata': '', 'handler_name': 'VideoHandler', 'vendor_id': '[0][0][0][0]', 'encoder': 'Lavc61.19.100 libx264'}}], 'input_number': 0}], 'duration': 14.32, 'bitrate': 389, 'start': 0.0, 'default_video_input_number': 0, 'default_video_stream_number': 0, 'video_codec_name': 'h264', 'video_profile': '(High)', 'video_size': [444, 444], 'video_bitrate': 386, 'video_fps': 25.0, 'video_duration': 14.32, 'video_n_frames': 358}\n",
      "c:\\Users\\taylo\\OneDrive\\Documents\\Dissertation_Work\\signLanguageTranslator\\preprocessing\\.venv\\Lib\\site-packages\\imageio_ffmpeg\\binaries\\ffmpeg-win-x86_64-v7.1.exe -i C:\\Users\\taylo\\OneDrive - Queen Mary, University of London\\Documents\\test_videos\\clip_053.mp4 -loglevel error -f image2pipe -vf scale=444:444 -sws_flags bicubic -pix_fmt rgb24 -vcodec rawvideo -\n",
      "MoviePy - Building video C:\\Users\\taylo\\OneDrive - Queen Mary, University of London\\Documents\\test_videos_extracted\\053_edited.mp4.\n",
      "MoviePy - Writing video C:\\Users\\taylo\\OneDrive - Queen Mary, University of London\\Documents\\test_videos_extracted\\053_edited.mp4\n",
      "\n"
     ]
    },
    {
     "name": "stderr",
     "output_type": "stream",
     "text": [
      "                                                                     \r"
     ]
    },
    {
     "name": "stdout",
     "output_type": "stream",
     "text": [
      "MoviePy - Done !\n",
      "MoviePy - video ready C:\\Users\\taylo\\OneDrive - Queen Mary, University of London\\Documents\\test_videos_extracted\\053_edited.mp4\n",
      "Extracted clip: 053_edited.mp4\n",
      "{'code': '054', 'file': '6257761337619840450.vtt', 'start': '00:19:11.863', 'end': '00:19:15.853', 'text': 'Does being white make it difficult for it to hunt at night?'}\n",
      "{'video_found': True, 'audio_found': False, 'metadata': {'major_brand': 'isom', 'minor_version': '512', 'compatible_brands': 'isomiso2avc1mp41', 'encoder': 'Lavf61.7.100'}, 'inputs': [{'streams': [{'input_number': 0, 'stream_number': 0, 'stream_type': 'video', 'language': None, 'default': True, 'size': [444, 444], 'bitrate': 330, 'fps': 25.0, 'codec_name': 'h264', 'profile': '(High)', 'metadata': {'Metadata': '', 'handler_name': 'VideoHandler', 'vendor_id': '[0][0][0][0]', 'encoder': 'Lavc61.19.100 libx264'}}], 'input_number': 0}], 'duration': 17.0, 'bitrate': 332, 'start': 0.0, 'default_video_input_number': 0, 'default_video_stream_number': 0, 'video_codec_name': 'h264', 'video_profile': '(High)', 'video_size': [444, 444], 'video_bitrate': 330, 'video_fps': 25.0, 'video_duration': 17.0, 'video_n_frames': 425}\n",
      "c:\\Users\\taylo\\OneDrive\\Documents\\Dissertation_Work\\signLanguageTranslator\\preprocessing\\.venv\\Lib\\site-packages\\imageio_ffmpeg\\binaries\\ffmpeg-win-x86_64-v7.1.exe -i C:\\Users\\taylo\\OneDrive - Queen Mary, University of London\\Documents\\test_videos\\clip_054.mp4 -loglevel error -f image2pipe -vf scale=444:444 -sws_flags bicubic -pix_fmt rgb24 -vcodec rawvideo -\n",
      "MoviePy - Building video C:\\Users\\taylo\\OneDrive - Queen Mary, University of London\\Documents\\test_videos_extracted\\054_edited.mp4.\n",
      "MoviePy - Writing video C:\\Users\\taylo\\OneDrive - Queen Mary, University of London\\Documents\\test_videos_extracted\\054_edited.mp4\n",
      "\n"
     ]
    },
    {
     "name": "stderr",
     "output_type": "stream",
     "text": [
      "                                                                       \r"
     ]
    },
    {
     "name": "stdout",
     "output_type": "stream",
     "text": [
      "MoviePy - Done !\n",
      "MoviePy - video ready C:\\Users\\taylo\\OneDrive - Queen Mary, University of London\\Documents\\test_videos_extracted\\054_edited.mp4\n",
      "Extracted clip: 054_edited.mp4\n",
      "{'code': '055', 'file': '6366824301139582006.vtt', 'start': '00:00:08.179', 'end': '00:00:10.693', 'text': \"It's not for the faint-hearted.\"}\n",
      "{'video_found': True, 'audio_found': False, 'metadata': {'major_brand': 'isom', 'minor_version': '512', 'compatible_brands': 'isomiso2avc1mp41', 'encoder': 'Lavf61.7.100'}, 'inputs': [{'streams': [{'input_number': 0, 'stream_number': 0, 'stream_type': 'video', 'language': None, 'default': True, 'size': [444, 444], 'bitrate': 431, 'fps': 25.0, 'codec_name': 'h264', 'profile': '(High)', 'metadata': {'Metadata': '', 'handler_name': 'VideoHandler', 'vendor_id': '[0][0][0][0]', 'encoder': 'Lavc61.19.100 libx264'}}], 'input_number': 0}], 'duration': 15.52, 'bitrate': 434, 'start': 0.0, 'default_video_input_number': 0, 'default_video_stream_number': 0, 'video_codec_name': 'h264', 'video_profile': '(High)', 'video_size': [444, 444], 'video_bitrate': 431, 'video_fps': 25.0, 'video_duration': 15.52, 'video_n_frames': 388}\n",
      "c:\\Users\\taylo\\OneDrive\\Documents\\Dissertation_Work\\signLanguageTranslator\\preprocessing\\.venv\\Lib\\site-packages\\imageio_ffmpeg\\binaries\\ffmpeg-win-x86_64-v7.1.exe -i C:\\Users\\taylo\\OneDrive - Queen Mary, University of London\\Documents\\test_videos\\clip_055.mp4 -loglevel error -f image2pipe -vf scale=444:444 -sws_flags bicubic -pix_fmt rgb24 -vcodec rawvideo -\n",
      "MoviePy - Building video C:\\Users\\taylo\\OneDrive - Queen Mary, University of London\\Documents\\test_videos_extracted\\055_edited.mp4.\n",
      "MoviePy - Writing video C:\\Users\\taylo\\OneDrive - Queen Mary, University of London\\Documents\\test_videos_extracted\\055_edited.mp4\n",
      "\n"
     ]
    },
    {
     "name": "stderr",
     "output_type": "stream",
     "text": [
      "                                                                       \r"
     ]
    },
    {
     "name": "stdout",
     "output_type": "stream",
     "text": [
      "MoviePy - Done !\n",
      "MoviePy - video ready C:\\Users\\taylo\\OneDrive - Queen Mary, University of London\\Documents\\test_videos_extracted\\055_edited.mp4\n",
      "Extracted clip: 055_edited.mp4\n",
      "{'code': '056', 'file': '5928209355970165142.vtt', 'start': '00:26:33.013', 'end': '00:26:37.147', 'text': 'There was no-one else at the time doing that type of work.'}\n",
      "{'video_found': True, 'audio_found': False, 'metadata': {'major_brand': 'isom', 'minor_version': '512', 'compatible_brands': 'isomiso2avc1mp41', 'encoder': 'Lavf61.7.100'}, 'inputs': [{'streams': [{'input_number': 0, 'stream_number': 0, 'stream_type': 'video', 'language': None, 'default': True, 'size': [444, 444], 'bitrate': 339, 'fps': 25.0, 'codec_name': 'h264', 'profile': '(High)', 'metadata': {'Metadata': '', 'handler_name': 'VideoHandler', 'vendor_id': '[0][0][0][0]', 'encoder': 'Lavc61.19.100 libx264'}}], 'input_number': 0}], 'duration': 17.16, 'bitrate': 342, 'start': 0.0, 'default_video_input_number': 0, 'default_video_stream_number': 0, 'video_codec_name': 'h264', 'video_profile': '(High)', 'video_size': [444, 444], 'video_bitrate': 339, 'video_fps': 25.0, 'video_duration': 17.16, 'video_n_frames': 429}\n",
      "c:\\Users\\taylo\\OneDrive\\Documents\\Dissertation_Work\\signLanguageTranslator\\preprocessing\\.venv\\Lib\\site-packages\\imageio_ffmpeg\\binaries\\ffmpeg-win-x86_64-v7.1.exe -i C:\\Users\\taylo\\OneDrive - Queen Mary, University of London\\Documents\\test_videos\\clip_056.mp4 -loglevel error -f image2pipe -vf scale=444:444 -sws_flags bicubic -pix_fmt rgb24 -vcodec rawvideo -\n",
      "MoviePy - Building video C:\\Users\\taylo\\OneDrive - Queen Mary, University of London\\Documents\\test_videos_extracted\\056_edited.mp4.\n",
      "MoviePy - Writing video C:\\Users\\taylo\\OneDrive - Queen Mary, University of London\\Documents\\test_videos_extracted\\056_edited.mp4\n",
      "\n"
     ]
    },
    {
     "name": "stderr",
     "output_type": "stream",
     "text": [
      "                                                                        \r"
     ]
    },
    {
     "name": "stdout",
     "output_type": "stream",
     "text": [
      "MoviePy - Done !\n",
      "MoviePy - video ready C:\\Users\\taylo\\OneDrive - Queen Mary, University of London\\Documents\\test_videos_extracted\\056_edited.mp4\n",
      "Extracted clip: 056_edited.mp4\n",
      "{'code': '057', 'file': '5987128146850270993.vtt', 'start': '00:03:44.717', 'end': '00:03:51.657', 'text': \"'So he agreed to become one of the first 'to have a dead man's face transplanted onto his own.'\"}\n",
      "{'video_found': True, 'audio_found': False, 'metadata': {'major_brand': 'isom', 'minor_version': '512', 'compatible_brands': 'isomiso2avc1mp41', 'encoder': 'Lavf61.7.100'}, 'inputs': [{'streams': [{'input_number': 0, 'stream_number': 0, 'stream_type': 'video', 'language': None, 'default': True, 'size': [444, 444], 'bitrate': 433, 'fps': 25.0, 'codec_name': 'h264', 'profile': '(High)', 'metadata': {'Metadata': '', 'handler_name': 'VideoHandler', 'vendor_id': '[0][0][0][0]', 'encoder': 'Lavc61.19.100 libx264'}}], 'input_number': 0}], 'duration': 19.96, 'bitrate': 436, 'start': 0.0, 'default_video_input_number': 0, 'default_video_stream_number': 0, 'video_codec_name': 'h264', 'video_profile': '(High)', 'video_size': [444, 444], 'video_bitrate': 433, 'video_fps': 25.0, 'video_duration': 19.96, 'video_n_frames': 499}\n",
      "c:\\Users\\taylo\\OneDrive\\Documents\\Dissertation_Work\\signLanguageTranslator\\preprocessing\\.venv\\Lib\\site-packages\\imageio_ffmpeg\\binaries\\ffmpeg-win-x86_64-v7.1.exe -i C:\\Users\\taylo\\OneDrive - Queen Mary, University of London\\Documents\\test_videos\\clip_057.mp4 -loglevel error -f image2pipe -vf scale=444:444 -sws_flags bicubic -pix_fmt rgb24 -vcodec rawvideo -\n",
      "MoviePy - Building video C:\\Users\\taylo\\OneDrive - Queen Mary, University of London\\Documents\\test_videos_extracted\\057_edited.mp4.\n",
      "MoviePy - Writing video C:\\Users\\taylo\\OneDrive - Queen Mary, University of London\\Documents\\test_videos_extracted\\057_edited.mp4\n",
      "\n"
     ]
    },
    {
     "name": "stderr",
     "output_type": "stream",
     "text": [
      "                                                                         \r"
     ]
    },
    {
     "name": "stdout",
     "output_type": "stream",
     "text": [
      "MoviePy - Done !\n",
      "MoviePy - video ready C:\\Users\\taylo\\OneDrive - Queen Mary, University of London\\Documents\\test_videos_extracted\\057_edited.mp4\n",
      "Extracted clip: 057_edited.mp4\n",
      "{'code': '058', 'file': '5934408282268489292.vtt', 'start': '00:32:31.647', 'end': '00:32:33.757', 'text': 'What you think about the law and the police today?'}\n",
      "{'video_found': True, 'audio_found': False, 'metadata': {'major_brand': 'isom', 'minor_version': '512', 'compatible_brands': 'isomiso2avc1mp41', 'encoder': 'Lavf61.7.100'}, 'inputs': [{'streams': [{'input_number': 0, 'stream_number': 0, 'stream_type': 'video', 'language': None, 'default': True, 'size': [444, 444], 'bitrate': 432, 'fps': 25.0, 'codec_name': 'h264', 'profile': '(High)', 'metadata': {'Metadata': '', 'handler_name': 'VideoHandler', 'vendor_id': '[0][0][0][0]', 'encoder': 'Lavc61.19.100 libx264'}}], 'input_number': 0}], 'duration': 15.12, 'bitrate': 434, 'start': 0.0, 'default_video_input_number': 0, 'default_video_stream_number': 0, 'video_codec_name': 'h264', 'video_profile': '(High)', 'video_size': [444, 444], 'video_bitrate': 432, 'video_fps': 25.0, 'video_duration': 15.12, 'video_n_frames': 378}\n",
      "c:\\Users\\taylo\\OneDrive\\Documents\\Dissertation_Work\\signLanguageTranslator\\preprocessing\\.venv\\Lib\\site-packages\\imageio_ffmpeg\\binaries\\ffmpeg-win-x86_64-v7.1.exe -i C:\\Users\\taylo\\OneDrive - Queen Mary, University of London\\Documents\\test_videos\\clip_058.mp4 -loglevel error -f image2pipe -vf scale=444:444 -sws_flags bicubic -pix_fmt rgb24 -vcodec rawvideo -\n",
      "MoviePy - Building video C:\\Users\\taylo\\OneDrive - Queen Mary, University of London\\Documents\\test_videos_extracted\\058_edited.mp4.\n",
      "MoviePy - Writing video C:\\Users\\taylo\\OneDrive - Queen Mary, University of London\\Documents\\test_videos_extracted\\058_edited.mp4\n",
      "\n"
     ]
    },
    {
     "name": "stderr",
     "output_type": "stream",
     "text": [
      "                                                                       \r"
     ]
    },
    {
     "name": "stdout",
     "output_type": "stream",
     "text": [
      "MoviePy - Done !\n",
      "MoviePy - video ready C:\\Users\\taylo\\OneDrive - Queen Mary, University of London\\Documents\\test_videos_extracted\\058_edited.mp4\n",
      "Extracted clip: 058_edited.mp4\n",
      "{'code': '059', 'file': '6290262214121084137.vtt', 'start': '00:10:02.596', 'end': '00:10:12.816', 'text': 'But horticulture comes with small profit margins, normally between 2% and 8%, and that makes for some difficult sums if you are trying to run a business.'}\n",
      "{'video_found': True, 'audio_found': False, 'metadata': {'major_brand': 'isom', 'minor_version': '512', 'compatible_brands': 'isomiso2avc1mp41', 'encoder': 'Lavf61.7.100'}, 'inputs': [{'streams': [{'input_number': 0, 'stream_number': 0, 'stream_type': 'video', 'language': None, 'default': True, 'size': [444, 444], 'bitrate': 377, 'fps': 25.0, 'codec_name': 'h264', 'profile': '(High)', 'metadata': {'Metadata': '', 'handler_name': 'VideoHandler', 'vendor_id': '[0][0][0][0]', 'encoder': 'Lavc61.19.100 libx264'}}], 'input_number': 0}], 'duration': 23.24, 'bitrate': 379, 'start': 0.0, 'default_video_input_number': 0, 'default_video_stream_number': 0, 'video_codec_name': 'h264', 'video_profile': '(High)', 'video_size': [444, 444], 'video_bitrate': 377, 'video_fps': 25.0, 'video_duration': 23.24, 'video_n_frames': 581}\n",
      "c:\\Users\\taylo\\OneDrive\\Documents\\Dissertation_Work\\signLanguageTranslator\\preprocessing\\.venv\\Lib\\site-packages\\imageio_ffmpeg\\binaries\\ffmpeg-win-x86_64-v7.1.exe -i C:\\Users\\taylo\\OneDrive - Queen Mary, University of London\\Documents\\test_videos\\clip_059.mp4 -loglevel error -f image2pipe -vf scale=444:444 -sws_flags bicubic -pix_fmt rgb24 -vcodec rawvideo -\n",
      "MoviePy - Building video C:\\Users\\taylo\\OneDrive - Queen Mary, University of London\\Documents\\test_videos_extracted\\059_edited.mp4.\n",
      "MoviePy - Writing video C:\\Users\\taylo\\OneDrive - Queen Mary, University of London\\Documents\\test_videos_extracted\\059_edited.mp4\n",
      "\n"
     ]
    },
    {
     "name": "stderr",
     "output_type": "stream",
     "text": [
      "                                                                         \r"
     ]
    },
    {
     "name": "stdout",
     "output_type": "stream",
     "text": [
      "MoviePy - Done !\n",
      "MoviePy - video ready C:\\Users\\taylo\\OneDrive - Queen Mary, University of London\\Documents\\test_videos_extracted\\059_edited.mp4\n",
      "Extracted clip: 059_edited.mp4\n",
      "{'code': '060', 'file': '6047414025808034037.vtt', 'start': '00:26:47.115', 'end': '00:26:51.283', 'text': 'A relaxed-looking Lee finished the race in 59 seconds.'}\n",
      "{'video_found': True, 'audio_found': False, 'metadata': {'major_brand': 'isom', 'minor_version': '512', 'compatible_brands': 'isomiso2avc1mp41', 'encoder': 'Lavf61.7.100'}, 'inputs': [{'streams': [{'input_number': 0, 'stream_number': 0, 'stream_type': 'video', 'language': None, 'default': True, 'size': [444, 444], 'bitrate': 509, 'fps': 25.0, 'codec_name': 'h264', 'profile': '(High)', 'metadata': {'Metadata': '', 'handler_name': 'VideoHandler', 'vendor_id': '[0][0][0][0]', 'encoder': 'Lavc61.19.100 libx264'}}], 'input_number': 0}], 'duration': 17.2, 'bitrate': 512, 'start': 0.0, 'default_video_input_number': 0, 'default_video_stream_number': 0, 'video_codec_name': 'h264', 'video_profile': '(High)', 'video_size': [444, 444], 'video_bitrate': 509, 'video_fps': 25.0, 'video_duration': 17.2, 'video_n_frames': 430}\n",
      "c:\\Users\\taylo\\OneDrive\\Documents\\Dissertation_Work\\signLanguageTranslator\\preprocessing\\.venv\\Lib\\site-packages\\imageio_ffmpeg\\binaries\\ffmpeg-win-x86_64-v7.1.exe -i C:\\Users\\taylo\\OneDrive - Queen Mary, University of London\\Documents\\test_videos\\clip_060.mp4 -loglevel error -f image2pipe -vf scale=444:444 -sws_flags bicubic -pix_fmt rgb24 -vcodec rawvideo -\n",
      "MoviePy - Building video C:\\Users\\taylo\\OneDrive - Queen Mary, University of London\\Documents\\test_videos_extracted\\060_edited.mp4.\n",
      "MoviePy - Writing video C:\\Users\\taylo\\OneDrive - Queen Mary, University of London\\Documents\\test_videos_extracted\\060_edited.mp4\n",
      "\n"
     ]
    },
    {
     "name": "stderr",
     "output_type": "stream",
     "text": [
      "                                                                         \r"
     ]
    },
    {
     "name": "stdout",
     "output_type": "stream",
     "text": [
      "MoviePy - Done !\n",
      "MoviePy - video ready C:\\Users\\taylo\\OneDrive - Queen Mary, University of London\\Documents\\test_videos_extracted\\060_edited.mp4\n",
      "Extracted clip: 060_edited.mp4\n",
      "{'code': '061', 'file': '6130854073433323136.vtt', 'start': '00:27:59.200', 'end': '00:28:01.310', 'text': \"I'm going to pop these into the greenhouse.\"}\n",
      "{'video_found': True, 'audio_found': False, 'metadata': {'major_brand': 'isom', 'minor_version': '512', 'compatible_brands': 'isomiso2avc1mp41', 'encoder': 'Lavf61.7.100'}, 'inputs': [{'streams': [{'input_number': 0, 'stream_number': 0, 'stream_type': 'video', 'language': None, 'default': True, 'size': [444, 444], 'bitrate': 341, 'fps': 25.0, 'codec_name': 'h264', 'profile': '(High)', 'metadata': {'Metadata': '', 'handler_name': 'VideoHandler', 'vendor_id': '[0][0][0][0]', 'encoder': 'Lavc61.19.100 libx264'}}], 'input_number': 0}], 'duration': 15.12, 'bitrate': 344, 'start': 0.0, 'default_video_input_number': 0, 'default_video_stream_number': 0, 'video_codec_name': 'h264', 'video_profile': '(High)', 'video_size': [444, 444], 'video_bitrate': 341, 'video_fps': 25.0, 'video_duration': 15.12, 'video_n_frames': 378}\n",
      "c:\\Users\\taylo\\OneDrive\\Documents\\Dissertation_Work\\signLanguageTranslator\\preprocessing\\.venv\\Lib\\site-packages\\imageio_ffmpeg\\binaries\\ffmpeg-win-x86_64-v7.1.exe -i C:\\Users\\taylo\\OneDrive - Queen Mary, University of London\\Documents\\test_videos\\clip_061.mp4 -loglevel error -f image2pipe -vf scale=444:444 -sws_flags bicubic -pix_fmt rgb24 -vcodec rawvideo -\n",
      "MoviePy - Building video C:\\Users\\taylo\\OneDrive - Queen Mary, University of London\\Documents\\test_videos_extracted\\061_edited.mp4.\n",
      "MoviePy - Writing video C:\\Users\\taylo\\OneDrive - Queen Mary, University of London\\Documents\\test_videos_extracted\\061_edited.mp4\n",
      "\n"
     ]
    },
    {
     "name": "stderr",
     "output_type": "stream",
     "text": [
      "                                                                       \r"
     ]
    },
    {
     "name": "stdout",
     "output_type": "stream",
     "text": [
      "MoviePy - Done !\n",
      "MoviePy - video ready C:\\Users\\taylo\\OneDrive - Queen Mary, University of London\\Documents\\test_videos_extracted\\061_edited.mp4\n",
      "Extracted clip: 061_edited.mp4\n",
      "{'code': '062', 'file': '6164100985774907995.vtt', 'start': '00:35:19.703', 'end': '00:35:21.325', 'text': \"I haven't got loads.\"}\n",
      "{'video_found': True, 'audio_found': False, 'metadata': {'major_brand': 'isom', 'minor_version': '512', 'compatible_brands': 'isomiso2avc1mp41', 'encoder': 'Lavf61.7.100'}, 'inputs': [{'streams': [{'input_number': 0, 'stream_number': 0, 'stream_type': 'video', 'language': None, 'default': True, 'size': [444, 444], 'bitrate': 293, 'fps': 25.0, 'codec_name': 'h264', 'profile': '(High)', 'metadata': {'Metadata': '', 'handler_name': 'VideoHandler', 'vendor_id': '[0][0][0][0]', 'encoder': 'Lavc61.19.100 libx264'}}], 'input_number': 0}], 'duration': 14.64, 'bitrate': 296, 'start': 0.0, 'default_video_input_number': 0, 'default_video_stream_number': 0, 'video_codec_name': 'h264', 'video_profile': '(High)', 'video_size': [444, 444], 'video_bitrate': 293, 'video_fps': 25.0, 'video_duration': 14.64, 'video_n_frames': 366}\n",
      "c:\\Users\\taylo\\OneDrive\\Documents\\Dissertation_Work\\signLanguageTranslator\\preprocessing\\.venv\\Lib\\site-packages\\imageio_ffmpeg\\binaries\\ffmpeg-win-x86_64-v7.1.exe -i C:\\Users\\taylo\\OneDrive - Queen Mary, University of London\\Documents\\test_videos\\clip_062.mp4 -loglevel error -f image2pipe -vf scale=444:444 -sws_flags bicubic -pix_fmt rgb24 -vcodec rawvideo -\n",
      "MoviePy - Building video C:\\Users\\taylo\\OneDrive - Queen Mary, University of London\\Documents\\test_videos_extracted\\062_edited.mp4.\n",
      "MoviePy - Writing video C:\\Users\\taylo\\OneDrive - Queen Mary, University of London\\Documents\\test_videos_extracted\\062_edited.mp4\n",
      "\n"
     ]
    },
    {
     "name": "stderr",
     "output_type": "stream",
     "text": [
      "                                                                       \r"
     ]
    },
    {
     "name": "stdout",
     "output_type": "stream",
     "text": [
      "MoviePy - Done !\n",
      "MoviePy - video ready C:\\Users\\taylo\\OneDrive - Queen Mary, University of London\\Documents\\test_videos_extracted\\062_edited.mp4\n",
      "Extracted clip: 062_edited.mp4\n",
      "{'code': '063', 'file': '6059100631799409485.vtt', 'start': '00:30:30.346', 'end': '00:30:38.796', 'text': 'Later on in the programme, we will be following the water course down to help breathe new life into another fine example of this restoration project.'}\n",
      "{'video_found': True, 'audio_found': False, 'metadata': {'major_brand': 'isom', 'minor_version': '512', 'compatible_brands': 'isomiso2avc1mp41', 'encoder': 'Lavf61.7.100'}, 'inputs': [{'streams': [{'input_number': 0, 'stream_number': 0, 'stream_type': 'video', 'language': None, 'default': True, 'size': [444, 444], 'bitrate': 464, 'fps': 25.0, 'codec_name': 'h264', 'profile': '(High)', 'metadata': {'Metadata': '', 'handler_name': 'VideoHandler', 'vendor_id': '[0][0][0][0]', 'encoder': 'Lavc61.19.100 libx264'}}], 'input_number': 0}], 'duration': 21.48, 'bitrate': 466, 'start': 0.0, 'default_video_input_number': 0, 'default_video_stream_number': 0, 'video_codec_name': 'h264', 'video_profile': '(High)', 'video_size': [444, 444], 'video_bitrate': 464, 'video_fps': 25.0, 'video_duration': 21.48, 'video_n_frames': 537}\n",
      "c:\\Users\\taylo\\OneDrive\\Documents\\Dissertation_Work\\signLanguageTranslator\\preprocessing\\.venv\\Lib\\site-packages\\imageio_ffmpeg\\binaries\\ffmpeg-win-x86_64-v7.1.exe -i C:\\Users\\taylo\\OneDrive - Queen Mary, University of London\\Documents\\test_videos\\clip_063.mp4 -loglevel error -f image2pipe -vf scale=444:444 -sws_flags bicubic -pix_fmt rgb24 -vcodec rawvideo -\n",
      "MoviePy - Building video C:\\Users\\taylo\\OneDrive - Queen Mary, University of London\\Documents\\test_videos_extracted\\063_edited.mp4.\n",
      "MoviePy - Writing video C:\\Users\\taylo\\OneDrive - Queen Mary, University of London\\Documents\\test_videos_extracted\\063_edited.mp4\n",
      "\n"
     ]
    },
    {
     "name": "stderr",
     "output_type": "stream",
     "text": [
      "                                                                         \r"
     ]
    },
    {
     "name": "stdout",
     "output_type": "stream",
     "text": [
      "MoviePy - Done !\n",
      "MoviePy - video ready C:\\Users\\taylo\\OneDrive - Queen Mary, University of London\\Documents\\test_videos_extracted\\063_edited.mp4\n",
      "Extracted clip: 063_edited.mp4\n",
      "{'code': '064', 'file': '6118829882991424621.vtt', 'start': '00:13:48.754', 'end': '00:13:58.694', 'text': \"There is a debate that goes on where people like the Countryside Alliance claim that the legislation isn't being used and that it's not effective, whereas, in fact, the evidence is that it is being effective.\"}\n",
      "{'video_found': True, 'audio_found': False, 'metadata': {'major_brand': 'isom', 'minor_version': '512', 'compatible_brands': 'isomiso2avc1mp41', 'encoder': 'Lavf61.7.100'}, 'inputs': [{'streams': [{'input_number': 0, 'stream_number': 0, 'stream_type': 'video', 'language': None, 'default': True, 'size': [444, 444], 'bitrate': 317, 'fps': 25.0, 'codec_name': 'h264', 'profile': '(High)', 'metadata': {'Metadata': '', 'handler_name': 'VideoHandler', 'vendor_id': '[0][0][0][0]', 'encoder': 'Lavc61.19.100 libx264'}}], 'input_number': 0}], 'duration': 22.96, 'bitrate': 320, 'start': 0.0, 'default_video_input_number': 0, 'default_video_stream_number': 0, 'video_codec_name': 'h264', 'video_profile': '(High)', 'video_size': [444, 444], 'video_bitrate': 317, 'video_fps': 25.0, 'video_duration': 22.96, 'video_n_frames': 574}\n",
      "c:\\Users\\taylo\\OneDrive\\Documents\\Dissertation_Work\\signLanguageTranslator\\preprocessing\\.venv\\Lib\\site-packages\\imageio_ffmpeg\\binaries\\ffmpeg-win-x86_64-v7.1.exe -i C:\\Users\\taylo\\OneDrive - Queen Mary, University of London\\Documents\\test_videos\\clip_064.mp4 -loglevel error -f image2pipe -vf scale=444:444 -sws_flags bicubic -pix_fmt rgb24 -vcodec rawvideo -\n",
      "MoviePy - Building video C:\\Users\\taylo\\OneDrive - Queen Mary, University of London\\Documents\\test_videos_extracted\\064_edited.mp4.\n",
      "MoviePy - Writing video C:\\Users\\taylo\\OneDrive - Queen Mary, University of London\\Documents\\test_videos_extracted\\064_edited.mp4\n",
      "\n"
     ]
    },
    {
     "name": "stderr",
     "output_type": "stream",
     "text": [
      "                                                                         \r"
     ]
    },
    {
     "name": "stdout",
     "output_type": "stream",
     "text": [
      "MoviePy - Done !\n",
      "MoviePy - video ready C:\\Users\\taylo\\OneDrive - Queen Mary, University of London\\Documents\\test_videos_extracted\\064_edited.mp4\n",
      "Extracted clip: 064_edited.mp4\n",
      "{'code': '065', 'file': '6385655585248876901.vtt', 'start': '00:32:56.483', 'end': '00:32:59.803', 'text': 'Curtains were never opened at any time at all, front or back of house.'}\n",
      "{'video_found': True, 'audio_found': False, 'metadata': {'major_brand': 'isom', 'minor_version': '512', 'compatible_brands': 'isomiso2avc1mp41', 'encoder': 'Lavf61.7.100'}, 'inputs': [{'streams': [{'input_number': 0, 'stream_number': 0, 'stream_type': 'video', 'language': None, 'default': True, 'size': [444, 444], 'bitrate': 333, 'fps': 25.0, 'codec_name': 'h264', 'profile': '(High)', 'metadata': {'Metadata': '', 'handler_name': 'VideoHandler', 'vendor_id': '[0][0][0][0]', 'encoder': 'Lavc61.19.100 libx264'}}], 'input_number': 0}], 'duration': 16.32, 'bitrate': 335, 'start': 0.0, 'default_video_input_number': 0, 'default_video_stream_number': 0, 'video_codec_name': 'h264', 'video_profile': '(High)', 'video_size': [444, 444], 'video_bitrate': 333, 'video_fps': 25.0, 'video_duration': 16.32, 'video_n_frames': 408}\n",
      "c:\\Users\\taylo\\OneDrive\\Documents\\Dissertation_Work\\signLanguageTranslator\\preprocessing\\.venv\\Lib\\site-packages\\imageio_ffmpeg\\binaries\\ffmpeg-win-x86_64-v7.1.exe -i C:\\Users\\taylo\\OneDrive - Queen Mary, University of London\\Documents\\test_videos\\clip_065.mp4 -loglevel error -f image2pipe -vf scale=444:444 -sws_flags bicubic -pix_fmt rgb24 -vcodec rawvideo -\n",
      "MoviePy - Building video C:\\Users\\taylo\\OneDrive - Queen Mary, University of London\\Documents\\test_videos_extracted\\065_edited.mp4.\n",
      "MoviePy - Writing video C:\\Users\\taylo\\OneDrive - Queen Mary, University of London\\Documents\\test_videos_extracted\\065_edited.mp4\n",
      "\n"
     ]
    },
    {
     "name": "stderr",
     "output_type": "stream",
     "text": [
      "                                                                       \r"
     ]
    },
    {
     "name": "stdout",
     "output_type": "stream",
     "text": [
      "MoviePy - Done !\n",
      "MoviePy - video ready C:\\Users\\taylo\\OneDrive - Queen Mary, University of London\\Documents\\test_videos_extracted\\065_edited.mp4\n",
      "Extracted clip: 065_edited.mp4\n",
      "{'code': '066', 'file': '5947893620584452247.vtt', 'start': '00:30:54.968', 'end': '00:30:56.609', 'text': 'You go off and play, presumably.'}\n",
      "{'video_found': True, 'audio_found': False, 'metadata': {'major_brand': 'isom', 'minor_version': '512', 'compatible_brands': 'isomiso2avc1mp41', 'encoder': 'Lavf61.7.100'}, 'inputs': [{'streams': [{'input_number': 0, 'stream_number': 0, 'stream_type': 'video', 'language': None, 'default': True, 'size': [444, 444], 'bitrate': 418, 'fps': 25.0, 'codec_name': 'h264', 'profile': '(High)', 'metadata': {'Metadata': '', 'handler_name': 'VideoHandler', 'vendor_id': '[0][0][0][0]', 'encoder': 'Lavc61.19.100 libx264'}}], 'input_number': 0}], 'duration': 14.68, 'bitrate': 420, 'start': 0.0, 'default_video_input_number': 0, 'default_video_stream_number': 0, 'video_codec_name': 'h264', 'video_profile': '(High)', 'video_size': [444, 444], 'video_bitrate': 418, 'video_fps': 25.0, 'video_duration': 14.68, 'video_n_frames': 367}\n",
      "c:\\Users\\taylo\\OneDrive\\Documents\\Dissertation_Work\\signLanguageTranslator\\preprocessing\\.venv\\Lib\\site-packages\\imageio_ffmpeg\\binaries\\ffmpeg-win-x86_64-v7.1.exe -i C:\\Users\\taylo\\OneDrive - Queen Mary, University of London\\Documents\\test_videos\\clip_066.mp4 -loglevel error -f image2pipe -vf scale=444:444 -sws_flags bicubic -pix_fmt rgb24 -vcodec rawvideo -\n",
      "MoviePy - Building video C:\\Users\\taylo\\OneDrive - Queen Mary, University of London\\Documents\\test_videos_extracted\\066_edited.mp4.\n",
      "MoviePy - Writing video C:\\Users\\taylo\\OneDrive - Queen Mary, University of London\\Documents\\test_videos_extracted\\066_edited.mp4\n",
      "\n"
     ]
    },
    {
     "name": "stderr",
     "output_type": "stream",
     "text": [
      "                                                                       \r"
     ]
    },
    {
     "name": "stdout",
     "output_type": "stream",
     "text": [
      "MoviePy - Done !\n",
      "MoviePy - video ready C:\\Users\\taylo\\OneDrive - Queen Mary, University of London\\Documents\\test_videos_extracted\\066_edited.mp4\n",
      "Extracted clip: 066_edited.mp4\n",
      "{'code': '067', 'file': '6070722813302401768.vtt', 'start': '00:11:34.086', 'end': '00:11:40.276', 'text': \"Then leave them, because they won't show any signs of growth until next summer.\"}\n",
      "{'video_found': True, 'audio_found': False, 'metadata': {'major_brand': 'isom', 'minor_version': '512', 'compatible_brands': 'isomiso2avc1mp41', 'encoder': 'Lavf61.7.100'}, 'inputs': [{'streams': [{'input_number': 0, 'stream_number': 0, 'stream_type': 'video', 'language': None, 'default': True, 'size': [444, 444], 'bitrate': 263, 'fps': 25.0, 'codec_name': 'h264', 'profile': '(High)', 'metadata': {'Metadata': '', 'handler_name': 'VideoHandler', 'vendor_id': '[0][0][0][0]', 'encoder': 'Lavc61.19.100 libx264'}}], 'input_number': 0}], 'duration': 19.2, 'bitrate': 265, 'start': 0.0, 'default_video_input_number': 0, 'default_video_stream_number': 0, 'video_codec_name': 'h264', 'video_profile': '(High)', 'video_size': [444, 444], 'video_bitrate': 263, 'video_fps': 25.0, 'video_duration': 19.2, 'video_n_frames': 480}\n",
      "c:\\Users\\taylo\\OneDrive\\Documents\\Dissertation_Work\\signLanguageTranslator\\preprocessing\\.venv\\Lib\\site-packages\\imageio_ffmpeg\\binaries\\ffmpeg-win-x86_64-v7.1.exe -i C:\\Users\\taylo\\OneDrive - Queen Mary, University of London\\Documents\\test_videos\\clip_067.mp4 -loglevel error -f image2pipe -vf scale=444:444 -sws_flags bicubic -pix_fmt rgb24 -vcodec rawvideo -\n",
      "MoviePy - Building video C:\\Users\\taylo\\OneDrive - Queen Mary, University of London\\Documents\\test_videos_extracted\\067_edited.mp4.\n",
      "MoviePy - Writing video C:\\Users\\taylo\\OneDrive - Queen Mary, University of London\\Documents\\test_videos_extracted\\067_edited.mp4\n",
      "\n"
     ]
    },
    {
     "name": "stderr",
     "output_type": "stream",
     "text": [
      "                                                                         \r"
     ]
    },
    {
     "name": "stdout",
     "output_type": "stream",
     "text": [
      "MoviePy - Done !\n",
      "MoviePy - video ready C:\\Users\\taylo\\OneDrive - Queen Mary, University of London\\Documents\\test_videos_extracted\\067_edited.mp4\n",
      "Extracted clip: 067_edited.mp4\n",
      "{'code': '068', 'file': '6124055999197204899.vtt', 'start': '00:43:35.856', 'end': '00:43:37.736', 'text': 'He said so himself when he first met you.'}\n",
      "{'video_found': True, 'audio_found': False, 'metadata': {'major_brand': 'isom', 'minor_version': '512', 'compatible_brands': 'isomiso2avc1mp41', 'encoder': 'Lavf61.7.100'}, 'inputs': [{'streams': [{'input_number': 0, 'stream_number': 0, 'stream_type': 'video', 'language': None, 'default': True, 'size': [444, 444], 'bitrate': 279, 'fps': 25.0, 'codec_name': 'h264', 'profile': '(High)', 'metadata': {'Metadata': '', 'handler_name': 'VideoHandler', 'vendor_id': '[0][0][0][0]', 'encoder': 'Lavc61.19.100 libx264'}}], 'input_number': 0}], 'duration': 14.88, 'bitrate': 282, 'start': 0.0, 'default_video_input_number': 0, 'default_video_stream_number': 0, 'video_codec_name': 'h264', 'video_profile': '(High)', 'video_size': [444, 444], 'video_bitrate': 279, 'video_fps': 25.0, 'video_duration': 14.88, 'video_n_frames': 372}\n",
      "c:\\Users\\taylo\\OneDrive\\Documents\\Dissertation_Work\\signLanguageTranslator\\preprocessing\\.venv\\Lib\\site-packages\\imageio_ffmpeg\\binaries\\ffmpeg-win-x86_64-v7.1.exe -i C:\\Users\\taylo\\OneDrive - Queen Mary, University of London\\Documents\\test_videos\\clip_068.mp4 -loglevel error -f image2pipe -vf scale=444:444 -sws_flags bicubic -pix_fmt rgb24 -vcodec rawvideo -\n",
      "MoviePy - Building video C:\\Users\\taylo\\OneDrive - Queen Mary, University of London\\Documents\\test_videos_extracted\\068_edited.mp4.\n",
      "MoviePy - Writing video C:\\Users\\taylo\\OneDrive - Queen Mary, University of London\\Documents\\test_videos_extracted\\068_edited.mp4\n",
      "\n"
     ]
    },
    {
     "name": "stderr",
     "output_type": "stream",
     "text": [
      "                                                             \r"
     ]
    },
    {
     "name": "stdout",
     "output_type": "stream",
     "text": [
      "MoviePy - Done !\n",
      "MoviePy - video ready C:\\Users\\taylo\\OneDrive - Queen Mary, University of London\\Documents\\test_videos_extracted\\068_edited.mp4\n",
      "Extracted clip: 068_edited.mp4\n",
      "{'code': '069', 'file': '5960483458219230511.vtt', 'start': '00:55:51.990', 'end': '00:55:54.470', 'text': 'All the juices have soaked into the rice.'}\n",
      "{'video_found': True, 'audio_found': False, 'metadata': {'major_brand': 'isom', 'minor_version': '512', 'compatible_brands': 'isomiso2avc1mp41', 'encoder': 'Lavf61.7.100'}, 'inputs': [{'streams': [{'input_number': 0, 'stream_number': 0, 'stream_type': 'video', 'language': None, 'default': True, 'size': [444, 444], 'bitrate': 383, 'fps': 25.0, 'codec_name': 'h264', 'profile': '(High)', 'metadata': {'Metadata': '', 'handler_name': 'VideoHandler', 'vendor_id': '[0][0][0][0]', 'encoder': 'Lavc61.19.100 libx264'}}], 'input_number': 0}], 'duration': 15.52, 'bitrate': 385, 'start': 0.0, 'default_video_input_number': 0, 'default_video_stream_number': 0, 'video_codec_name': 'h264', 'video_profile': '(High)', 'video_size': [444, 444], 'video_bitrate': 383, 'video_fps': 25.0, 'video_duration': 15.52, 'video_n_frames': 388}\n",
      "c:\\Users\\taylo\\OneDrive\\Documents\\Dissertation_Work\\signLanguageTranslator\\preprocessing\\.venv\\Lib\\site-packages\\imageio_ffmpeg\\binaries\\ffmpeg-win-x86_64-v7.1.exe -i C:\\Users\\taylo\\OneDrive - Queen Mary, University of London\\Documents\\test_videos\\clip_069.mp4 -loglevel error -f image2pipe -vf scale=444:444 -sws_flags bicubic -pix_fmt rgb24 -vcodec rawvideo -\n",
      "MoviePy - Building video C:\\Users\\taylo\\OneDrive - Queen Mary, University of London\\Documents\\test_videos_extracted\\069_edited.mp4.\n",
      "MoviePy - Writing video C:\\Users\\taylo\\OneDrive - Queen Mary, University of London\\Documents\\test_videos_extracted\\069_edited.mp4\n",
      "\n"
     ]
    },
    {
     "name": "stderr",
     "output_type": "stream",
     "text": [
      "                                                                       \r"
     ]
    },
    {
     "name": "stdout",
     "output_type": "stream",
     "text": [
      "MoviePy - Done !\n",
      "MoviePy - video ready C:\\Users\\taylo\\OneDrive - Queen Mary, University of London\\Documents\\test_videos_extracted\\069_edited.mp4\n",
      "Extracted clip: 069_edited.mp4\n",
      "{'code': '070', 'file': '6249968548957975525.vtt', 'start': '00:17:10.572', 'end': '00:17:15.302', 'text': 'Well, the condor is one of the largest flying birds in the world.'}\n",
      "{'video_found': True, 'audio_found': False, 'metadata': {'major_brand': 'isom', 'minor_version': '512', 'compatible_brands': 'isomiso2avc1mp41', 'encoder': 'Lavf61.7.100'}, 'inputs': [{'streams': [{'input_number': 0, 'stream_number': 0, 'stream_type': 'video', 'language': None, 'default': True, 'size': [444, 444], 'bitrate': 505, 'fps': 25.0, 'codec_name': 'h264', 'profile': '(High)', 'metadata': {'Metadata': '', 'handler_name': 'VideoHandler', 'vendor_id': '[0][0][0][0]', 'encoder': 'Lavc61.19.100 libx264'}}], 'input_number': 0}], 'duration': 17.76, 'bitrate': 508, 'start': 0.0, 'default_video_input_number': 0, 'default_video_stream_number': 0, 'video_codec_name': 'h264', 'video_profile': '(High)', 'video_size': [444, 444], 'video_bitrate': 505, 'video_fps': 25.0, 'video_duration': 17.76, 'video_n_frames': 444}\n",
      "c:\\Users\\taylo\\OneDrive\\Documents\\Dissertation_Work\\signLanguageTranslator\\preprocessing\\.venv\\Lib\\site-packages\\imageio_ffmpeg\\binaries\\ffmpeg-win-x86_64-v7.1.exe -i C:\\Users\\taylo\\OneDrive - Queen Mary, University of London\\Documents\\test_videos\\clip_070.mp4 -loglevel error -f image2pipe -vf scale=444:444 -sws_flags bicubic -pix_fmt rgb24 -vcodec rawvideo -\n",
      "MoviePy - Building video C:\\Users\\taylo\\OneDrive - Queen Mary, University of London\\Documents\\test_videos_extracted\\070_edited.mp4.\n",
      "MoviePy - Writing video C:\\Users\\taylo\\OneDrive - Queen Mary, University of London\\Documents\\test_videos_extracted\\070_edited.mp4\n",
      "\n"
     ]
    },
    {
     "name": "stderr",
     "output_type": "stream",
     "text": [
      "                                                                        \r"
     ]
    },
    {
     "name": "stdout",
     "output_type": "stream",
     "text": [
      "MoviePy - Done !\n",
      "MoviePy - video ready C:\\Users\\taylo\\OneDrive - Queen Mary, University of London\\Documents\\test_videos_extracted\\070_edited.mp4\n",
      "Extracted clip: 070_edited.mp4\n",
      "{'code': '071', 'file': '6036581688769750274.vtt', 'start': '00:20:32.649', 'end': '00:20:35.371', 'text': 'And the cubs are coping really well.'}\n",
      "{'video_found': True, 'audio_found': False, 'metadata': {'major_brand': 'isom', 'minor_version': '512', 'compatible_brands': 'isomiso2avc1mp41', 'encoder': 'Lavf61.7.100'}, 'inputs': [{'streams': [{'input_number': 0, 'stream_number': 0, 'stream_type': 'video', 'language': None, 'default': True, 'size': [444, 444], 'bitrate': 464, 'fps': 25.0, 'codec_name': 'h264', 'profile': '(High)', 'metadata': {'Metadata': '', 'handler_name': 'VideoHandler', 'vendor_id': '[0][0][0][0]', 'encoder': 'Lavc61.19.100 libx264'}}], 'input_number': 0}], 'duration': 15.76, 'bitrate': 467, 'start': 0.0, 'default_video_input_number': 0, 'default_video_stream_number': 0, 'video_codec_name': 'h264', 'video_profile': '(High)', 'video_size': [444, 444], 'video_bitrate': 464, 'video_fps': 25.0, 'video_duration': 15.76, 'video_n_frames': 394}\n",
      "c:\\Users\\taylo\\OneDrive\\Documents\\Dissertation_Work\\signLanguageTranslator\\preprocessing\\.venv\\Lib\\site-packages\\imageio_ffmpeg\\binaries\\ffmpeg-win-x86_64-v7.1.exe -i C:\\Users\\taylo\\OneDrive - Queen Mary, University of London\\Documents\\test_videos\\clip_071.mp4 -loglevel error -f image2pipe -vf scale=444:444 -sws_flags bicubic -pix_fmt rgb24 -vcodec rawvideo -\n",
      "MoviePy - Building video C:\\Users\\taylo\\OneDrive - Queen Mary, University of London\\Documents\\test_videos_extracted\\071_edited.mp4.\n",
      "MoviePy - Writing video C:\\Users\\taylo\\OneDrive - Queen Mary, University of London\\Documents\\test_videos_extracted\\071_edited.mp4\n",
      "\n"
     ]
    },
    {
     "name": "stderr",
     "output_type": "stream",
     "text": [
      "                                                                       \r"
     ]
    },
    {
     "name": "stdout",
     "output_type": "stream",
     "text": [
      "MoviePy - Done !\n",
      "MoviePy - video ready C:\\Users\\taylo\\OneDrive - Queen Mary, University of London\\Documents\\test_videos_extracted\\071_edited.mp4\n",
      "Extracted clip: 071_edited.mp4\n",
      "{'code': '072', 'file': '6035711957892310247.vtt', 'start': '00:42:24.916', 'end': '00:42:28.386', 'text': 'But I can help you, we could take it slowly, make up our own rules...'}\n",
      "{'video_found': True, 'audio_found': False, 'metadata': {'major_brand': 'isom', 'minor_version': '512', 'compatible_brands': 'isomiso2avc1mp41', 'encoder': 'Lavf61.7.100'}, 'inputs': [{'streams': [{'input_number': 0, 'stream_number': 0, 'stream_type': 'video', 'language': None, 'default': True, 'size': [444, 444], 'bitrate': 402, 'fps': 25.0, 'codec_name': 'h264', 'profile': '(High)', 'metadata': {'Metadata': '', 'handler_name': 'VideoHandler', 'vendor_id': '[0][0][0][0]', 'encoder': 'Lavc61.19.100 libx264'}}], 'input_number': 0}], 'duration': 16.48, 'bitrate': 404, 'start': 0.0, 'default_video_input_number': 0, 'default_video_stream_number': 0, 'video_codec_name': 'h264', 'video_profile': '(High)', 'video_size': [444, 444], 'video_bitrate': 402, 'video_fps': 25.0, 'video_duration': 16.48, 'video_n_frames': 412}\n",
      "c:\\Users\\taylo\\OneDrive\\Documents\\Dissertation_Work\\signLanguageTranslator\\preprocessing\\.venv\\Lib\\site-packages\\imageio_ffmpeg\\binaries\\ffmpeg-win-x86_64-v7.1.exe -i C:\\Users\\taylo\\OneDrive - Queen Mary, University of London\\Documents\\test_videos\\clip_072.mp4 -loglevel error -f image2pipe -vf scale=444:444 -sws_flags bicubic -pix_fmt rgb24 -vcodec rawvideo -\n",
      "MoviePy - Building video C:\\Users\\taylo\\OneDrive - Queen Mary, University of London\\Documents\\test_videos_extracted\\072_edited.mp4.\n",
      "MoviePy - Writing video C:\\Users\\taylo\\OneDrive - Queen Mary, University of London\\Documents\\test_videos_extracted\\072_edited.mp4\n",
      "\n"
     ]
    },
    {
     "name": "stderr",
     "output_type": "stream",
     "text": [
      "                                                                       \r"
     ]
    },
    {
     "name": "stdout",
     "output_type": "stream",
     "text": [
      "MoviePy - Done !\n",
      "MoviePy - video ready C:\\Users\\taylo\\OneDrive - Queen Mary, University of London\\Documents\\test_videos_extracted\\072_edited.mp4\n",
      "Extracted clip: 072_edited.mp4\n",
      "{'code': '073', 'file': '6259110386826469954.vtt', 'start': '00:04:28.592', 'end': '00:04:32.279', 'text': 'Probably about the youngest oyster we sell here is about four years old.'}\n",
      "{'video_found': True, 'audio_found': False, 'metadata': {'major_brand': 'isom', 'minor_version': '512', 'compatible_brands': 'isomiso2avc1mp41', 'encoder': 'Lavf61.7.100'}, 'inputs': [{'streams': [{'input_number': 0, 'stream_number': 0, 'stream_type': 'video', 'language': None, 'default': True, 'size': [444, 444], 'bitrate': 407, 'fps': 25.0, 'codec_name': 'h264', 'profile': '(High)', 'metadata': {'Metadata': '', 'handler_name': 'VideoHandler', 'vendor_id': '[0][0][0][0]', 'encoder': 'Lavc61.19.100 libx264'}}], 'input_number': 0}], 'duration': 16.72, 'bitrate': 409, 'start': 0.0, 'default_video_input_number': 0, 'default_video_stream_number': 0, 'video_codec_name': 'h264', 'video_profile': '(High)', 'video_size': [444, 444], 'video_bitrate': 407, 'video_fps': 25.0, 'video_duration': 16.72, 'video_n_frames': 418}\n",
      "c:\\Users\\taylo\\OneDrive\\Documents\\Dissertation_Work\\signLanguageTranslator\\preprocessing\\.venv\\Lib\\site-packages\\imageio_ffmpeg\\binaries\\ffmpeg-win-x86_64-v7.1.exe -i C:\\Users\\taylo\\OneDrive - Queen Mary, University of London\\Documents\\test_videos\\clip_073.mp4 -loglevel error -f image2pipe -vf scale=444:444 -sws_flags bicubic -pix_fmt rgb24 -vcodec rawvideo -\n",
      "MoviePy - Building video C:\\Users\\taylo\\OneDrive - Queen Mary, University of London\\Documents\\test_videos_extracted\\073_edited.mp4.\n",
      "MoviePy - Writing video C:\\Users\\taylo\\OneDrive - Queen Mary, University of London\\Documents\\test_videos_extracted\\073_edited.mp4\n",
      "\n"
     ]
    },
    {
     "name": "stderr",
     "output_type": "stream",
     "text": [
      "                                                                       \r"
     ]
    },
    {
     "name": "stdout",
     "output_type": "stream",
     "text": [
      "MoviePy - Done !\n",
      "MoviePy - video ready C:\\Users\\taylo\\OneDrive - Queen Mary, University of London\\Documents\\test_videos_extracted\\073_edited.mp4\n",
      "Extracted clip: 073_edited.mp4\n",
      "{'code': '074', 'file': '6023593707666665811.vtt', 'start': '00:24:50.343', 'end': '00:24:53.623', 'text': \"But muffled hearing isn't the only factor at play here.\"}\n",
      "{'video_found': True, 'audio_found': False, 'metadata': {'major_brand': 'isom', 'minor_version': '512', 'compatible_brands': 'isomiso2avc1mp41', 'encoder': 'Lavf61.7.100'}, 'inputs': [{'streams': [{'input_number': 0, 'stream_number': 0, 'stream_type': 'video', 'language': None, 'default': True, 'size': [444, 444], 'bitrate': 356, 'fps': 25.0, 'codec_name': 'h264', 'profile': '(High)', 'metadata': {'Metadata': '', 'handler_name': 'VideoHandler', 'vendor_id': '[0][0][0][0]', 'encoder': 'Lavc61.19.100 libx264'}}], 'input_number': 0}], 'duration': 16.28, 'bitrate': 359, 'start': 0.0, 'default_video_input_number': 0, 'default_video_stream_number': 0, 'video_codec_name': 'h264', 'video_profile': '(High)', 'video_size': [444, 444], 'video_bitrate': 356, 'video_fps': 25.0, 'video_duration': 16.28, 'video_n_frames': 407}\n",
      "c:\\Users\\taylo\\OneDrive\\Documents\\Dissertation_Work\\signLanguageTranslator\\preprocessing\\.venv\\Lib\\site-packages\\imageio_ffmpeg\\binaries\\ffmpeg-win-x86_64-v7.1.exe -i C:\\Users\\taylo\\OneDrive - Queen Mary, University of London\\Documents\\test_videos\\clip_074.mp4 -loglevel error -f image2pipe -vf scale=444:444 -sws_flags bicubic -pix_fmt rgb24 -vcodec rawvideo -\n",
      "MoviePy - Building video C:\\Users\\taylo\\OneDrive - Queen Mary, University of London\\Documents\\test_videos_extracted\\074_edited.mp4.\n",
      "MoviePy - Writing video C:\\Users\\taylo\\OneDrive - Queen Mary, University of London\\Documents\\test_videos_extracted\\074_edited.mp4\n",
      "\n"
     ]
    },
    {
     "name": "stderr",
     "output_type": "stream",
     "text": [
      "                                                                       \r"
     ]
    },
    {
     "name": "stdout",
     "output_type": "stream",
     "text": [
      "MoviePy - Done !\n",
      "MoviePy - video ready C:\\Users\\taylo\\OneDrive - Queen Mary, University of London\\Documents\\test_videos_extracted\\074_edited.mp4\n",
      "Extracted clip: 074_edited.mp4\n",
      "{'code': '075', 'file': '5915128603573543065.vtt', 'start': '00:22:40.649', 'end': '00:22:47.639', 'text': 'And that leaves me with a show... a cast... ..and no theatre.'}\n",
      "{'video_found': True, 'audio_found': False, 'metadata': {'major_brand': 'isom', 'minor_version': '512', 'compatible_brands': 'isomiso2avc1mp41', 'encoder': 'Lavf61.7.100'}, 'inputs': [{'streams': [{'input_number': 0, 'stream_number': 0, 'stream_type': 'video', 'language': None, 'default': True, 'size': [444, 444], 'bitrate': 375, 'fps': 25.0, 'codec_name': 'h264', 'profile': '(High)', 'metadata': {'Metadata': '', 'handler_name': 'VideoHandler', 'vendor_id': '[0][0][0][0]', 'encoder': 'Lavc61.19.100 libx264'}}], 'input_number': 0}], 'duration': 20.0, 'bitrate': 378, 'start': 0.0, 'default_video_input_number': 0, 'default_video_stream_number': 0, 'video_codec_name': 'h264', 'video_profile': '(High)', 'video_size': [444, 444], 'video_bitrate': 375, 'video_fps': 25.0, 'video_duration': 20.0, 'video_n_frames': 500}\n",
      "c:\\Users\\taylo\\OneDrive\\Documents\\Dissertation_Work\\signLanguageTranslator\\preprocessing\\.venv\\Lib\\site-packages\\imageio_ffmpeg\\binaries\\ffmpeg-win-x86_64-v7.1.exe -i C:\\Users\\taylo\\OneDrive - Queen Mary, University of London\\Documents\\test_videos\\clip_075.mp4 -loglevel error -f image2pipe -vf scale=444:444 -sws_flags bicubic -pix_fmt rgb24 -vcodec rawvideo -\n",
      "MoviePy - Building video C:\\Users\\taylo\\OneDrive - Queen Mary, University of London\\Documents\\test_videos_extracted\\075_edited.mp4.\n",
      "MoviePy - Writing video C:\\Users\\taylo\\OneDrive - Queen Mary, University of London\\Documents\\test_videos_extracted\\075_edited.mp4\n",
      "\n"
     ]
    },
    {
     "name": "stderr",
     "output_type": "stream",
     "text": [
      "                                                                         \r"
     ]
    },
    {
     "name": "stdout",
     "output_type": "stream",
     "text": [
      "MoviePy - Done !\n",
      "MoviePy - video ready C:\\Users\\taylo\\OneDrive - Queen Mary, University of London\\Documents\\test_videos_extracted\\075_edited.mp4\n",
      "Extracted clip: 075_edited.mp4\n",
      "{'code': '076', 'file': '6274851871484060612.vtt', 'start': '00:17:20.260', 'end': '00:17:22.272', 'text': 'We need to meet as soon as possible.'}\n",
      "{'video_found': True, 'audio_found': False, 'metadata': {'major_brand': 'isom', 'minor_version': '512', 'compatible_brands': 'isomiso2avc1mp41', 'encoder': 'Lavf61.7.100'}, 'inputs': [{'streams': [{'input_number': 0, 'stream_number': 0, 'stream_type': 'video', 'language': None, 'default': True, 'size': [444, 444], 'bitrate': 275, 'fps': 25.0, 'codec_name': 'h264', 'profile': '(High)', 'metadata': {'Metadata': '', 'handler_name': 'VideoHandler', 'vendor_id': '[0][0][0][0]', 'encoder': 'Lavc61.19.100 libx264'}}], 'input_number': 0}], 'duration': 15.04, 'bitrate': 278, 'start': 0.0, 'default_video_input_number': 0, 'default_video_stream_number': 0, 'video_codec_name': 'h264', 'video_profile': '(High)', 'video_size': [444, 444], 'video_bitrate': 275, 'video_fps': 25.0, 'video_duration': 15.04, 'video_n_frames': 376}\n",
      "c:\\Users\\taylo\\OneDrive\\Documents\\Dissertation_Work\\signLanguageTranslator\\preprocessing\\.venv\\Lib\\site-packages\\imageio_ffmpeg\\binaries\\ffmpeg-win-x86_64-v7.1.exe -i C:\\Users\\taylo\\OneDrive - Queen Mary, University of London\\Documents\\test_videos\\clip_076.mp4 -loglevel error -f image2pipe -vf scale=444:444 -sws_flags bicubic -pix_fmt rgb24 -vcodec rawvideo -\n",
      "MoviePy - Building video C:\\Users\\taylo\\OneDrive - Queen Mary, University of London\\Documents\\test_videos_extracted\\076_edited.mp4.\n",
      "MoviePy - Writing video C:\\Users\\taylo\\OneDrive - Queen Mary, University of London\\Documents\\test_videos_extracted\\076_edited.mp4\n",
      "\n"
     ]
    },
    {
     "name": "stderr",
     "output_type": "stream",
     "text": [
      "                                                                       \r"
     ]
    },
    {
     "name": "stdout",
     "output_type": "stream",
     "text": [
      "MoviePy - Done !\n",
      "MoviePy - video ready C:\\Users\\taylo\\OneDrive - Queen Mary, University of London\\Documents\\test_videos_extracted\\076_edited.mp4\n",
      "Extracted clip: 076_edited.mp4\n",
      "{'code': '077', 'file': '6163005769114423167.vtt', 'start': '00:22:13.487', 'end': '00:22:23.847', 'text': 'Now, from sheep rustling to flytipping, the countryside certainly has its share of crime, but as Tom has been finding out, a new national survey may help to change that.'}\n",
      "{'video_found': True, 'audio_found': False, 'metadata': {'major_brand': 'isom', 'minor_version': '512', 'compatible_brands': 'isomiso2avc1mp41', 'encoder': 'Lavf61.7.100'}, 'inputs': [{'streams': [{'input_number': 0, 'stream_number': 0, 'stream_type': 'video', 'language': None, 'default': True, 'size': [444, 444], 'bitrate': 328, 'fps': 25.0, 'codec_name': 'h264', 'profile': '(High)', 'metadata': {'Metadata': '', 'handler_name': 'VideoHandler', 'vendor_id': '[0][0][0][0]', 'encoder': 'Lavc61.19.100 libx264'}}], 'input_number': 0}], 'duration': 23.36, 'bitrate': 331, 'start': 0.0, 'default_video_input_number': 0, 'default_video_stream_number': 0, 'video_codec_name': 'h264', 'video_profile': '(High)', 'video_size': [444, 444], 'video_bitrate': 328, 'video_fps': 25.0, 'video_duration': 23.36, 'video_n_frames': 584}\n",
      "c:\\Users\\taylo\\OneDrive\\Documents\\Dissertation_Work\\signLanguageTranslator\\preprocessing\\.venv\\Lib\\site-packages\\imageio_ffmpeg\\binaries\\ffmpeg-win-x86_64-v7.1.exe -i C:\\Users\\taylo\\OneDrive - Queen Mary, University of London\\Documents\\test_videos\\clip_077.mp4 -loglevel error -f image2pipe -vf scale=444:444 -sws_flags bicubic -pix_fmt rgb24 -vcodec rawvideo -\n",
      "MoviePy - Building video C:\\Users\\taylo\\OneDrive - Queen Mary, University of London\\Documents\\test_videos_extracted\\077_edited.mp4.\n",
      "MoviePy - Writing video C:\\Users\\taylo\\OneDrive - Queen Mary, University of London\\Documents\\test_videos_extracted\\077_edited.mp4\n",
      "\n"
     ]
    },
    {
     "name": "stderr",
     "output_type": "stream",
     "text": [
      "                                                                         \r"
     ]
    },
    {
     "name": "stdout",
     "output_type": "stream",
     "text": [
      "MoviePy - Done !\n",
      "MoviePy - video ready C:\\Users\\taylo\\OneDrive - Queen Mary, University of London\\Documents\\test_videos_extracted\\077_edited.mp4\n",
      "Extracted clip: 077_edited.mp4\n",
      "{'code': '078', 'file': '6014949226990061588.vtt', 'start': '00:18:30.962', 'end': '00:18:35.692', 'text': \"Oh, that daughter-in-law of mine's got herself free chambermaids, has she?\"}\n",
      "{'video_found': True, 'audio_found': False, 'metadata': {'major_brand': 'isom', 'minor_version': '512', 'compatible_brands': 'isomiso2avc1mp41', 'encoder': 'Lavf61.7.100'}, 'inputs': [{'streams': [{'input_number': 0, 'stream_number': 0, 'stream_type': 'video', 'language': None, 'default': True, 'size': [444, 444], 'bitrate': 370, 'fps': 25.0, 'codec_name': 'h264', 'profile': '(High)', 'metadata': {'Metadata': '', 'handler_name': 'VideoHandler', 'vendor_id': '[0][0][0][0]', 'encoder': 'Lavc61.19.100 libx264'}}], 'input_number': 0}], 'duration': 17.76, 'bitrate': 372, 'start': 0.0, 'default_video_input_number': 0, 'default_video_stream_number': 0, 'video_codec_name': 'h264', 'video_profile': '(High)', 'video_size': [444, 444], 'video_bitrate': 370, 'video_fps': 25.0, 'video_duration': 17.76, 'video_n_frames': 444}\n",
      "c:\\Users\\taylo\\OneDrive\\Documents\\Dissertation_Work\\signLanguageTranslator\\preprocessing\\.venv\\Lib\\site-packages\\imageio_ffmpeg\\binaries\\ffmpeg-win-x86_64-v7.1.exe -i C:\\Users\\taylo\\OneDrive - Queen Mary, University of London\\Documents\\test_videos\\clip_078.mp4 -loglevel error -f image2pipe -vf scale=444:444 -sws_flags bicubic -pix_fmt rgb24 -vcodec rawvideo -\n",
      "MoviePy - Building video C:\\Users\\taylo\\OneDrive - Queen Mary, University of London\\Documents\\test_videos_extracted\\078_edited.mp4.\n",
      "MoviePy - Writing video C:\\Users\\taylo\\OneDrive - Queen Mary, University of London\\Documents\\test_videos_extracted\\078_edited.mp4\n",
      "\n"
     ]
    },
    {
     "name": "stderr",
     "output_type": "stream",
     "text": [
      "                                                                        \r"
     ]
    },
    {
     "name": "stdout",
     "output_type": "stream",
     "text": [
      "MoviePy - Done !\n",
      "MoviePy - video ready C:\\Users\\taylo\\OneDrive - Queen Mary, University of London\\Documents\\test_videos_extracted\\078_edited.mp4\n",
      "Extracted clip: 078_edited.mp4\n",
      "{'code': '079', 'file': '6147411172359393435.vtt', 'start': '00:37:26.484', 'end': '00:37:32.822', 'text': 'She could be in there for a week before anything happens, running the risk of her damaging herself even further with minimal impact.'}\n",
      "{'video_found': True, 'audio_found': False, 'metadata': {'major_brand': 'isom', 'minor_version': '512', 'compatible_brands': 'isomiso2avc1mp41', 'encoder': 'Lavf61.7.100'}, 'inputs': [{'streams': [{'input_number': 0, 'stream_number': 0, 'stream_type': 'video', 'language': None, 'default': True, 'size': [444, 444], 'bitrate': 262, 'fps': 25.0, 'codec_name': 'h264', 'profile': '(High)', 'metadata': {'Metadata': '', 'handler_name': 'VideoHandler', 'vendor_id': '[0][0][0][0]', 'encoder': 'Lavc61.19.100 libx264'}}], 'input_number': 0}], 'duration': 19.36, 'bitrate': 264, 'start': 0.0, 'default_video_input_number': 0, 'default_video_stream_number': 0, 'video_codec_name': 'h264', 'video_profile': '(High)', 'video_size': [444, 444], 'video_bitrate': 262, 'video_fps': 25.0, 'video_duration': 19.36, 'video_n_frames': 484}\n",
      "c:\\Users\\taylo\\OneDrive\\Documents\\Dissertation_Work\\signLanguageTranslator\\preprocessing\\.venv\\Lib\\site-packages\\imageio_ffmpeg\\binaries\\ffmpeg-win-x86_64-v7.1.exe -i C:\\Users\\taylo\\OneDrive - Queen Mary, University of London\\Documents\\test_videos\\clip_079.mp4 -loglevel error -f image2pipe -vf scale=444:444 -sws_flags bicubic -pix_fmt rgb24 -vcodec rawvideo -\n",
      "MoviePy - Building video C:\\Users\\taylo\\OneDrive - Queen Mary, University of London\\Documents\\test_videos_extracted\\079_edited.mp4.\n",
      "MoviePy - Writing video C:\\Users\\taylo\\OneDrive - Queen Mary, University of London\\Documents\\test_videos_extracted\\079_edited.mp4\n",
      "\n"
     ]
    },
    {
     "name": "stderr",
     "output_type": "stream",
     "text": [
      "                                                                         \r"
     ]
    },
    {
     "name": "stdout",
     "output_type": "stream",
     "text": [
      "MoviePy - Done !\n",
      "MoviePy - video ready C:\\Users\\taylo\\OneDrive - Queen Mary, University of London\\Documents\\test_videos_extracted\\079_edited.mp4\n",
      "Extracted clip: 079_edited.mp4\n",
      "{'code': '080', 'file': '5925241963065356687.vtt', 'start': '00:24:33.436', 'end': '00:24:41.316', 'text': 'And the Georgians loved their wine, and hidden underneath this side server is the grape juice that got the party started.'}\n",
      "{'video_found': True, 'audio_found': False, 'metadata': {'major_brand': 'isom', 'minor_version': '512', 'compatible_brands': 'isomiso2avc1mp41', 'encoder': 'Lavf61.7.100'}, 'inputs': [{'streams': [{'input_number': 0, 'stream_number': 0, 'stream_type': 'video', 'language': None, 'default': True, 'size': [444, 444], 'bitrate': 387, 'fps': 25.0, 'codec_name': 'h264', 'profile': '(High)', 'metadata': {'Metadata': '', 'handler_name': 'VideoHandler', 'vendor_id': '[0][0][0][0]', 'encoder': 'Lavc61.19.100 libx264'}}], 'input_number': 0}], 'duration': 20.92, 'bitrate': 389, 'start': 0.0, 'default_video_input_number': 0, 'default_video_stream_number': 0, 'video_codec_name': 'h264', 'video_profile': '(High)', 'video_size': [444, 444], 'video_bitrate': 387, 'video_fps': 25.0, 'video_duration': 20.92, 'video_n_frames': 523}\n",
      "c:\\Users\\taylo\\OneDrive\\Documents\\Dissertation_Work\\signLanguageTranslator\\preprocessing\\.venv\\Lib\\site-packages\\imageio_ffmpeg\\binaries\\ffmpeg-win-x86_64-v7.1.exe -i C:\\Users\\taylo\\OneDrive - Queen Mary, University of London\\Documents\\test_videos\\clip_080.mp4 -loglevel error -f image2pipe -vf scale=444:444 -sws_flags bicubic -pix_fmt rgb24 -vcodec rawvideo -\n",
      "MoviePy - Building video C:\\Users\\taylo\\OneDrive - Queen Mary, University of London\\Documents\\test_videos_extracted\\080_edited.mp4.\n",
      "MoviePy - Writing video C:\\Users\\taylo\\OneDrive - Queen Mary, University of London\\Documents\\test_videos_extracted\\080_edited.mp4\n",
      "\n"
     ]
    },
    {
     "name": "stderr",
     "output_type": "stream",
     "text": [
      "                                                                         \r"
     ]
    },
    {
     "name": "stdout",
     "output_type": "stream",
     "text": [
      "MoviePy - Done !\n",
      "MoviePy - video ready C:\\Users\\taylo\\OneDrive - Queen Mary, University of London\\Documents\\test_videos_extracted\\080_edited.mp4\n",
      "Extracted clip: 080_edited.mp4\n",
      "{'code': '081', 'file': '6273198738550790730.vtt', 'start': '00:44:20.860', 'end': '00:44:25.360', 'text': 'They are two children that I had with my first wife.'}\n",
      "{'video_found': True, 'audio_found': False, 'metadata': {'major_brand': 'isom', 'minor_version': '512', 'compatible_brands': 'isomiso2avc1mp41', 'encoder': 'Lavf61.7.100'}, 'inputs': [{'streams': [{'input_number': 0, 'stream_number': 0, 'stream_type': 'video', 'language': None, 'default': True, 'size': [444, 444], 'bitrate': 240, 'fps': 25.0, 'codec_name': 'h264', 'profile': '(High)', 'metadata': {'Metadata': '', 'handler_name': 'VideoHandler', 'vendor_id': '[0][0][0][0]', 'encoder': 'Lavc61.19.100 libx264'}}], 'input_number': 0}], 'duration': 17.52, 'bitrate': 243, 'start': 0.0, 'default_video_input_number': 0, 'default_video_stream_number': 0, 'video_codec_name': 'h264', 'video_profile': '(High)', 'video_size': [444, 444], 'video_bitrate': 240, 'video_fps': 25.0, 'video_duration': 17.52, 'video_n_frames': 438}\n",
      "c:\\Users\\taylo\\OneDrive\\Documents\\Dissertation_Work\\signLanguageTranslator\\preprocessing\\.venv\\Lib\\site-packages\\imageio_ffmpeg\\binaries\\ffmpeg-win-x86_64-v7.1.exe -i C:\\Users\\taylo\\OneDrive - Queen Mary, University of London\\Documents\\test_videos\\clip_081.mp4 -loglevel error -f image2pipe -vf scale=444:444 -sws_flags bicubic -pix_fmt rgb24 -vcodec rawvideo -\n",
      "MoviePy - Building video C:\\Users\\taylo\\OneDrive - Queen Mary, University of London\\Documents\\test_videos_extracted\\081_edited.mp4.\n",
      "MoviePy - Writing video C:\\Users\\taylo\\OneDrive - Queen Mary, University of London\\Documents\\test_videos_extracted\\081_edited.mp4\n",
      "\n"
     ]
    },
    {
     "name": "stderr",
     "output_type": "stream",
     "text": [
      "                                                                        \r"
     ]
    },
    {
     "name": "stdout",
     "output_type": "stream",
     "text": [
      "MoviePy - Done !\n",
      "MoviePy - video ready C:\\Users\\taylo\\OneDrive - Queen Mary, University of London\\Documents\\test_videos_extracted\\081_edited.mp4\n",
      "Extracted clip: 081_edited.mp4\n",
      "{'code': '082', 'file': '6078143228299678284.vtt', 'start': '00:13:17.307', 'end': '00:13:27.147', 'text': \"Before Christianity, Judaism had arrived and according to legend, this area has been the resting place for one of religion's holiest treasures for almost 3,000 years.\"}\n",
      "{'video_found': True, 'audio_found': False, 'metadata': {'major_brand': 'isom', 'minor_version': '512', 'compatible_brands': 'isomiso2avc1mp41', 'encoder': 'Lavf61.7.100'}, 'inputs': [{'streams': [{'input_number': 0, 'stream_number': 0, 'stream_type': 'video', 'language': None, 'default': True, 'size': [444, 444], 'bitrate': 392, 'fps': 25.0, 'codec_name': 'h264', 'profile': '(High)', 'metadata': {'Metadata': '', 'handler_name': 'VideoHandler', 'vendor_id': '[0][0][0][0]', 'encoder': 'Lavc61.19.100 libx264'}}], 'input_number': 0}], 'duration': 22.88, 'bitrate': 395, 'start': 0.0, 'default_video_input_number': 0, 'default_video_stream_number': 0, 'video_codec_name': 'h264', 'video_profile': '(High)', 'video_size': [444, 444], 'video_bitrate': 392, 'video_fps': 25.0, 'video_duration': 22.88, 'video_n_frames': 572}\n",
      "c:\\Users\\taylo\\OneDrive\\Documents\\Dissertation_Work\\signLanguageTranslator\\preprocessing\\.venv\\Lib\\site-packages\\imageio_ffmpeg\\binaries\\ffmpeg-win-x86_64-v7.1.exe -i C:\\Users\\taylo\\OneDrive - Queen Mary, University of London\\Documents\\test_videos\\clip_082.mp4 -loglevel error -f image2pipe -vf scale=444:444 -sws_flags bicubic -pix_fmt rgb24 -vcodec rawvideo -\n",
      "MoviePy - Building video C:\\Users\\taylo\\OneDrive - Queen Mary, University of London\\Documents\\test_videos_extracted\\082_edited.mp4.\n",
      "MoviePy - Writing video C:\\Users\\taylo\\OneDrive - Queen Mary, University of London\\Documents\\test_videos_extracted\\082_edited.mp4\n",
      "\n"
     ]
    },
    {
     "name": "stderr",
     "output_type": "stream",
     "text": [
      "                                                                         \r"
     ]
    },
    {
     "name": "stdout",
     "output_type": "stream",
     "text": [
      "MoviePy - Done !\n",
      "MoviePy - video ready C:\\Users\\taylo\\OneDrive - Queen Mary, University of London\\Documents\\test_videos_extracted\\082_edited.mp4\n",
      "Extracted clip: 082_edited.mp4\n",
      "{'code': '083', 'file': '6373770551747408642.vtt', 'start': '00:06:05.018', 'end': '00:06:09.798', 'text': 'I really rely very, very, very much on the director.'}\n",
      "{'video_found': True, 'audio_found': False, 'metadata': {'major_brand': 'isom', 'minor_version': '512', 'compatible_brands': 'isomiso2avc1mp41', 'encoder': 'Lavf61.7.100'}, 'inputs': [{'streams': [{'input_number': 0, 'stream_number': 0, 'stream_type': 'video', 'language': None, 'default': True, 'size': [444, 444], 'bitrate': 306, 'fps': 25.0, 'codec_name': 'h264', 'profile': '(High)', 'metadata': {'Metadata': '', 'handler_name': 'VideoHandler', 'vendor_id': '[0][0][0][0]', 'encoder': 'Lavc61.19.100 libx264'}}], 'input_number': 0}], 'duration': 17.8, 'bitrate': 309, 'start': 0.0, 'default_video_input_number': 0, 'default_video_stream_number': 0, 'video_codec_name': 'h264', 'video_profile': '(High)', 'video_size': [444, 444], 'video_bitrate': 306, 'video_fps': 25.0, 'video_duration': 17.8, 'video_n_frames': 445}\n",
      "c:\\Users\\taylo\\OneDrive\\Documents\\Dissertation_Work\\signLanguageTranslator\\preprocessing\\.venv\\Lib\\site-packages\\imageio_ffmpeg\\binaries\\ffmpeg-win-x86_64-v7.1.exe -i C:\\Users\\taylo\\OneDrive - Queen Mary, University of London\\Documents\\test_videos\\clip_083.mp4 -loglevel error -f image2pipe -vf scale=444:444 -sws_flags bicubic -pix_fmt rgb24 -vcodec rawvideo -\n",
      "MoviePy - Building video C:\\Users\\taylo\\OneDrive - Queen Mary, University of London\\Documents\\test_videos_extracted\\083_edited.mp4.\n",
      "MoviePy - Writing video C:\\Users\\taylo\\OneDrive - Queen Mary, University of London\\Documents\\test_videos_extracted\\083_edited.mp4\n",
      "\n"
     ]
    },
    {
     "name": "stderr",
     "output_type": "stream",
     "text": [
      "                                                                        \r"
     ]
    },
    {
     "name": "stdout",
     "output_type": "stream",
     "text": [
      "MoviePy - Done !\n",
      "MoviePy - video ready C:\\Users\\taylo\\OneDrive - Queen Mary, University of London\\Documents\\test_videos_extracted\\083_edited.mp4\n",
      "Extracted clip: 083_edited.mp4\n",
      "{'code': '084', 'file': '6237606774065566357.vtt', 'start': '00:03:16.942', 'end': '00:03:19.142', 'text': 'I think it needs more pepperoni, though.'}\n",
      "{'video_found': True, 'audio_found': False, 'metadata': {'major_brand': 'isom', 'minor_version': '512', 'compatible_brands': 'isomiso2avc1mp41', 'encoder': 'Lavf61.7.100'}, 'inputs': [{'streams': [{'input_number': 0, 'stream_number': 0, 'stream_type': 'video', 'language': None, 'default': True, 'size': [444, 444], 'bitrate': 301, 'fps': 25.0, 'codec_name': 'h264', 'profile': '(High)', 'metadata': {'Metadata': '', 'handler_name': 'VideoHandler', 'vendor_id': '[0][0][0][0]', 'encoder': 'Lavc61.19.100 libx264'}}], 'input_number': 0}], 'duration': 15.2, 'bitrate': 303, 'start': 0.0, 'default_video_input_number': 0, 'default_video_stream_number': 0, 'video_codec_name': 'h264', 'video_profile': '(High)', 'video_size': [444, 444], 'video_bitrate': 301, 'video_fps': 25.0, 'video_duration': 15.2, 'video_n_frames': 380}\n",
      "c:\\Users\\taylo\\OneDrive\\Documents\\Dissertation_Work\\signLanguageTranslator\\preprocessing\\.venv\\Lib\\site-packages\\imageio_ffmpeg\\binaries\\ffmpeg-win-x86_64-v7.1.exe -i C:\\Users\\taylo\\OneDrive - Queen Mary, University of London\\Documents\\test_videos\\clip_084.mp4 -loglevel error -f image2pipe -vf scale=444:444 -sws_flags bicubic -pix_fmt rgb24 -vcodec rawvideo -\n",
      "MoviePy - Building video C:\\Users\\taylo\\OneDrive - Queen Mary, University of London\\Documents\\test_videos_extracted\\084_edited.mp4.\n",
      "MoviePy - Writing video C:\\Users\\taylo\\OneDrive - Queen Mary, University of London\\Documents\\test_videos_extracted\\084_edited.mp4\n",
      "\n"
     ]
    },
    {
     "name": "stderr",
     "output_type": "stream",
     "text": [
      "                                                                       \r"
     ]
    },
    {
     "name": "stdout",
     "output_type": "stream",
     "text": [
      "MoviePy - Done !\n",
      "MoviePy - video ready C:\\Users\\taylo\\OneDrive - Queen Mary, University of London\\Documents\\test_videos_extracted\\084_edited.mp4\n",
      "Extracted clip: 084_edited.mp4\n",
      "{'code': '085', 'file': '6175991173237160649.vtt', 'start': '00:19:44.880', 'end': '00:19:53.030', 'text': \"Um, if you go back far enough, if you go back to the 1940s and '50s, this was essentially where grey seals bred in eastern Britain.\"}\n",
      "{'video_found': True, 'audio_found': False, 'metadata': {'major_brand': 'isom', 'minor_version': '512', 'compatible_brands': 'isomiso2avc1mp41', 'encoder': 'Lavf61.7.100'}, 'inputs': [{'streams': [{'input_number': 0, 'stream_number': 0, 'stream_type': 'video', 'language': None, 'default': True, 'size': [444, 444], 'bitrate': 377, 'fps': 25.0, 'codec_name': 'h264', 'profile': '(High)', 'metadata': {'Metadata': '', 'handler_name': 'VideoHandler', 'vendor_id': '[0][0][0][0]', 'encoder': 'Lavc61.19.100 libx264'}}], 'input_number': 0}], 'duration': 21.16, 'bitrate': 380, 'start': 0.0, 'default_video_input_number': 0, 'default_video_stream_number': 0, 'video_codec_name': 'h264', 'video_profile': '(High)', 'video_size': [444, 444], 'video_bitrate': 377, 'video_fps': 25.0, 'video_duration': 21.16, 'video_n_frames': 529}\n",
      "c:\\Users\\taylo\\OneDrive\\Documents\\Dissertation_Work\\signLanguageTranslator\\preprocessing\\.venv\\Lib\\site-packages\\imageio_ffmpeg\\binaries\\ffmpeg-win-x86_64-v7.1.exe -i C:\\Users\\taylo\\OneDrive - Queen Mary, University of London\\Documents\\test_videos\\clip_085.mp4 -loglevel error -f image2pipe -vf scale=444:444 -sws_flags bicubic -pix_fmt rgb24 -vcodec rawvideo -\n",
      "MoviePy - Building video C:\\Users\\taylo\\OneDrive - Queen Mary, University of London\\Documents\\test_videos_extracted\\085_edited.mp4.\n",
      "MoviePy - Writing video C:\\Users\\taylo\\OneDrive - Queen Mary, University of London\\Documents\\test_videos_extracted\\085_edited.mp4\n",
      "\n"
     ]
    },
    {
     "name": "stderr",
     "output_type": "stream",
     "text": [
      "                                                                         \r"
     ]
    },
    {
     "name": "stdout",
     "output_type": "stream",
     "text": [
      "MoviePy - Done !\n",
      "MoviePy - video ready C:\\Users\\taylo\\OneDrive - Queen Mary, University of London\\Documents\\test_videos_extracted\\085_edited.mp4\n",
      "Extracted clip: 085_edited.mp4\n",
      "{'code': '086', 'file': '6183800712271483017.vtt', 'start': '00:53:45.020', 'end': '00:53:49.230', 'text': \"And there would've been a time when you'd have understood that, or at least your wife would!\"}\n",
      "{'video_found': True, 'audio_found': False, 'metadata': {'major_brand': 'isom', 'minor_version': '512', 'compatible_brands': 'isomiso2avc1mp41', 'encoder': 'Lavf61.7.100'}, 'inputs': [{'streams': [{'input_number': 0, 'stream_number': 0, 'stream_type': 'video', 'language': None, 'default': True, 'size': [444, 444], 'bitrate': 252, 'fps': 25.0, 'codec_name': 'h264', 'profile': '(High)', 'metadata': {'Metadata': '', 'handler_name': 'VideoHandler', 'vendor_id': '[0][0][0][0]', 'encoder': 'Lavc61.19.100 libx264'}}], 'input_number': 0}], 'duration': 17.24, 'bitrate': 255, 'start': 0.0, 'default_video_input_number': 0, 'default_video_stream_number': 0, 'video_codec_name': 'h264', 'video_profile': '(High)', 'video_size': [444, 444], 'video_bitrate': 252, 'video_fps': 25.0, 'video_duration': 17.24, 'video_n_frames': 430}\n",
      "c:\\Users\\taylo\\OneDrive\\Documents\\Dissertation_Work\\signLanguageTranslator\\preprocessing\\.venv\\Lib\\site-packages\\imageio_ffmpeg\\binaries\\ffmpeg-win-x86_64-v7.1.exe -i C:\\Users\\taylo\\OneDrive - Queen Mary, University of London\\Documents\\test_videos\\clip_086.mp4 -loglevel error -f image2pipe -vf scale=444:444 -sws_flags bicubic -pix_fmt rgb24 -vcodec rawvideo -\n",
      "MoviePy - Building video C:\\Users\\taylo\\OneDrive - Queen Mary, University of London\\Documents\\test_videos_extracted\\086_edited.mp4.\n",
      "MoviePy - Writing video C:\\Users\\taylo\\OneDrive - Queen Mary, University of London\\Documents\\test_videos_extracted\\086_edited.mp4\n",
      "\n"
     ]
    },
    {
     "name": "stderr",
     "output_type": "stream",
     "text": [
      "                                                                        \r"
     ]
    },
    {
     "name": "stdout",
     "output_type": "stream",
     "text": [
      "MoviePy - Done !\n",
      "MoviePy - video ready C:\\Users\\taylo\\OneDrive - Queen Mary, University of London\\Documents\\test_videos_extracted\\086_edited.mp4\n",
      "Extracted clip: 086_edited.mp4\n",
      "{'code': '087', 'file': '6161239249065577328.vtt', 'start': '00:09:04.865', 'end': '00:09:07.065', 'text': \"Let's think about how she got here.\"}\n",
      "{'video_found': True, 'audio_found': False, 'metadata': {'major_brand': 'isom', 'minor_version': '512', 'compatible_brands': 'isomiso2avc1mp41', 'encoder': 'Lavf61.7.100'}, 'inputs': [{'streams': [{'input_number': 0, 'stream_number': 0, 'stream_type': 'video', 'language': None, 'default': True, 'size': [444, 444], 'bitrate': 403, 'fps': 25.0, 'codec_name': 'h264', 'profile': '(High)', 'metadata': {'Metadata': '', 'handler_name': 'VideoHandler', 'vendor_id': '[0][0][0][0]', 'encoder': 'Lavc61.19.100 libx264'}}], 'input_number': 0}], 'duration': 15.24, 'bitrate': 406, 'start': 0.0, 'default_video_input_number': 0, 'default_video_stream_number': 0, 'video_codec_name': 'h264', 'video_profile': '(High)', 'video_size': [444, 444], 'video_bitrate': 403, 'video_fps': 25.0, 'video_duration': 15.24, 'video_n_frames': 381}\n",
      "c:\\Users\\taylo\\OneDrive\\Documents\\Dissertation_Work\\signLanguageTranslator\\preprocessing\\.venv\\Lib\\site-packages\\imageio_ffmpeg\\binaries\\ffmpeg-win-x86_64-v7.1.exe -i C:\\Users\\taylo\\OneDrive - Queen Mary, University of London\\Documents\\test_videos\\clip_087.mp4 -loglevel error -f image2pipe -vf scale=444:444 -sws_flags bicubic -pix_fmt rgb24 -vcodec rawvideo -\n",
      "MoviePy - Building video C:\\Users\\taylo\\OneDrive - Queen Mary, University of London\\Documents\\test_videos_extracted\\087_edited.mp4.\n",
      "MoviePy - Writing video C:\\Users\\taylo\\OneDrive - Queen Mary, University of London\\Documents\\test_videos_extracted\\087_edited.mp4\n",
      "\n"
     ]
    },
    {
     "name": "stderr",
     "output_type": "stream",
     "text": [
      "                                                                       \r"
     ]
    },
    {
     "name": "stdout",
     "output_type": "stream",
     "text": [
      "MoviePy - Done !\n",
      "MoviePy - video ready C:\\Users\\taylo\\OneDrive - Queen Mary, University of London\\Documents\\test_videos_extracted\\087_edited.mp4\n",
      "Extracted clip: 087_edited.mp4\n",
      "{'code': '088', 'file': '6270230057155793464.vtt', 'start': '00:01:20.058', 'end': '00:01:21.278', 'text': 'What do you think?'}\n",
      "{'video_found': True, 'audio_found': False, 'metadata': {'major_brand': 'isom', 'minor_version': '512', 'compatible_brands': 'isomiso2avc1mp41', 'encoder': 'Lavf61.7.100'}, 'inputs': [{'streams': [{'input_number': 0, 'stream_number': 0, 'stream_type': 'video', 'language': None, 'default': True, 'size': [444, 444], 'bitrate': 366, 'fps': 25.0, 'codec_name': 'h264', 'profile': '(High)', 'metadata': {'Metadata': '', 'handler_name': 'VideoHandler', 'vendor_id': '[0][0][0][0]', 'encoder': 'Lavc61.19.100 libx264'}}], 'input_number': 0}], 'duration': 14.24, 'bitrate': 369, 'start': 0.0, 'default_video_input_number': 0, 'default_video_stream_number': 0, 'video_codec_name': 'h264', 'video_profile': '(High)', 'video_size': [444, 444], 'video_bitrate': 366, 'video_fps': 25.0, 'video_duration': 14.24, 'video_n_frames': 356}\n",
      "c:\\Users\\taylo\\OneDrive\\Documents\\Dissertation_Work\\signLanguageTranslator\\preprocessing\\.venv\\Lib\\site-packages\\imageio_ffmpeg\\binaries\\ffmpeg-win-x86_64-v7.1.exe -i C:\\Users\\taylo\\OneDrive - Queen Mary, University of London\\Documents\\test_videos\\clip_088.mp4 -loglevel error -f image2pipe -vf scale=444:444 -sws_flags bicubic -pix_fmt rgb24 -vcodec rawvideo -\n",
      "MoviePy - Building video C:\\Users\\taylo\\OneDrive - Queen Mary, University of London\\Documents\\test_videos_extracted\\088_edited.mp4.\n",
      "MoviePy - Writing video C:\\Users\\taylo\\OneDrive - Queen Mary, University of London\\Documents\\test_videos_extracted\\088_edited.mp4\n",
      "\n"
     ]
    },
    {
     "name": "stderr",
     "output_type": "stream",
     "text": [
      "                                                             \r"
     ]
    },
    {
     "name": "stdout",
     "output_type": "stream",
     "text": [
      "MoviePy - Done !\n",
      "MoviePy - video ready C:\\Users\\taylo\\OneDrive - Queen Mary, University of London\\Documents\\test_videos_extracted\\088_edited.mp4\n",
      "Extracted clip: 088_edited.mp4\n",
      "{'code': '089', 'file': '6064277785378015921.vtt', 'start': '00:26:26.836', 'end': '00:26:33.486', 'text': 'Rain water seeps through the centuries-old peat before carving its way across South Devon to reach the sea.'}\n",
      "{'video_found': True, 'audio_found': False, 'metadata': {'major_brand': 'isom', 'minor_version': '512', 'compatible_brands': 'isomiso2avc1mp41', 'encoder': 'Lavf61.7.100'}, 'inputs': [{'streams': [{'input_number': 0, 'stream_number': 0, 'stream_type': 'video', 'language': None, 'default': True, 'size': [444, 444], 'bitrate': 343, 'fps': 25.0, 'codec_name': 'h264', 'profile': '(High)', 'metadata': {'Metadata': '', 'handler_name': 'VideoHandler', 'vendor_id': '[0][0][0][0]', 'encoder': 'Lavc61.19.100 libx264'}}], 'input_number': 0}], 'duration': 19.68, 'bitrate': 346, 'start': 0.0, 'default_video_input_number': 0, 'default_video_stream_number': 0, 'video_codec_name': 'h264', 'video_profile': '(High)', 'video_size': [444, 444], 'video_bitrate': 343, 'video_fps': 25.0, 'video_duration': 19.68, 'video_n_frames': 492}\n",
      "c:\\Users\\taylo\\OneDrive\\Documents\\Dissertation_Work\\signLanguageTranslator\\preprocessing\\.venv\\Lib\\site-packages\\imageio_ffmpeg\\binaries\\ffmpeg-win-x86_64-v7.1.exe -i C:\\Users\\taylo\\OneDrive - Queen Mary, University of London\\Documents\\test_videos\\clip_089.mp4 -loglevel error -f image2pipe -vf scale=444:444 -sws_flags bicubic -pix_fmt rgb24 -vcodec rawvideo -\n",
      "MoviePy - Building video C:\\Users\\taylo\\OneDrive - Queen Mary, University of London\\Documents\\test_videos_extracted\\089_edited.mp4.\n",
      "MoviePy - Writing video C:\\Users\\taylo\\OneDrive - Queen Mary, University of London\\Documents\\test_videos_extracted\\089_edited.mp4\n",
      "\n"
     ]
    },
    {
     "name": "stderr",
     "output_type": "stream",
     "text": [
      "                                                                         \r"
     ]
    },
    {
     "name": "stdout",
     "output_type": "stream",
     "text": [
      "MoviePy - Done !\n",
      "MoviePy - video ready C:\\Users\\taylo\\OneDrive - Queen Mary, University of London\\Documents\\test_videos_extracted\\089_edited.mp4\n",
      "Extracted clip: 089_edited.mp4\n",
      "{'code': '090', 'file': '5921437051537909155.vtt', 'start': '00:35:23.299', 'end': '00:35:24.889', 'text': 'It takes hours and hours and hours.'}\n",
      "{'video_found': True, 'audio_found': False, 'metadata': {'major_brand': 'isom', 'minor_version': '512', 'compatible_brands': 'isomiso2avc1mp41', 'encoder': 'Lavf61.7.100'}, 'inputs': [{'streams': [{'input_number': 0, 'stream_number': 0, 'stream_type': 'video', 'language': None, 'default': True, 'size': [444, 444], 'bitrate': 373, 'fps': 25.0, 'codec_name': 'h264', 'profile': '(High)', 'metadata': {'Metadata': '', 'handler_name': 'VideoHandler', 'vendor_id': '[0][0][0][0]', 'encoder': 'Lavc61.19.100 libx264'}}], 'input_number': 0}], 'duration': 14.6, 'bitrate': 376, 'start': 0.0, 'default_video_input_number': 0, 'default_video_stream_number': 0, 'video_codec_name': 'h264', 'video_profile': '(High)', 'video_size': [444, 444], 'video_bitrate': 373, 'video_fps': 25.0, 'video_duration': 14.6, 'video_n_frames': 365}\n",
      "c:\\Users\\taylo\\OneDrive\\Documents\\Dissertation_Work\\signLanguageTranslator\\preprocessing\\.venv\\Lib\\site-packages\\imageio_ffmpeg\\binaries\\ffmpeg-win-x86_64-v7.1.exe -i C:\\Users\\taylo\\OneDrive - Queen Mary, University of London\\Documents\\test_videos\\clip_090.mp4 -loglevel error -f image2pipe -vf scale=444:444 -sws_flags bicubic -pix_fmt rgb24 -vcodec rawvideo -\n",
      "MoviePy - Building video C:\\Users\\taylo\\OneDrive - Queen Mary, University of London\\Documents\\test_videos_extracted\\090_edited.mp4.\n",
      "MoviePy - Writing video C:\\Users\\taylo\\OneDrive - Queen Mary, University of London\\Documents\\test_videos_extracted\\090_edited.mp4\n",
      "\n"
     ]
    },
    {
     "name": "stderr",
     "output_type": "stream",
     "text": [
      "                                                             \r"
     ]
    },
    {
     "name": "stdout",
     "output_type": "stream",
     "text": [
      "MoviePy - Done !\n",
      "MoviePy - video ready C:\\Users\\taylo\\OneDrive - Queen Mary, University of London\\Documents\\test_videos_extracted\\090_edited.mp4\n",
      "Extracted clip: 090_edited.mp4\n",
      "{'code': '091', 'file': '6275965127007184076.vtt', 'start': '00:24:37.678', 'end': '00:24:40.728', 'text': \"Last time I checked, vampires aren't big on compassion.\"}\n",
      "{'video_found': True, 'audio_found': False, 'metadata': {'major_brand': 'isom', 'minor_version': '512', 'compatible_brands': 'isomiso2avc1mp41', 'encoder': 'Lavf61.7.100'}, 'inputs': [{'streams': [{'input_number': 0, 'stream_number': 0, 'stream_type': 'video', 'language': None, 'default': True, 'size': [444, 444], 'bitrate': 419, 'fps': 25.0, 'codec_name': 'h264', 'profile': '(High)', 'metadata': {'Metadata': '', 'handler_name': 'VideoHandler', 'vendor_id': '[0][0][0][0]', 'encoder': 'Lavc61.19.100 libx264'}}], 'input_number': 0}], 'duration': 16.08, 'bitrate': 422, 'start': 0.0, 'default_video_input_number': 0, 'default_video_stream_number': 0, 'video_codec_name': 'h264', 'video_profile': '(High)', 'video_size': [444, 444], 'video_bitrate': 419, 'video_fps': 25.0, 'video_duration': 16.08, 'video_n_frames': 401}\n",
      "c:\\Users\\taylo\\OneDrive\\Documents\\Dissertation_Work\\signLanguageTranslator\\preprocessing\\.venv\\Lib\\site-packages\\imageio_ffmpeg\\binaries\\ffmpeg-win-x86_64-v7.1.exe -i C:\\Users\\taylo\\OneDrive - Queen Mary, University of London\\Documents\\test_videos\\clip_091.mp4 -loglevel error -f image2pipe -vf scale=444:444 -sws_flags bicubic -pix_fmt rgb24 -vcodec rawvideo -\n",
      "MoviePy - Building video C:\\Users\\taylo\\OneDrive - Queen Mary, University of London\\Documents\\test_videos_extracted\\091_edited.mp4.\n",
      "MoviePy - Writing video C:\\Users\\taylo\\OneDrive - Queen Mary, University of London\\Documents\\test_videos_extracted\\091_edited.mp4\n",
      "\n"
     ]
    },
    {
     "name": "stderr",
     "output_type": "stream",
     "text": [
      "                                                                       \r"
     ]
    },
    {
     "name": "stdout",
     "output_type": "stream",
     "text": [
      "MoviePy - Done !\n",
      "MoviePy - video ready C:\\Users\\taylo\\OneDrive - Queen Mary, University of London\\Documents\\test_videos_extracted\\091_edited.mp4\n",
      "Extracted clip: 091_edited.mp4\n",
      "{'code': '092', 'file': '6577144554674233627.vtt', 'start': '00:28:24.471', 'end': '00:28:30.371', 'text': 'All across Britain at this time, a new way of life and technology emerged.'}\n",
      "{'video_found': True, 'audio_found': False, 'metadata': {'major_brand': 'isom', 'minor_version': '512', 'compatible_brands': 'isomiso2avc1mp41', 'encoder': 'Lavf61.7.100'}, 'inputs': [{'streams': [{'input_number': 0, 'stream_number': 0, 'stream_type': 'video', 'language': None, 'default': True, 'size': [444, 444], 'bitrate': 393, 'fps': 25.0, 'codec_name': 'h264', 'profile': '(High)', 'metadata': {'Metadata': '', 'handler_name': 'VideoHandler', 'vendor_id': '[0][0][0][0]', 'encoder': 'Lavc61.19.100 libx264'}}], 'input_number': 0}], 'duration': 18.92, 'bitrate': 396, 'start': 0.0, 'default_video_input_number': 0, 'default_video_stream_number': 0, 'video_codec_name': 'h264', 'video_profile': '(High)', 'video_size': [444, 444], 'video_bitrate': 393, 'video_fps': 25.0, 'video_duration': 18.92, 'video_n_frames': 473}\n",
      "c:\\Users\\taylo\\OneDrive\\Documents\\Dissertation_Work\\signLanguageTranslator\\preprocessing\\.venv\\Lib\\site-packages\\imageio_ffmpeg\\binaries\\ffmpeg-win-x86_64-v7.1.exe -i C:\\Users\\taylo\\OneDrive - Queen Mary, University of London\\Documents\\test_videos\\clip_092.mp4 -loglevel error -f image2pipe -vf scale=444:444 -sws_flags bicubic -pix_fmt rgb24 -vcodec rawvideo -\n",
      "MoviePy - Building video C:\\Users\\taylo\\OneDrive - Queen Mary, University of London\\Documents\\test_videos_extracted\\092_edited.mp4.\n",
      "MoviePy - Writing video C:\\Users\\taylo\\OneDrive - Queen Mary, University of London\\Documents\\test_videos_extracted\\092_edited.mp4\n",
      "\n"
     ]
    },
    {
     "name": "stderr",
     "output_type": "stream",
     "text": [
      "                                                                         \r"
     ]
    },
    {
     "name": "stdout",
     "output_type": "stream",
     "text": [
      "MoviePy - Done !\n",
      "MoviePy - video ready C:\\Users\\taylo\\OneDrive - Queen Mary, University of London\\Documents\\test_videos_extracted\\092_edited.mp4\n",
      "Extracted clip: 092_edited.mp4\n",
      "{'code': '093', 'file': '6129252480128642705.vtt', 'start': '00:18:35.260', 'end': '00:18:43.016', 'text': 'Because, sometimes, talking about feelings helps to process them.'}\n",
      "{'video_found': True, 'audio_found': False, 'metadata': {'major_brand': 'isom', 'minor_version': '512', 'compatible_brands': 'isomiso2avc1mp41', 'encoder': 'Lavf61.7.100'}, 'inputs': [{'streams': [{'input_number': 0, 'stream_number': 0, 'stream_type': 'video', 'language': None, 'default': True, 'size': [444, 444], 'bitrate': 322, 'fps': 25.0, 'codec_name': 'h264', 'profile': '(High)', 'metadata': {'Metadata': '', 'handler_name': 'VideoHandler', 'vendor_id': '[0][0][0][0]', 'encoder': 'Lavc61.19.100 libx264'}}], 'input_number': 0}], 'duration': 20.76, 'bitrate': 324, 'start': 0.0, 'default_video_input_number': 0, 'default_video_stream_number': 0, 'video_codec_name': 'h264', 'video_profile': '(High)', 'video_size': [444, 444], 'video_bitrate': 322, 'video_fps': 25.0, 'video_duration': 20.76, 'video_n_frames': 519}\n",
      "c:\\Users\\taylo\\OneDrive\\Documents\\Dissertation_Work\\signLanguageTranslator\\preprocessing\\.venv\\Lib\\site-packages\\imageio_ffmpeg\\binaries\\ffmpeg-win-x86_64-v7.1.exe -i C:\\Users\\taylo\\OneDrive - Queen Mary, University of London\\Documents\\test_videos\\clip_093.mp4 -loglevel error -f image2pipe -vf scale=444:444 -sws_flags bicubic -pix_fmt rgb24 -vcodec rawvideo -\n",
      "MoviePy - Building video C:\\Users\\taylo\\OneDrive - Queen Mary, University of London\\Documents\\test_videos_extracted\\093_edited.mp4.\n",
      "MoviePy - Writing video C:\\Users\\taylo\\OneDrive - Queen Mary, University of London\\Documents\\test_videos_extracted\\093_edited.mp4\n",
      "\n"
     ]
    },
    {
     "name": "stderr",
     "output_type": "stream",
     "text": [
      "                                                                         \r"
     ]
    },
    {
     "name": "stdout",
     "output_type": "stream",
     "text": [
      "MoviePy - Done !\n",
      "MoviePy - video ready C:\\Users\\taylo\\OneDrive - Queen Mary, University of London\\Documents\\test_videos_extracted\\093_edited.mp4\n",
      "Extracted clip: 093_edited.mp4\n",
      "{'code': '094', 'file': '6039179284990373014.vtt', 'start': '00:10:13.982', 'end': '00:10:23.492', 'text': 'Tigers are incredibly powerful swimmers, they have these huge paws, and actually when they spread their toes out, there is webbing, if you like, in between their toes.'}\n",
      "{'video_found': True, 'audio_found': False, 'metadata': {'major_brand': 'isom', 'minor_version': '512', 'compatible_brands': 'isomiso2avc1mp41', 'encoder': 'Lavf61.7.100'}, 'inputs': [{'streams': [{'input_number': 0, 'stream_number': 0, 'stream_type': 'video', 'language': None, 'default': True, 'size': [444, 444], 'bitrate': 466, 'fps': 25.0, 'codec_name': 'h264', 'profile': '(High)', 'metadata': {'Metadata': '', 'handler_name': 'VideoHandler', 'vendor_id': '[0][0][0][0]', 'encoder': 'Lavc61.19.100 libx264'}}], 'input_number': 0}], 'duration': 22.52, 'bitrate': 469, 'start': 0.0, 'default_video_input_number': 0, 'default_video_stream_number': 0, 'video_codec_name': 'h264', 'video_profile': '(High)', 'video_size': [444, 444], 'video_bitrate': 466, 'video_fps': 25.0, 'video_duration': 22.52, 'video_n_frames': 563}\n",
      "c:\\Users\\taylo\\OneDrive\\Documents\\Dissertation_Work\\signLanguageTranslator\\preprocessing\\.venv\\Lib\\site-packages\\imageio_ffmpeg\\binaries\\ffmpeg-win-x86_64-v7.1.exe -i C:\\Users\\taylo\\OneDrive - Queen Mary, University of London\\Documents\\test_videos\\clip_094.mp4 -loglevel error -f image2pipe -vf scale=444:444 -sws_flags bicubic -pix_fmt rgb24 -vcodec rawvideo -\n",
      "MoviePy - Building video C:\\Users\\taylo\\OneDrive - Queen Mary, University of London\\Documents\\test_videos_extracted\\094_edited.mp4.\n",
      "MoviePy - Writing video C:\\Users\\taylo\\OneDrive - Queen Mary, University of London\\Documents\\test_videos_extracted\\094_edited.mp4\n",
      "\n"
     ]
    },
    {
     "name": "stderr",
     "output_type": "stream",
     "text": [
      "                                                                         \r"
     ]
    },
    {
     "name": "stdout",
     "output_type": "stream",
     "text": [
      "MoviePy - Done !\n",
      "MoviePy - video ready C:\\Users\\taylo\\OneDrive - Queen Mary, University of London\\Documents\\test_videos_extracted\\094_edited.mp4\n",
      "Extracted clip: 094_edited.mp4\n",
      "{'code': '095', 'file': '6352730795454475067.vtt', 'start': '00:20:21.687', 'end': '00:20:25.957', 'text': 'But the tenacious turtle fights back, and wriggles free.'}\n",
      "{'video_found': True, 'audio_found': False, 'metadata': {'major_brand': 'isom', 'minor_version': '512', 'compatible_brands': 'isomiso2avc1mp41', 'encoder': 'Lavf61.7.100'}, 'inputs': [{'streams': [{'input_number': 0, 'stream_number': 0, 'stream_type': 'video', 'language': None, 'default': True, 'size': [444, 444], 'bitrate': 364, 'fps': 25.0, 'codec_name': 'h264', 'profile': '(High)', 'metadata': {'Metadata': '', 'handler_name': 'VideoHandler', 'vendor_id': '[0][0][0][0]', 'encoder': 'Lavc61.19.100 libx264'}}], 'input_number': 0}], 'duration': 17.28, 'bitrate': 366, 'start': 0.0, 'default_video_input_number': 0, 'default_video_stream_number': 0, 'video_codec_name': 'h264', 'video_profile': '(High)', 'video_size': [444, 444], 'video_bitrate': 364, 'video_fps': 25.0, 'video_duration': 17.28, 'video_n_frames': 432}\n",
      "c:\\Users\\taylo\\OneDrive\\Documents\\Dissertation_Work\\signLanguageTranslator\\preprocessing\\.venv\\Lib\\site-packages\\imageio_ffmpeg\\binaries\\ffmpeg-win-x86_64-v7.1.exe -i C:\\Users\\taylo\\OneDrive - Queen Mary, University of London\\Documents\\test_videos\\clip_095.mp4 -loglevel error -f image2pipe -vf scale=444:444 -sws_flags bicubic -pix_fmt rgb24 -vcodec rawvideo -\n",
      "MoviePy - Building video C:\\Users\\taylo\\OneDrive - Queen Mary, University of London\\Documents\\test_videos_extracted\\095_edited.mp4.\n",
      "MoviePy - Writing video C:\\Users\\taylo\\OneDrive - Queen Mary, University of London\\Documents\\test_videos_extracted\\095_edited.mp4\n",
      "\n"
     ]
    },
    {
     "name": "stderr",
     "output_type": "stream",
     "text": [
      "                                                                        \r"
     ]
    },
    {
     "name": "stdout",
     "output_type": "stream",
     "text": [
      "MoviePy - Done !\n",
      "MoviePy - video ready C:\\Users\\taylo\\OneDrive - Queen Mary, University of London\\Documents\\test_videos_extracted\\095_edited.mp4\n",
      "Extracted clip: 095_edited.mp4\n",
      "{'code': '096', 'file': '6268478998989212414.vtt', 'start': '00:52:20.074', 'end': '00:52:25.414', 'text': 'So, these are the people, obviously, the people who are going to watch the runners come in at the finish line.'}\n",
      "{'video_found': True, 'audio_found': False, 'metadata': {'major_brand': 'isom', 'minor_version': '512', 'compatible_brands': 'isomiso2avc1mp41', 'encoder': 'Lavf61.7.100'}, 'inputs': [{'streams': [{'input_number': 0, 'stream_number': 0, 'stream_type': 'video', 'language': None, 'default': True, 'size': [444, 444], 'bitrate': 467, 'fps': 25.0, 'codec_name': 'h264', 'profile': '(High)', 'metadata': {'Metadata': '', 'handler_name': 'VideoHandler', 'vendor_id': '[0][0][0][0]', 'encoder': 'Lavc61.19.100 libx264'}}], 'input_number': 0}], 'duration': 18.36, 'bitrate': 470, 'start': 0.0, 'default_video_input_number': 0, 'default_video_stream_number': 0, 'video_codec_name': 'h264', 'video_profile': '(High)', 'video_size': [444, 444], 'video_bitrate': 467, 'video_fps': 25.0, 'video_duration': 18.36, 'video_n_frames': 459}\n",
      "c:\\Users\\taylo\\OneDrive\\Documents\\Dissertation_Work\\signLanguageTranslator\\preprocessing\\.venv\\Lib\\site-packages\\imageio_ffmpeg\\binaries\\ffmpeg-win-x86_64-v7.1.exe -i C:\\Users\\taylo\\OneDrive - Queen Mary, University of London\\Documents\\test_videos\\clip_096.mp4 -loglevel error -f image2pipe -vf scale=444:444 -sws_flags bicubic -pix_fmt rgb24 -vcodec rawvideo -\n",
      "MoviePy - Building video C:\\Users\\taylo\\OneDrive - Queen Mary, University of London\\Documents\\test_videos_extracted\\096_edited.mp4.\n",
      "MoviePy - Writing video C:\\Users\\taylo\\OneDrive - Queen Mary, University of London\\Documents\\test_videos_extracted\\096_edited.mp4\n",
      "\n"
     ]
    },
    {
     "name": "stderr",
     "output_type": "stream",
     "text": [
      "                                                                         \r"
     ]
    },
    {
     "name": "stdout",
     "output_type": "stream",
     "text": [
      "MoviePy - Done !\n",
      "MoviePy - video ready C:\\Users\\taylo\\OneDrive - Queen Mary, University of London\\Documents\\test_videos_extracted\\096_edited.mp4\n",
      "Extracted clip: 096_edited.mp4\n",
      "{'code': '097', 'file': '6333418904504754384.vtt', 'start': '00:32:49.773', 'end': '00:32:51.323', 'text': \"They're the wonders of the age.\"}\n",
      "{'video_found': True, 'audio_found': False, 'metadata': {'major_brand': 'isom', 'minor_version': '512', 'compatible_brands': 'isomiso2avc1mp41', 'encoder': 'Lavf61.7.100'}, 'inputs': [{'streams': [{'input_number': 0, 'stream_number': 0, 'stream_type': 'video', 'language': None, 'default': True, 'size': [444, 444], 'bitrate': 411, 'fps': 25.0, 'codec_name': 'h264', 'profile': '(High)', 'metadata': {'Metadata': '', 'handler_name': 'VideoHandler', 'vendor_id': '[0][0][0][0]', 'encoder': 'Lavc61.19.100 libx264'}}], 'input_number': 0}], 'duration': 14.56, 'bitrate': 414, 'start': 0.0, 'default_video_input_number': 0, 'default_video_stream_number': 0, 'video_codec_name': 'h264', 'video_profile': '(High)', 'video_size': [444, 444], 'video_bitrate': 411, 'video_fps': 25.0, 'video_duration': 14.56, 'video_n_frames': 364}\n",
      "c:\\Users\\taylo\\OneDrive\\Documents\\Dissertation_Work\\signLanguageTranslator\\preprocessing\\.venv\\Lib\\site-packages\\imageio_ffmpeg\\binaries\\ffmpeg-win-x86_64-v7.1.exe -i C:\\Users\\taylo\\OneDrive - Queen Mary, University of London\\Documents\\test_videos\\clip_097.mp4 -loglevel error -f image2pipe -vf scale=444:444 -sws_flags bicubic -pix_fmt rgb24 -vcodec rawvideo -\n",
      "MoviePy - Building video C:\\Users\\taylo\\OneDrive - Queen Mary, University of London\\Documents\\test_videos_extracted\\097_edited.mp4.\n",
      "MoviePy - Writing video C:\\Users\\taylo\\OneDrive - Queen Mary, University of London\\Documents\\test_videos_extracted\\097_edited.mp4\n",
      "\n"
     ]
    },
    {
     "name": "stderr",
     "output_type": "stream",
     "text": [
      "                                                             \r"
     ]
    },
    {
     "name": "stdout",
     "output_type": "stream",
     "text": [
      "MoviePy - Done !\n",
      "MoviePy - video ready C:\\Users\\taylo\\OneDrive - Queen Mary, University of London\\Documents\\test_videos_extracted\\097_edited.mp4\n",
      "Extracted clip: 097_edited.mp4\n",
      "{'code': '098', 'file': '6033968630666861125.vtt', 'start': '00:55:58.274', 'end': '00:56:00.154', 'text': 'They were allowed to freely roam around.'}\n",
      "{'video_found': True, 'audio_found': False, 'metadata': {'major_brand': 'isom', 'minor_version': '512', 'compatible_brands': 'isomiso2avc1mp41', 'encoder': 'Lavf61.7.100'}, 'inputs': [{'streams': [{'input_number': 0, 'stream_number': 0, 'stream_type': 'video', 'language': None, 'default': True, 'size': [444, 444], 'bitrate': 362, 'fps': 25.0, 'codec_name': 'h264', 'profile': '(High)', 'metadata': {'Metadata': '', 'handler_name': 'VideoHandler', 'vendor_id': '[0][0][0][0]', 'encoder': 'Lavc61.19.100 libx264'}}], 'input_number': 0}], 'duration': 14.92, 'bitrate': 365, 'start': 0.0, 'default_video_input_number': 0, 'default_video_stream_number': 0, 'video_codec_name': 'h264', 'video_profile': '(High)', 'video_size': [444, 444], 'video_bitrate': 362, 'video_fps': 25.0, 'video_duration': 14.92, 'video_n_frames': 373}\n",
      "c:\\Users\\taylo\\OneDrive\\Documents\\Dissertation_Work\\signLanguageTranslator\\preprocessing\\.venv\\Lib\\site-packages\\imageio_ffmpeg\\binaries\\ffmpeg-win-x86_64-v7.1.exe -i C:\\Users\\taylo\\OneDrive - Queen Mary, University of London\\Documents\\test_videos\\clip_098.mp4 -loglevel error -f image2pipe -vf scale=444:444 -sws_flags bicubic -pix_fmt rgb24 -vcodec rawvideo -\n",
      "MoviePy - Building video C:\\Users\\taylo\\OneDrive - Queen Mary, University of London\\Documents\\test_videos_extracted\\098_edited.mp4.\n",
      "MoviePy - Writing video C:\\Users\\taylo\\OneDrive - Queen Mary, University of London\\Documents\\test_videos_extracted\\098_edited.mp4\n",
      "\n"
     ]
    },
    {
     "name": "stderr",
     "output_type": "stream",
     "text": [
      "                                                             \r"
     ]
    },
    {
     "name": "stdout",
     "output_type": "stream",
     "text": [
      "MoviePy - Done !\n",
      "MoviePy - video ready C:\\Users\\taylo\\OneDrive - Queen Mary, University of London\\Documents\\test_videos_extracted\\098_edited.mp4\n",
      "Extracted clip: 098_edited.mp4\n",
      "{'code': '099', 'file': '6129605526440376534.vtt', 'start': '00:43:12.037', 'end': '00:43:14.097', 'text': 'I want to say something else about the castle.'}\n",
      "{'video_found': True, 'audio_found': False, 'metadata': {'major_brand': 'isom', 'minor_version': '512', 'compatible_brands': 'isomiso2avc1mp41', 'encoder': 'Lavf61.7.100'}, 'inputs': [{'streams': [{'input_number': 0, 'stream_number': 0, 'stream_type': 'video', 'language': None, 'default': True, 'size': [444, 444], 'bitrate': 407, 'fps': 25.0, 'codec_name': 'h264', 'profile': '(High)', 'metadata': {'Metadata': '', 'handler_name': 'VideoHandler', 'vendor_id': '[0][0][0][0]', 'encoder': 'Lavc61.19.100 libx264'}}], 'input_number': 0}], 'duration': 15.08, 'bitrate': 409, 'start': 0.0, 'default_video_input_number': 0, 'default_video_stream_number': 0, 'video_codec_name': 'h264', 'video_profile': '(High)', 'video_size': [444, 444], 'video_bitrate': 407, 'video_fps': 25.0, 'video_duration': 15.08, 'video_n_frames': 377}\n",
      "c:\\Users\\taylo\\OneDrive\\Documents\\Dissertation_Work\\signLanguageTranslator\\preprocessing\\.venv\\Lib\\site-packages\\imageio_ffmpeg\\binaries\\ffmpeg-win-x86_64-v7.1.exe -i C:\\Users\\taylo\\OneDrive - Queen Mary, University of London\\Documents\\test_videos\\clip_099.mp4 -loglevel error -f image2pipe -vf scale=444:444 -sws_flags bicubic -pix_fmt rgb24 -vcodec rawvideo -\n",
      "MoviePy - Building video C:\\Users\\taylo\\OneDrive - Queen Mary, University of London\\Documents\\test_videos_extracted\\099_edited.mp4.\n",
      "MoviePy - Writing video C:\\Users\\taylo\\OneDrive - Queen Mary, University of London\\Documents\\test_videos_extracted\\099_edited.mp4\n",
      "\n"
     ]
    },
    {
     "name": "stderr",
     "output_type": "stream",
     "text": [
      "                                                             \r"
     ]
    },
    {
     "name": "stdout",
     "output_type": "stream",
     "text": [
      "MoviePy - Done !\n",
      "MoviePy - video ready C:\\Users\\taylo\\OneDrive - Queen Mary, University of London\\Documents\\test_videos_extracted\\099_edited.mp4\n",
      "Extracted clip: 099_edited.mp4\n",
      "{'code': '100', 'file': '6274706272088545077.vtt', 'start': '00:42:34.093', 'end': '00:42:45.353', 'text': \"And, there, he attacked the temple establishment, overturning the tables of the money changers and telling them they had turned God's house into a den of thieves.\"}\n",
      "{'video_found': True, 'audio_found': False, 'metadata': {'major_brand': 'isom', 'minor_version': '512', 'compatible_brands': 'isomiso2avc1mp41', 'encoder': 'Lavf61.7.100'}, 'inputs': [{'streams': [{'input_number': 0, 'stream_number': 0, 'stream_type': 'video', 'language': None, 'default': True, 'size': [444, 444], 'bitrate': 482, 'fps': 25.0, 'codec_name': 'h264', 'profile': '(High)', 'metadata': {'Metadata': '', 'handler_name': 'VideoHandler', 'vendor_id': '[0][0][0][0]', 'encoder': 'Lavc61.19.100 libx264'}}], 'input_number': 0}], 'duration': 24.28, 'bitrate': 485, 'start': 0.0, 'default_video_input_number': 0, 'default_video_stream_number': 0, 'video_codec_name': 'h264', 'video_profile': '(High)', 'video_size': [444, 444], 'video_bitrate': 482, 'video_fps': 25.0, 'video_duration': 24.28, 'video_n_frames': 607}\n",
      "c:\\Users\\taylo\\OneDrive\\Documents\\Dissertation_Work\\signLanguageTranslator\\preprocessing\\.venv\\Lib\\site-packages\\imageio_ffmpeg\\binaries\\ffmpeg-win-x86_64-v7.1.exe -i C:\\Users\\taylo\\OneDrive - Queen Mary, University of London\\Documents\\test_videos\\clip_100.mp4 -loglevel error -f image2pipe -vf scale=444:444 -sws_flags bicubic -pix_fmt rgb24 -vcodec rawvideo -\n",
      "MoviePy - Building video C:\\Users\\taylo\\OneDrive - Queen Mary, University of London\\Documents\\test_videos_extracted\\100_edited.mp4.\n",
      "MoviePy - Writing video C:\\Users\\taylo\\OneDrive - Queen Mary, University of London\\Documents\\test_videos_extracted\\100_edited.mp4\n",
      "\n"
     ]
    },
    {
     "name": "stderr",
     "output_type": "stream",
     "text": [
      "                                                                         \r"
     ]
    },
    {
     "name": "stdout",
     "output_type": "stream",
     "text": [
      "MoviePy - Done !\n",
      "MoviePy - video ready C:\\Users\\taylo\\OneDrive - Queen Mary, University of London\\Documents\\test_videos_extracted\\100_edited.mp4\n",
      "Extracted clip: 100_edited.mp4\n"
     ]
    }
   ],
   "source": [
    "input_directory_path = \"<path_to_input_directory>\"\n",
    "output_directory_path = \"<path_to_output_directory>\"\n",
    "\n",
    "subtitles_path = \"<path_to_subtitles_file>\"\n",
    "\n",
    "# Open the JSON file containing subtitle information\n",
    "with open(subtitles_path, 'r') as f:\n",
    "    subtitle_data = json.load(f)\n",
    "\n",
    "# Iterate through the subtitle data and extract video clips\n",
    "for sub in subtitle_data:\n",
    "    print(sub)\n",
    "    # Extract start and end times and the video code from the subtitle entry\n",
    "    start = sub['start']\n",
    "    end = sub['end']\n",
    "    code = sub['code']\n",
    "    # Derive the path of the video file\n",
    "    video_path = os.path.join(input_directory_path, \"clip_\" + code + '.mp4')\n",
    "    \n",
    "    # Check if the corresponding MP4 video exists\n",
    "    if os.path.exists(video_path):\n",
    "        # Load the video clip\n",
    "        video = VideoFileClip(video_path)\n",
    "        \n",
    "        # Extract the clip based on the start and end time (times are in seconds)\n",
    "        clip = video.subclipped(2, 2 + (time_to_float(end) - time_to_float(start)))\n",
    "        \n",
    "        # Save the clip with a new name\n",
    "        output_filename = f\"{code}_edited.mp4\"\n",
    "        output_path = os.path.join(output_directory_path, output_filename)\n",
    "        \n",
    "        # Write the clip to a file\n",
    "        clip.write_videofile(output_path, codec=\"libx264\")\n",
    "        print(f\"Extracted clip: {output_filename}\")\n",
    "        \n",
    "        # Close the video clip object\n",
    "        video.close()\n",
    "    else:\n",
    "        # If the video file does not exist, print a message\n",
    "        print(f\"Video file {code} not found.\")"
   ]
  }
 ],
 "metadata": {
  "kernelspec": {
   "display_name": ".venv",
   "language": "python",
   "name": "python3"
  },
  "language_info": {
   "codemirror_mode": {
    "name": "ipython",
    "version": 3
   },
   "file_extension": ".py",
   "mimetype": "text/x-python",
   "name": "python",
   "nbconvert_exporter": "python",
   "pygments_lexer": "ipython3",
   "version": "3.12.2"
  }
 },
 "nbformat": 4,
 "nbformat_minor": 2
}
