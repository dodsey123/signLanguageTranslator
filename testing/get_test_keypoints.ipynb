{
 "cells": [
  {
   "cell_type": "code",
   "execution_count": null,
   "metadata": {},
   "outputs": [],
   "source": [
    "import os\n",
    "import json\n",
    "import tarfile\n",
    "import torch\n",
    "from tqdm import tqdm\n",
    "from glob import glob"
   ]
  },
  {
   "cell_type": "code",
   "execution_count": null,
   "metadata": {},
   "outputs": [],
   "source": [
    "# Function to save a dictionary to a JSON file\n",
    "def load_from_json(file_path):\n",
    "    with open(file_path, 'r') as f:\n",
    "        data = json.load(f)\n",
    "    return data"
   ]
  },
  {
   "cell_type": "code",
   "execution_count": null,
   "metadata": {},
   "outputs": [],
   "source": [
    "# Load JSON files from a folder and parse them into a list of dictionaries\n",
    "def load_json_files(folder_path, output_folder):\n",
    "    # create an empty list to store the JSON data\n",
    "    json_data = []\n",
    "    # put the list on the device\n",
    "    json_data = json_data.to(device)\n",
    "    # list all files in the folder\n",
    "    for filename in os.listdir(folder_path):\n",
    "        # check if the file is a JSON file\n",
    "        if filename.endswith(\".json\"):\n",
    "            # build the full file path \n",
    "            file_path = os.path.join(folder_path, filename)\n",
    "            # open the file and load the JSON data\n",
    "            with open(file_path, 'r') as f:\n",
    "                data = json.load(f)\n",
    "                data = data.to(device)\n",
    "                json_data.append(data)\n",
    "                print(\"     \" + filename)\n",
    "\n",
    "    # save the loaded JSON data to a new file in the output folder\n",
    "    file = os.path.join(output_folder, \"output.json\")\n",
    "    with open(file, 'w') as json_file:\n",
    "        json.dump(json_data, json_file, indent=4)"
   ]
  },
  {
   "cell_type": "code",
   "execution_count": null,
   "metadata": {},
   "outputs": [],
   "source": [
    "# extract the tar files from the directory\n",
    "def extract_tar(tar_path, extract_path):\n",
    "    # Ensure the extract path exists\n",
    "    os.makedirs(extract_path, exist_ok=True)\n",
    "\n",
    "    # Open and extract the tar file\n",
    "    with tarfile.open(tar_path, 'r') as tar:\n",
    "        tar.extractall(path=extract_path)\n",
    "    # return the path of the tar file\n",
    "    return tar_path\n"
   ]
  },
  {
   "cell_type": "code",
   "execution_count": null,
   "metadata": {},
   "outputs": [],
   "source": [
    "# Function to convert time strings to frames based on a given FPS\n",
    "def time_to_frames(start_time_str, end_time_str, fps):\n",
    "\n",
    "    # Split the time string into hours, minutes, and seconds\n",
    "    hours, minutes, seconds = start_time_str.split(':')\n",
    "    # Convert to float\n",
    "    hours = float(hours)\n",
    "    minutes = float(minutes)\n",
    "    seconds = float(seconds)\n",
    "\n",
    "    # Convert to total seconds\n",
    "    start_frame = hours * 3600 + minutes * 60 + seconds * fps\n",
    "\n",
    "    # Split the time string into hours, minutes, and seconds\n",
    "    hours, minutes, seconds = end_time_str.split(':')\n",
    "    # Convert to float\n",
    "    hours = float(hours)\n",
    "    minutes = float(minutes)\n",
    "    seconds = float(seconds)\n",
    "\n",
    "    # Convert to total seconds\n",
    "    end_frame = hours * 3600 + minutes * 60 + seconds\n",
    "    \n",
    "    # Return the start and end frames\n",
    "    return start_frame, end_frame"
   ]
  },
  {
   "cell_type": "code",
   "execution_count": null,
   "metadata": {},
   "outputs": [],
   "source": [
    "def compile_json_from_tar(tar_gz_path):\n",
    "    # Open the tar.gz file\n",
    "    with tarfile.open(tar_gz_path, 'r:gz') as tar:\n",
    "        # Extract the folder name to use as the name for the output JSON file\n",
    "        folder_name = os.path.splitext(os.path.basename(tar_gz_path))[0][:-4]\n",
    "        output_json_filename = f\"<path_to_directory>\\\\{folder_name}.json\"\n",
    "\n",
    "        # List to store combined JSON data\n",
    "        combined_json_data = []\n",
    "\n",
    "        # Iterate over each file in the tar.gz archive\n",
    "        for member in tar.getmembers():\n",
    "            # Check if the member is a file and ends with .json\n",
    "            if member.isfile() and member.name.endswith('.json'):\n",
    "                # Extract the file and read the JSON data\n",
    "                with tar.extractfile(member) as f:\n",
    "                    try:\n",
    "                        print(member.name)\n",
    "                        # Load the JSON file and append it to the combined list\n",
    "                        json_data = json.load(f)\n",
    "                        combined_json_data.append(json_data)\n",
    "                    except json.JSONDecodeError as e:\n",
    "                        print(f\"Error decoding JSON from {member.name}: {e}\")\n",
    "\n",
    "        # Write all the combined JSON data into a single output file\n",
    "        with open(output_json_filename, 'w') as json_file:\n",
    "            json.dump(combined_json_data, json_file, indent=4)\n",
    "\n",
    "        print(f\"Combined JSON data saved to {output_json_filename}\")\n"
   ]
  },
  {
   "cell_type": "code",
   "execution_count": null,
   "metadata": {},
   "outputs": [],
   "source": [
    "# Function to extract keypoints from the JSON data\n",
    "def extract_keypoints(json_data):\n",
    "    # Initialize a list to hold all keypoints for all frames\n",
    "    keypoints_list = []\n",
    "    # Iterate through each frame in the JSON data\n",
    "    for frame in json_data:\n",
    "        # List to hold keypoints for each frame\n",
    "        frame_keypoints = [] \n",
    "        # Iterate through each person in the frame\n",
    "        for person in frame[\"people\"]:\n",
    "            # To hold all keypoints for this person\n",
    "            keypoints_person = []  \n",
    "\n",
    "            # Process body keypoints\n",
    "            body_keypoints = []\n",
    "            # Iterate through the pose keypoints (x, y, confidence)\n",
    "            for i in range(0, len(person[\"pose_keypoints_2d\"]), 3):\n",
    "                # Check if the index is within bounds\n",
    "                if i+1 < len(person[\"pose_keypoints_2d\"]) and i+2 < len(person[\"pose_keypoints_2d\"]): \n",
    "                    # Extract x, y, and confidence values\n",
    "                    x = person[\"pose_keypoints_2d\"][i]\n",
    "                    y = person[\"pose_keypoints_2d\"][i+1]\n",
    "                    confidence = person[\"pose_keypoints_2d\"][i+2]\n",
    "                    # Append the keypoint to the list\n",
    "                    body_keypoints.append([x, y, confidence]) \n",
    "                else:\n",
    "                    # Handle missing values by padding with zeros\n",
    "                    body_keypoints.append([0, 0, 0])  \n",
    "            # Append the body keypoints to the person's keypoints\n",
    "            keypoints_person.append(body_keypoints)\n",
    "            \n",
    "            # Process left hand keypoints \n",
    "            left_hand_keypoints = []\n",
    "            # Check if left hand keypoints are available\n",
    "            if \"hand_left_keypoints_2d\" in person:\n",
    "                # Iterate through the left hand keypoints (x, y, confidence)\n",
    "                for i in range(0, len(person[\"hand_left_keypoints_2d\"]), 3): \n",
    "                    # Check if the index is within bounds\n",
    "                    if i+1 < len(person[\"hand_left_keypoints_2d\"]) and i+2 < len(person[\"hand_left_keypoints_2d\"]):\n",
    "                        # Extract x, y, and confidence values\n",
    "                        x = person[\"hand_left_keypoints_2d\"][i]\n",
    "                        y = person[\"hand_left_keypoints_2d\"][i+1]\n",
    "                        confidence = person[\"hand_left_keypoints_2d\"][i+2]\n",
    "                        # Append the keypoint to the list\n",
    "                        left_hand_keypoints.append([x, y, confidence])\n",
    "                    else:\n",
    "                        # Handle missing values by padding with zeros\n",
    "                        left_hand_keypoints.append([0, 0, 0]) \n",
    "                # Append the left hand keypoints to the person's keypoints\n",
    "                keypoints_person.append(left_hand_keypoints)\n",
    "            \n",
    "            # Process right hand keypoints (if available)\n",
    "            right_hand_keypoints = []\n",
    "            # Check if right hand keypoints are available\n",
    "            if \"hand_right_keypoints_2d\" in person:\n",
    "                # Iterate through the right hand keypoints (x, y, confidence)\n",
    "                for i in range(0, len(person[\"hand_right_keypoints_2d\"]), 3):\n",
    "                    # Check if the index is within bounds\n",
    "                    if i+1 < len(person[\"hand_right_keypoints_2d\"]) and i+2 < len(person[\"hand_right_keypoints_2d\"]):\n",
    "                        # Extract x, y, and confidence values\n",
    "                        x = person[\"hand_right_keypoints_2d\"][i]\n",
    "                        y = person[\"hand_right_keypoints_2d\"][i+1]\n",
    "                        confidence = person[\"hand_right_keypoints_2d\"][i+2]\n",
    "                        # Append the keypoint to the list\n",
    "                        right_hand_keypoints.append([x, y, confidence])\n",
    "                    else:\n",
    "                        # Handle missing values by padding with zeros\n",
    "                        right_hand_keypoints.append([0, 0, 0])\n",
    "                # Append the right hand keypoints to the person's keypoints\n",
    "                keypoints_person.append(right_hand_keypoints)\n",
    "\n",
    "            # Add the keypoints for this person to the frame's keypoints\n",
    "            frame_keypoints.append(keypoints_person)\n",
    "        \n",
    "        # Add all the frame's keypoints to the main list\n",
    "        keypoints_list.append(frame_keypoints)\n",
    "    # Return the list of keypoints for all frames\n",
    "    return keypoints_list"
   ]
  },
  {
   "cell_type": "code",
   "execution_count": null,
   "metadata": {},
   "outputs": [],
   "source": [
    "# Function to normalize keypoints data\n",
    "def normalize_keypoints(keypoints_data):\n",
    "    # Initialize a list to hold all keypoints\n",
    "    flattened_keypoints = []\n",
    "\n",
    "    # Flatten all keypoints across frames with a progress bar\n",
    "    for frame_keypoints in tqdm(keypoints_data, desc=\"Normalizing keypoints (flattening)\", total=len(keypoints_data), ncols=100):\n",
    "        # Iterate through each person in the frame\n",
    "        for person_keypoints in frame_keypoints:\n",
    "            # Iterate through each set of body keypoints for the person\n",
    "            for body_keypoints in person_keypoints:\n",
    "                # Iterate through each keypoint (x, y, confidence)\n",
    "                for keypoint in body_keypoints:\n",
    "                    # Pad keypoints to size 3 if they are not of size 3\n",
    "                    if len(keypoint) < 3:\n",
    "                        keypoint = keypoint + [0] * (3 - len(keypoint))  \n",
    "                    # Append the keypoint to the flattened list\n",
    "                    flattened_keypoints.append(keypoint)\n",
    "\n",
    "    # Convert flattened keypoints list into a tensor for normalization\n",
    "    flattened_keypoints = torch.tensor(flattened_keypoints).float()\n",
    "\n",
    "    # Calculate mean and std for normalization\n",
    "    mean = flattened_keypoints.mean(dim=0)\n",
    "    std = flattened_keypoints.std(dim=0)\n",
    "\n",
    "    # Normalize the keypoints with a progress bar\n",
    "    normalized_keypoints = []\n",
    "    # Iterate through each frame's keypoints\n",
    "    for frame_keypoints in tqdm(keypoints_data, desc=\"Applying normalization\", total=len(keypoints_data), ncols=100):\n",
    "        # List to hold normalized keypoints for this frame\n",
    "        normalized_frame_keypoints = []\n",
    "        # Iterate through each person in the frame\n",
    "        for person_keypoints in frame_keypoints:\n",
    "            # List to hold normalized keypoints for this person\n",
    "            normalized_person_keypoints = []\n",
    "            # Iterate through each set of body keypoints for the person\n",
    "            for body_keypoints in person_keypoints:\n",
    "                # List to hold normalized keypoints for this body\n",
    "                normalized_body_keypoints = []\n",
    "                # Iterate through each keypoint (x, y, confidence)\n",
    "                for keypoint in body_keypoints:\n",
    "                    # Pad keypoint if it's not of size 3 (as done earlier)\n",
    "                    if len(keypoint) < 3:\n",
    "                        keypoint = keypoint + [0] * (3 - len(keypoint))\n",
    "                    # Convert keypoint to tensor\n",
    "                    keypoint_tensor = torch.tensor(keypoint).float()\n",
    "                    # Normalize (x, y, confidence) by subtracting mean and dividing by std\n",
    "                    # Add small epsilon to prevent division by zero\n",
    "                    normalized_keypoint = (keypoint_tensor - mean) / (std + 1e-6)  \n",
    "                    # Append the normalized keypoint to the list\n",
    "                    normalized_body_keypoints.append(normalized_keypoint)\n",
    "                # Append the normalized body keypoints to the person's keypoints\n",
    "                normalized_person_keypoints.append(normalized_body_keypoints)\n",
    "            # Append the normalized person's keypoints to the frame's keypoints\n",
    "            normalized_frame_keypoints.append(normalized_person_keypoints)\n",
    "        # Append the normalized frame keypoints to the main list\n",
    "        normalized_keypoints.append(normalized_frame_keypoints)\n",
    "    # Return the normalized keypoints\n",
    "    return normalized_keypoints\n",
    "\n"
   ]
  },
  {
   "cell_type": "code",
   "execution_count": null,
   "metadata": {},
   "outputs": [],
   "source": [
    "# Function to convert subtitle times to seconds\n",
    "def time_to_float(time_str):\n",
    "\n",
    "    # Split the time string into hours, minutes, and seconds\n",
    "    hours, minutes, seconds = time_str.split(':')\n",
    "\n",
    "    # Convert to float\n",
    "    hours = float(hours)\n",
    "    minutes = float(minutes)\n",
    "    seconds = float(seconds)\n",
    "\n",
    "    # Convert to total seconds\n",
    "    total_seconds = hours * 3600 + minutes * 60 + seconds\n",
    "\n",
    "    # Return the total seconds as a float\n",
    "    return total_seconds"
   ]
  },
  {
   "cell_type": "code",
   "execution_count": null,
   "metadata": {},
   "outputs": [],
   "source": [
    "# Function to align subtitles with keypoints\n",
    "def align_subtitles(normalized_keypoints, subtitles_data):\n",
    "        # Set the frames per second (FPS) for the video\n",
    "        fps = 25\n",
    "        # Calculate the number of frames based on the length of the keypoints data\n",
    "        num_frames = len(normalized_keypoints)\n",
    "\n",
    "        # Initialize a list to hold aligned subtitles   \n",
    "        aligned_subtitles = []\n",
    "        # Set the initial index for subtitles\n",
    "        subtitle_idx = 0\n",
    "        \n",
    "        # Create data structures for aligned subtitles\n",
    "        aligned_subtitles = [\"\" for _ in range(num_frames)]\n",
    "        subtitle_idx = 0\n",
    "\n",
    "        # Iterate through each frame to align subtitles\n",
    "        for frame_idx in tqdm(range(num_frames), desc=\"Aligning subtitles\", total=num_frames, ncols=100):\n",
    "            # Calculate the time for the current frame\n",
    "            frame_time = frame_idx / fps\n",
    "\n",
    "            # Check if the current subtitle is within the frame time\n",
    "            while subtitle_idx < len(subtitles_data) and time_to_float(subtitles_data[\"end\"]) < frame_time:\n",
    "                # Move to the next subtitle if the current one has ended\n",
    "                subtitle_idx += 1\n",
    "\n",
    "            # Check if the current frame time is within the subtitle's start and end time\n",
    "            if subtitle_idx < len(subtitles_data) and time_to_float(subtitles_data[\"start\"]) <= frame_time <= time_to_float(subtitles_data[\"end\"]):\n",
    "                # If it is, assign the subtitle text to the aligned subtitles list\n",
    "                aligned_subtitles[frame_idx] = subtitles_data[\"text\"]\n",
    "\n",
    "        # Only keep frames with subtitles\n",
    "        relevant_frames = [idx for idx, subtitle in enumerate(aligned_subtitles) if subtitle != \"\"]\n",
    "\n",
    "        print(relevant_frames)\n",
    "\n",
    "        # Filter out normalized keypoints and subtitles for relevant frames\n",
    "        normalized_keypoints = [normalized_keypoints[idx] for idx in relevant_frames]\n",
    "        aligned_subtitles = [aligned_subtitles[idx] for idx in relevant_frames]\n",
    "\n",
    "        # Return the normalized keypoints and aligned subtitles\n",
    "        return normalized_keypoints, aligned_subtitles"
   ]
  },
  {
   "cell_type": "code",
   "execution_count": null,
   "metadata": {},
   "outputs": [
    {
     "name": "stdout",
     "output_type": "stream",
     "text": [
      "Unexpected exception formatting exception. Falling back to standard exception\n"
     ]
    },
    {
     "name": "stderr",
     "output_type": "stream",
     "text": [
      "Traceback (most recent call last):\n",
      "  File \"c:\\Users\\taylo\\OneDrive\\Documents\\Dissertation_Work\\signLanguageTranslator\\preprocessing\\.venv\\Lib\\site-packages\\IPython\\core\\interactiveshell.py\", line 3579, in run_code\n",
      "  File \"C:\\Users\\taylo\\AppData\\Local\\Temp\\ipykernel_16608\\2359241892.py\", line 2, in <module>\n",
      "    test_data = load_from_json(\"<path_to_directory>\\\\test_data.json\")\n",
      "                ^^^^^^^^^^^^^^\n",
      "NameError: name 'load_from_json' is not defined\n",
      "\n",
      "During handling of the above exception, another exception occurred:\n",
      "\n",
      "Traceback (most recent call last):\n",
      "  File \"c:\\Users\\taylo\\OneDrive\\Documents\\Dissertation_Work\\signLanguageTranslator\\preprocessing\\.venv\\Lib\\site-packages\\pygments\\styles\\__init__.py\", line 45, in get_style_by_name\n",
      "ModuleNotFoundError: No module named 'pygments.styles.default'\n",
      "\n",
      "During handling of the above exception, another exception occurred:\n",
      "\n",
      "Traceback (most recent call last):\n",
      "  File \"c:\\Users\\taylo\\OneDrive\\Documents\\Dissertation_Work\\signLanguageTranslator\\preprocessing\\.venv\\Lib\\site-packages\\IPython\\core\\interactiveshell.py\", line 2170, in showtraceback\n",
      "  File \"c:\\Users\\taylo\\OneDrive\\Documents\\Dissertation_Work\\signLanguageTranslator\\preprocessing\\.venv\\Lib\\site-packages\\IPython\\core\\ultratb.py\", line 1457, in structured_traceback\n",
      "  File \"c:\\Users\\taylo\\OneDrive\\Documents\\Dissertation_Work\\signLanguageTranslator\\preprocessing\\.venv\\Lib\\site-packages\\IPython\\core\\ultratb.py\", line 1348, in structured_traceback\n",
      "  File \"c:\\Users\\taylo\\OneDrive\\Documents\\Dissertation_Work\\signLanguageTranslator\\preprocessing\\.venv\\Lib\\site-packages\\IPython\\core\\ultratb.py\", line 1195, in structured_traceback\n",
      "  File \"c:\\Users\\taylo\\OneDrive\\Documents\\Dissertation_Work\\signLanguageTranslator\\preprocessing\\.venv\\Lib\\site-packages\\IPython\\core\\ultratb.py\", line 1085, in format_exception_as_a_whole\n",
      "  File \"c:\\Users\\taylo\\OneDrive\\Documents\\Dissertation_Work\\signLanguageTranslator\\preprocessing\\.venv\\Lib\\site-packages\\IPython\\core\\ultratb.py\", line 1136, in get_records\n",
      "  File \"c:\\Users\\taylo\\OneDrive\\Documents\\Dissertation_Work\\signLanguageTranslator\\preprocessing\\.venv\\Lib\\site-packages\\pygments\\styles\\__init__.py\", line 47, in get_style_by_name\n",
      "pygments.util.ClassNotFound: Could not find style module 'pygments.styles.default', though it should be builtin.\n"
     ]
    }
   ],
   "source": [
    "# paths to the directory containing the JSON files\n",
    "test_data = load_from_json(\"<path_to_directory>\\\\test_data.json\")\n",
    "test_keypoints = \"<path_to_directory>\\\\keypoints\"\n",
    "\n",
    "# Load the test data from the JSON file\n",
    "filenames = []\n",
    "for data in test_data:\n",
    "    filenames.append(data[\"file\"])\n",
    "\n",
    "counter = 0\n",
    "\n",
    "# Iterate through each folder in the directory containing the keypoints\n",
    "for foldername in os.listdir(\"<path_to_directory>\\\\keypoints\"):\n",
    "    # Iterate through each file in the folder\n",
    "    for data in test_data:\n",
    "        # Check if the file name matches the folder name (excluding the last 7 characters)\n",
    "        if data[\"file\"][:-4] == foldername[:-7]:\n",
    "            counter += 1\n",
    "            # Build the full path to the keypoints folder\n",
    "            keypoints_path = os.path.join(test_keypoints, foldername)\n",
    "            print(counter , \"     \", keypoints_path)\n",
    "            # Unzip the tar file\n",
    "            print(\"Unzipping tar file\")\n",
    "            path = extract_tar(os.path.join(\"D:\\\\bobsl\\\\v1.4\\\\video_features\\\\keypoints\", foldername), os.path.join(test_keypoints, foldername[:-7]))\n",
    "            path = os.path.join(test_keypoints, foldername[:-7])\n",
    "            # Load the JSON files from the folder\n",
    "            print(\"Combining json files\")\n",
    "            json_data = compile_json_from_tar(path)\n",
    "            # Extract keypoints from the JSON data\n",
    "            print(\"Extracting keypoints\")\n",
    "            keypoints = extract_keypoints(json_data)\n",
    "            # Normalize the keypoints\n",
    "            print(\"Normalizing keypoints\")\n",
    "            normalized_keypoints = normalize_keypoints(keypoints)\n",
    "            # Align the subtitles with the keypoints\n",
    "            print(\"length: \", len(keypoints))\n",
    "            print(\"Aligning subtitles\")\n",
    "            aligned_keypoints, aligned_subtitles = align_subtitles(normalized_keypoints, data)\n",
    "            # Save the aligned keypoints and subtitles to the specified directory\n",
    "            print(\"Saving keypoints\")\n",
    "            torch.save(aligned_keypoints, os.path.join(test_keypoints, data[\"code\"] + \"_keypoints.pt\"))\n",
    "            print(\"Saving subtitles\")\n",
    "            torch.save(aligned_subtitles, os.path.join(test_keypoints, data[\"code\"] + \"_subtitles.pt\"))\n"
   ]
  },
  {
   "cell_type": "code",
   "execution_count": null,
   "metadata": {},
   "outputs": [
    {
     "name": "stdout",
     "output_type": "stream",
     "text": [
      "\n",
      "[001] Processing video: 6191576750560895398\n",
      " - Frames: 65580 to 65605\n",
      " - Loading keypoint JSONs\n",
      " - Extracting and normalizing keypoints\n"
     ]
    },
    {
     "name": "stderr",
     "output_type": "stream",
     "text": [
      "Normalizing keypoints (flattening): 100%|████████████████████████| 25/25 [00:00<00:00, 17271.88it/s]\n",
      "Applying normalization: 100%|██████████████████████████████████████| 25/25 [00:00<00:00, 290.31it/s]"
     ]
    },
    {
     "name": "stdout",
     "output_type": "stream",
     "text": [
      " - Saving clip keypoints and subtitle\n"
     ]
    },
    {
     "name": "stderr",
     "output_type": "stream",
     "text": [
      "\n"
     ]
    },
    {
     "name": "stdout",
     "output_type": "stream",
     "text": [
      "\n",
      "[002] Processing video: 5904461193300402199\n",
      " - Frames: 80589 to 80713\n",
      " - Loading keypoint JSONs\n",
      " - Extracting and normalizing keypoints\n"
     ]
    },
    {
     "name": "stderr",
     "output_type": "stream",
     "text": [
      "Normalizing keypoints (flattening): 100%|██████████████████████| 124/124 [00:00<00:00, 61295.66it/s]\n",
      "Applying normalization: 100%|████████████████████████████████████| 124/124 [00:00<00:00, 256.60it/s]\n"
     ]
    },
    {
     "name": "stdout",
     "output_type": "stream",
     "text": [
      " - Saving clip keypoints and subtitle\n",
      "\n",
      "[003] Processing video: 6233608589009718329\n",
      " - Frames: 30441 to 30516\n",
      " - Loading keypoint JSONs\n",
      " - Extracting and normalizing keypoints\n"
     ]
    },
    {
     "name": "stderr",
     "output_type": "stream",
     "text": [
      "Normalizing keypoints (flattening): 100%|████████████████████████| 75/75 [00:00<00:00, 22426.24it/s]\n",
      "Applying normalization: 100%|██████████████████████████████████████| 75/75 [00:00<00:00, 151.78it/s]\n"
     ]
    },
    {
     "name": "stdout",
     "output_type": "stream",
     "text": [
      " - Saving clip keypoints and subtitle\n",
      "\n",
      "[004] Processing video: 5958272409055245472\n",
      " - Frames: 40588 to 40626\n",
      " - Loading keypoint JSONs\n",
      " - Extracting and normalizing keypoints\n"
     ]
    },
    {
     "name": "stderr",
     "output_type": "stream",
     "text": [
      "Normalizing keypoints (flattening): 100%|███████████████████████████████████| 38/38 [00:00<?, ?it/s]\n",
      "Applying normalization: 100%|██████████████████████████████████████| 38/38 [00:00<00:00, 266.52it/s]"
     ]
    },
    {
     "name": "stdout",
     "output_type": "stream",
     "text": [
      " - Saving clip keypoints and subtitle\n"
     ]
    },
    {
     "name": "stderr",
     "output_type": "stream",
     "text": [
      "\n"
     ]
    },
    {
     "name": "stdout",
     "output_type": "stream",
     "text": [
      "\n",
      "[005] Processing video: 6285177831836075138\n",
      " - Frames: 37501 to 37567\n",
      " - Loading keypoint JSONs\n",
      " - Extracting and normalizing keypoints\n"
     ]
    },
    {
     "name": "stderr",
     "output_type": "stream",
     "text": [
      "Normalizing keypoints (flattening): 100%|████████████████████████| 66/66 [00:00<00:00, 70835.23it/s]\n",
      "Applying normalization: 100%|██████████████████████████████████████| 66/66 [00:00<00:00, 325.60it/s]\n"
     ]
    },
    {
     "name": "stdout",
     "output_type": "stream",
     "text": [
      " - Saving clip keypoints and subtitle\n",
      "\n",
      "[006] Processing video: 6073370660661421086\n",
      " - Frames: 14473 to 14510\n",
      " - Loading keypoint JSONs\n",
      " - Extracting and normalizing keypoints\n"
     ]
    },
    {
     "name": "stderr",
     "output_type": "stream",
     "text": [
      "Normalizing keypoints (flattening): 100%|████████████████████████| 37/37 [00:00<00:00, 36967.42it/s]\n",
      "Applying normalization: 100%|██████████████████████████████████████| 37/37 [00:00<00:00, 345.96it/s]"
     ]
    },
    {
     "name": "stdout",
     "output_type": "stream",
     "text": [
      " - Saving clip keypoints and subtitle\n"
     ]
    },
    {
     "name": "stderr",
     "output_type": "stream",
     "text": [
      "\n"
     ]
    },
    {
     "name": "stdout",
     "output_type": "stream",
     "text": [
      "\n",
      "[007] Processing video: 6044816429587412137\n",
      " - Frames: 10173 to 10203\n",
      " - Loading keypoint JSONs\n",
      " - Extracting and normalizing keypoints\n"
     ]
    },
    {
     "name": "stderr",
     "output_type": "stream",
     "text": [
      "Normalizing keypoints (flattening): 100%|████████████████████████| 30/30 [00:00<00:00, 29824.39it/s]\n",
      "Applying normalization: 100%|██████████████████████████████████████| 30/30 [00:00<00:00, 193.99it/s]\n"
     ]
    },
    {
     "name": "stdout",
     "output_type": "stream",
     "text": [
      " - Saving clip keypoints and subtitle\n",
      "\n",
      "[008] Processing video: 6175991173237160649\n",
      " - Frames: 28175 to 28221\n",
      " - Loading keypoint JSONs\n",
      " - Extracting and normalizing keypoints\n"
     ]
    },
    {
     "name": "stderr",
     "output_type": "stream",
     "text": [
      "Normalizing keypoints (flattening): 100%|████████████████████████| 46/46 [00:00<00:00, 46069.24it/s]\n",
      "Applying normalization: 100%|██████████████████████████████████████| 46/46 [00:00<00:00, 354.52it/s]"
     ]
    },
    {
     "name": "stdout",
     "output_type": "stream",
     "text": [
      " - Saving clip keypoints and subtitle\n"
     ]
    },
    {
     "name": "stderr",
     "output_type": "stream",
     "text": [
      "\n"
     ]
    },
    {
     "name": "stdout",
     "output_type": "stream",
     "text": [
      "\n",
      "[009] Processing video: 6118829882991424621\n",
      " - Frames: 18195 to 18246\n",
      " - Loading keypoint JSONs\n",
      " - Extracting and normalizing keypoints\n"
     ]
    },
    {
     "name": "stderr",
     "output_type": "stream",
     "text": [
      "Normalizing keypoints (flattening): 100%|████████████████████████| 51/51 [00:00<00:00, 46131.01it/s]\n",
      "Applying normalization: 100%|██████████████████████████████████████| 51/51 [00:00<00:00, 334.16it/s]"
     ]
    },
    {
     "name": "stdout",
     "output_type": "stream",
     "text": [
      " - Saving clip keypoints and subtitle\n"
     ]
    },
    {
     "name": "stderr",
     "output_type": "stream",
     "text": [
      "\n"
     ]
    },
    {
     "name": "stdout",
     "output_type": "stream",
     "text": [
      "\n",
      "[010] Processing video: 6075545632079083725\n",
      " - Frames: 41483 to 41551\n",
      " - Loading keypoint JSONs\n",
      " - Extracting and normalizing keypoints\n"
     ]
    },
    {
     "name": "stderr",
     "output_type": "stream",
     "text": [
      "Normalizing keypoints (flattening): 100%|████████████████████████| 68/68 [00:00<00:00, 67972.51it/s]\n",
      "Applying normalization: 100%|██████████████████████████████████████| 68/68 [00:00<00:00, 324.33it/s]\n"
     ]
    },
    {
     "name": "stdout",
     "output_type": "stream",
     "text": [
      " - Saving clip keypoints and subtitle\n",
      "\n",
      "[011] Processing video: 6240919482340977071\n",
      " - Frames: 58492 to 58633\n",
      " - Loading keypoint JSONs\n",
      " - Extracting and normalizing keypoints\n"
     ]
    },
    {
     "name": "stderr",
     "output_type": "stream",
     "text": [
      "Normalizing keypoints (flattening): 100%|█████████████████████| 141/141 [00:00<00:00, 141414.84it/s]\n",
      "Applying normalization: 100%|████████████████████████████████████| 141/141 [00:00<00:00, 256.65it/s]\n"
     ]
    },
    {
     "name": "stdout",
     "output_type": "stream",
     "text": [
      " - Saving clip keypoints and subtitle\n",
      "\n",
      "[012] Processing video: 6221297065255808656\n",
      " - Frames: 40992 to 41040\n",
      " - Loading keypoint JSONs\n",
      " - Extracting and normalizing keypoints\n"
     ]
    },
    {
     "name": "stderr",
     "output_type": "stream",
     "text": [
      "Normalizing keypoints (flattening): 100%|████████████████████████| 48/48 [00:00<00:00, 38986.56it/s]\n",
      "Applying normalization: 100%|██████████████████████████████████████| 48/48 [00:00<00:00, 283.21it/s]\n"
     ]
    },
    {
     "name": "stdout",
     "output_type": "stream",
     "text": [
      " - Saving clip keypoints and subtitle\n",
      "\n",
      "[013] Processing video: 5912531007352921763\n",
      " - Frames: 70810 to 70877\n",
      " - Loading keypoint JSONs\n",
      " - Extracting and normalizing keypoints\n"
     ]
    },
    {
     "name": "stderr",
     "output_type": "stream",
     "text": [
      "Normalizing keypoints (flattening): 100%|████████████████████████| 67/67 [00:00<00:00, 67004.86it/s]\n",
      "Applying normalization: 100%|██████████████████████████████████████| 67/67 [00:00<00:00, 209.31it/s]\n"
     ]
    },
    {
     "name": "stdout",
     "output_type": "stream",
     "text": [
      " - Saving clip keypoints and subtitle\n",
      "\n",
      "[014] Processing video: 6111065441113707054\n",
      " - Frames: 63226 to 63280\n",
      " - Loading keypoint JSONs\n",
      " - Extracting and normalizing keypoints\n"
     ]
    },
    {
     "name": "stderr",
     "output_type": "stream",
     "text": [
      "Normalizing keypoints (flattening): 100%|████████████████████████| 54/54 [00:00<00:00, 26787.99it/s]\n",
      "Applying normalization: 100%|██████████████████████████████████████| 54/54 [00:00<00:00, 224.25it/s]\n"
     ]
    },
    {
     "name": "stdout",
     "output_type": "stream",
     "text": [
      " - Saving clip keypoints and subtitle\n",
      "\n",
      "[015] Processing video: 6231758317098601501\n",
      " - Frames: 5263 to 5353\n",
      " - Loading keypoint JSONs\n",
      " - Extracting and normalizing keypoints\n"
     ]
    },
    {
     "name": "stderr",
     "output_type": "stream",
     "text": [
      "Normalizing keypoints (flattening): 100%|████████████████████████| 90/90 [00:00<00:00, 90200.09it/s]\n",
      "Applying normalization: 100%|██████████████████████████████████████| 90/90 [00:00<00:00, 260.80it/s]\n"
     ]
    },
    {
     "name": "stdout",
     "output_type": "stream",
     "text": [
      " - Saving clip keypoints and subtitle\n",
      "\n",
      "[016] Processing video: 6209781828438436925\n",
      " - Frames: 5149 to 5187\n",
      " - Loading keypoint JSONs\n",
      " - Extracting and normalizing keypoints\n"
     ]
    },
    {
     "name": "stderr",
     "output_type": "stream",
     "text": [
      "Normalizing keypoints (flattening): 100%|███████████████████████████████████| 38/38 [00:00<?, ?it/s]\n",
      "Applying normalization: 100%|██████████████████████████████████████| 38/38 [00:00<00:00, 206.58it/s]\n"
     ]
    },
    {
     "name": "stdout",
     "output_type": "stream",
     "text": [
      " - Saving clip keypoints and subtitle\n",
      "\n",
      "[017] Processing video: 6342696033864091923\n",
      " - Frames: 67952 to 68004\n",
      " - Loading keypoint JSONs\n",
      " - Extracting and normalizing keypoints\n"
     ]
    },
    {
     "name": "stderr",
     "output_type": "stream",
     "text": [
      "Normalizing keypoints (flattening): 100%|███████████████████████████████████| 52/52 [00:00<?, ?it/s]\n",
      "Applying normalization: 100%|██████████████████████████████████████| 52/52 [00:00<00:00, 586.43it/s]"
     ]
    },
    {
     "name": "stdout",
     "output_type": "stream",
     "text": [
      " - Saving clip keypoints and subtitle\n"
     ]
    },
    {
     "name": "stderr",
     "output_type": "stream",
     "text": [
      "\n"
     ]
    },
    {
     "name": "stdout",
     "output_type": "stream",
     "text": [
      "\n",
      "[018] Processing video: 6536144796870811961\n",
      " - Frames: 3147 to 3224\n",
      " - Loading keypoint JSONs\n",
      " - Extracting and normalizing keypoints\n"
     ]
    },
    {
     "name": "stderr",
     "output_type": "stream",
     "text": [
      "Normalizing keypoints (flattening): 100%|████████████████████████| 77/77 [00:00<00:00, 77042.32it/s]\n",
      "Applying normalization: 100%|██████████████████████████████████████| 77/77 [00:00<00:00, 525.83it/s]"
     ]
    },
    {
     "name": "stdout",
     "output_type": "stream",
     "text": [
      " - Saving clip keypoints and subtitle\n"
     ]
    },
    {
     "name": "stderr",
     "output_type": "stream",
     "text": [
      "\n"
     ]
    },
    {
     "name": "stdout",
     "output_type": "stream",
     "text": [
      "\n",
      "[019] Processing video: 6779391128669000760\n",
      " - Frames: 25942 to 26029\n",
      " - Loading keypoint JSONs\n",
      " - Extracting and normalizing keypoints\n"
     ]
    },
    {
     "name": "stderr",
     "output_type": "stream",
     "text": [
      "Normalizing keypoints (flattening): 100%|████████████████████████| 87/87 [00:00<00:00, 86799.35it/s]\n",
      "Applying normalization: 100%|██████████████████████████████████████| 87/87 [00:00<00:00, 582.18it/s]"
     ]
    },
    {
     "name": "stdout",
     "output_type": "stream",
     "text": [
      " - Saving clip keypoints and subtitle\n"
     ]
    },
    {
     "name": "stderr",
     "output_type": "stream",
     "text": [
      "\n"
     ]
    },
    {
     "name": "stdout",
     "output_type": "stream",
     "text": [
      "\n",
      "[020] Processing video: 6124443834744095233\n",
      " - Frames: 27069 to 27155\n",
      " - Loading keypoint JSONs\n",
      " - Extracting and normalizing keypoints\n"
     ]
    },
    {
     "name": "stderr",
     "output_type": "stream",
     "text": [
      "Normalizing keypoints (flattening): 100%|████████████████████████| 86/86 [00:00<00:00, 86150.02it/s]\n",
      "Applying normalization: 100%|██████████████████████████████████████| 86/86 [00:00<00:00, 365.24it/s]\n"
     ]
    },
    {
     "name": "stdout",
     "output_type": "stream",
     "text": [
      " - Saving clip keypoints and subtitle\n",
      "\n",
      "[021] Processing video: 5982356867664289477\n",
      " - Frames: 20447 to 20529\n",
      " - Loading keypoint JSONs\n",
      " - Extracting and normalizing keypoints\n"
     ]
    },
    {
     "name": "stderr",
     "output_type": "stream",
     "text": [
      "Normalizing keypoints (flattening): 100%|████████████████████████| 82/82 [00:00<00:00, 81927.81it/s]\n",
      "Applying normalization: 100%|██████████████████████████████████████| 82/82 [00:00<00:00, 542.17it/s]"
     ]
    },
    {
     "name": "stdout",
     "output_type": "stream",
     "text": [
      " - Saving clip keypoints and subtitle\n"
     ]
    },
    {
     "name": "stderr",
     "output_type": "stream",
     "text": [
      "\n"
     ]
    },
    {
     "name": "stdout",
     "output_type": "stream",
     "text": [
      "\n",
      "[022] Processing video: 6237351653029241223\n",
      " - Frames: 16499 to 16568\n",
      " - Loading keypoint JSONs\n",
      " - Extracting and normalizing keypoints\n"
     ]
    },
    {
     "name": "stderr",
     "output_type": "stream",
     "text": [
      "Normalizing keypoints (flattening): 100%|████████████████████████| 69/69 [00:00<00:00, 68063.73it/s]\n",
      "Applying normalization: 100%|██████████████████████████████████████| 69/69 [00:00<00:00, 487.65it/s]"
     ]
    },
    {
     "name": "stdout",
     "output_type": "stream",
     "text": [
      " - Saving clip keypoints and subtitle\n"
     ]
    },
    {
     "name": "stderr",
     "output_type": "stream",
     "text": [
      "\n"
     ]
    },
    {
     "name": "stdout",
     "output_type": "stream",
     "text": [
      "\n",
      "[023] Processing video: 6075545632079083725\n",
      " - Frames: 85868 to 86139\n",
      " - Loading keypoint JSONs\n",
      " - Extracting and normalizing keypoints\n"
     ]
    },
    {
     "name": "stderr",
     "output_type": "stream",
     "text": [
      "Normalizing keypoints (flattening): 100%|█████████████████████| 271/271 [00:00<00:00, 135525.98it/s]\n",
      "Applying normalization: 100%|████████████████████████████████████| 271/271 [00:00<00:00, 441.21it/s]\n"
     ]
    },
    {
     "name": "stdout",
     "output_type": "stream",
     "text": [
      " - Saving clip keypoints and subtitle\n",
      "\n",
      "[024] Processing video: 6353747414213438292\n",
      " - Frames: 78900 to 78952\n",
      " - Loading keypoint JSONs\n",
      " - Extracting and normalizing keypoints\n"
     ]
    },
    {
     "name": "stderr",
     "output_type": "stream",
     "text": [
      "Normalizing keypoints (flattening): 100%|████████████████████████| 52/52 [00:00<00:00, 34406.66it/s]\n",
      "Applying normalization: 100%|██████████████████████████████████████| 52/52 [00:00<00:00, 471.50it/s]"
     ]
    },
    {
     "name": "stdout",
     "output_type": "stream",
     "text": [
      " - Saving clip keypoints and subtitle\n"
     ]
    },
    {
     "name": "stderr",
     "output_type": "stream",
     "text": [
      "\n"
     ]
    },
    {
     "name": "stdout",
     "output_type": "stream",
     "text": [
      "\n",
      "[025] Processing video: 6135535158289207849\n",
      " - Frames: 55930 to 56080\n",
      " - Loading keypoint JSONs\n",
      " - Extracting and normalizing keypoints\n"
     ]
    },
    {
     "name": "stderr",
     "output_type": "stream",
     "text": [
      "Normalizing keypoints (flattening): 100%|█████████████████████| 150/150 [00:00<00:00, 150982.87it/s]\n",
      "Applying normalization: 100%|████████████████████████████████████| 150/150 [00:00<00:00, 511.26it/s]\n"
     ]
    },
    {
     "name": "stdout",
     "output_type": "stream",
     "text": [
      " - Saving clip keypoints and subtitle\n",
      "\n",
      "[026] Processing video: 6170785672874404958\n",
      " - Frames: 12059 to 12135\n",
      " - Loading keypoint JSONs\n",
      " - Extracting and normalizing keypoints\n"
     ]
    },
    {
     "name": "stderr",
     "output_type": "stream",
     "text": [
      "Normalizing keypoints (flattening): 100%|████████████████████████| 76/76 [00:00<00:00, 75896.93it/s]\n",
      "Applying normalization: 100%|██████████████████████████████████████| 76/76 [00:00<00:00, 202.12it/s]\n"
     ]
    },
    {
     "name": "stdout",
     "output_type": "stream",
     "text": [
      " - Saving clip keypoints and subtitle\n",
      "\n",
      "[027] Processing video: 5976825379283792120\n",
      " - Frames: 12837 to 12900\n",
      " - Loading keypoint JSONs\n",
      " - Extracting and normalizing keypoints\n"
     ]
    },
    {
     "name": "stderr",
     "output_type": "stream",
     "text": [
      "Normalizing keypoints (flattening): 100%|████████████████████████| 63/63 [00:00<00:00, 62944.53it/s]\n",
      "Applying normalization: 100%|██████████████████████████████████████| 63/63 [00:00<00:00, 502.26it/s]\n"
     ]
    },
    {
     "name": "stdout",
     "output_type": "stream",
     "text": [
      " - Saving clip keypoints and subtitle\n",
      "\n",
      "[028] Processing video: 6026568831533621087\n",
      " - Frames: 16519 to 16612\n",
      " - Loading keypoint JSONs\n",
      " - Extracting and normalizing keypoints\n"
     ]
    },
    {
     "name": "stderr",
     "output_type": "stream",
     "text": [
      "Normalizing keypoints (flattening): 100%|████████████████████████| 93/93 [00:00<00:00, 93318.25it/s]\n",
      "Applying normalization: 100%|██████████████████████████████████████| 93/93 [00:00<00:00, 240.39it/s]\n"
     ]
    },
    {
     "name": "stdout",
     "output_type": "stream",
     "text": [
      " - Saving clip keypoints and subtitle\n",
      "\n",
      "[029] Processing video: 6786626001083320011\n",
      " - Frames: 2602 to 2635\n",
      " - Loading keypoint JSONs\n",
      " - Extracting and normalizing keypoints\n"
     ]
    },
    {
     "name": "stderr",
     "output_type": "stream",
     "text": [
      "Normalizing keypoints (flattening): 100%|███████████████████████████████████| 33/33 [00:00<?, ?it/s]\n",
      "Applying normalization: 100%|██████████████████████████████████████| 33/33 [00:00<00:00, 414.27it/s]"
     ]
    },
    {
     "name": "stdout",
     "output_type": "stream",
     "text": [
      " - Saving clip keypoints and subtitle\n"
     ]
    },
    {
     "name": "stderr",
     "output_type": "stream",
     "text": [
      "\n"
     ]
    },
    {
     "name": "stdout",
     "output_type": "stream",
     "text": [
      "\n",
      "[030] Processing video: 6296242097087308509\n",
      " - Frames: 53650 to 53703\n",
      " - Loading keypoint JSONs\n",
      " - Extracting and normalizing keypoints\n"
     ]
    },
    {
     "name": "stderr",
     "output_type": "stream",
     "text": [
      "Normalizing keypoints (flattening): 100%|███████████████████████████████████| 53/53 [00:00<?, ?it/s]\n",
      "Applying normalization: 100%|██████████████████████████████████████| 53/53 [00:00<00:00, 312.26it/s]"
     ]
    },
    {
     "name": "stdout",
     "output_type": "stream",
     "text": [
      " - Saving clip keypoints and subtitle\n"
     ]
    },
    {
     "name": "stderr",
     "output_type": "stream",
     "text": [
      "\n"
     ]
    },
    {
     "name": "stdout",
     "output_type": "stream",
     "text": [
      "\n",
      "[031] Processing video: 6285077329601348734\n",
      " - Frames: 62858 to 62924\n",
      " - Loading keypoint JSONs\n",
      " - Extracting and normalizing keypoints\n"
     ]
    },
    {
     "name": "stderr",
     "output_type": "stream",
     "text": [
      "Normalizing keypoints (flattening): 100%|████████████████████████| 66/66 [00:00<00:00, 66099.35it/s]\n",
      "Applying normalization: 100%|██████████████████████████████████████| 66/66 [00:00<00:00, 348.92it/s]\n"
     ]
    },
    {
     "name": "stdout",
     "output_type": "stream",
     "text": [
      " - Saving clip keypoints and subtitle\n",
      "\n",
      "[032] Processing video: 5925266444399973583\n",
      " - Frames: 32115 to 32361\n",
      " - Loading keypoint JSONs\n",
      " - Extracting and normalizing keypoints\n"
     ]
    },
    {
     "name": "stderr",
     "output_type": "stream",
     "text": [
      "Normalizing keypoints (flattening): 100%|█████████████████████| 246/246 [00:00<00:00, 123082.28it/s]\n",
      "Applying normalization: 100%|████████████████████████████████████| 246/246 [00:00<00:00, 282.86it/s]\n"
     ]
    },
    {
     "name": "stdout",
     "output_type": "stream",
     "text": [
      " - Saving clip keypoints and subtitle\n",
      "\n",
      "[033] Processing video: 5992708597841178489\n",
      " - Frames: 38976 to 39046\n",
      " - Loading keypoint JSONs\n",
      " - Extracting and normalizing keypoints\n"
     ]
    },
    {
     "name": "stderr",
     "output_type": "stream",
     "text": [
      "Normalizing keypoints (flattening): 100%|████████████████████████| 70/70 [00:00<00:00, 69606.75it/s]\n",
      "Applying normalization: 100%|██████████████████████████████████████| 70/70 [00:00<00:00, 331.60it/s]\n"
     ]
    },
    {
     "name": "stdout",
     "output_type": "stream",
     "text": [
      " - Saving clip keypoints and subtitle\n",
      "\n",
      "[034] Processing video: 6157810576673206395\n",
      " - Frames: 77087 to 77190\n",
      " - Loading keypoint JSONs\n",
      " - Extracting and normalizing keypoints\n"
     ]
    },
    {
     "name": "stderr",
     "output_type": "stream",
     "text": [
      "Normalizing keypoints (flattening): 100%|██████████████████████| 103/103 [00:00<00:00, 51381.22it/s]\n",
      "Applying normalization: 100%|████████████████████████████████████| 103/103 [00:00<00:00, 270.76it/s]\n"
     ]
    },
    {
     "name": "stdout",
     "output_type": "stream",
     "text": [
      " - Saving clip keypoints and subtitle\n",
      "\n",
      "[035] Processing video: 6118829882991424621\n",
      " - Frames: 53225 to 53347\n",
      " - Loading keypoint JSONs\n",
      " - Extracting and normalizing keypoints\n"
     ]
    },
    {
     "name": "stderr",
     "output_type": "stream",
     "text": [
      "Normalizing keypoints (flattening): 100%|██████████████████████| 122/122 [00:00<00:00, 61157.53it/s]\n",
      "Applying normalization: 100%|████████████████████████████████████| 122/122 [00:00<00:00, 290.34it/s]\n"
     ]
    },
    {
     "name": "stdout",
     "output_type": "stream",
     "text": [
      " - Saving clip keypoints and subtitle\n",
      "\n",
      "[036] Processing video: 6165614961746744419\n",
      " - Frames: 36923 to 37002\n",
      " - Loading keypoint JSONs\n",
      " - Extracting and normalizing keypoints\n"
     ]
    },
    {
     "name": "stderr",
     "output_type": "stream",
     "text": [
      "Normalizing keypoints (flattening): 100%|████████████████████████| 79/79 [00:00<00:00, 79289.31it/s]\n",
      "Applying normalization: 100%|██████████████████████████████████████| 79/79 [00:00<00:00, 524.57it/s]"
     ]
    },
    {
     "name": "stdout",
     "output_type": "stream",
     "text": [
      " - Saving clip keypoints and subtitle\n"
     ]
    },
    {
     "name": "stderr",
     "output_type": "stream",
     "text": [
      "\n"
     ]
    },
    {
     "name": "stdout",
     "output_type": "stream",
     "text": [
      "\n",
      "[037] Processing video: 6351522191657378473\n",
      " - Frames: 34478 to 34591\n",
      " - Loading keypoint JSONs\n",
      " - Extracting and normalizing keypoints\n"
     ]
    },
    {
     "name": "stderr",
     "output_type": "stream",
     "text": [
      "Normalizing keypoints (flattening): 100%|██████████████████████| 113/113 [00:00<00:00, 56456.98it/s]\n",
      "Applying normalization: 100%|████████████████████████████████████| 113/113 [00:00<00:00, 307.70it/s]\n"
     ]
    },
    {
     "name": "stdout",
     "output_type": "stream",
     "text": [
      " - Saving clip keypoints and subtitle\n",
      "\n",
      "[038] Processing video: 5957901323880871061\n",
      " - Frames: 49429 to 49575\n",
      " - Loading keypoint JSONs\n",
      " - Extracting and normalizing keypoints\n"
     ]
    },
    {
     "name": "stderr",
     "output_type": "stream",
     "text": [
      "Normalizing keypoints (flattening): 100%|█████████████████████| 146/146 [00:00<00:00, 144188.46it/s]\n",
      "Applying normalization: 100%|████████████████████████████████████| 146/146 [00:00<00:00, 520.20it/s]\n"
     ]
    },
    {
     "name": "stdout",
     "output_type": "stream",
     "text": [
      " - Saving clip keypoints and subtitle\n",
      "\n",
      "[039] Processing video: 6724820992192941272\n",
      " - Frames: 3416 to 3570\n",
      " - Loading keypoint JSONs\n",
      " - Extracting and normalizing keypoints\n"
     ]
    },
    {
     "name": "stderr",
     "output_type": "stream",
     "text": [
      "Normalizing keypoints (flattening): 100%|██████████████████████| 154/154 [00:00<00:00, 51316.66it/s]\n",
      "Applying normalization: 100%|████████████████████████████████████| 154/154 [00:00<00:00, 380.19it/s]\n"
     ]
    },
    {
     "name": "stdout",
     "output_type": "stream",
     "text": [
      " - Saving clip keypoints and subtitle\n",
      "\n",
      "[040] Processing video: 6157795114790944374\n",
      " - Frames: 26695 to 26861\n",
      " - Loading keypoint JSONs\n",
      " - Extracting and normalizing keypoints\n"
     ]
    },
    {
     "name": "stderr",
     "output_type": "stream",
     "text": [
      "Normalizing keypoints (flattening): 100%|█████████████████████| 166/166 [00:00<00:00, 175070.27it/s]\n",
      "Applying normalization: 100%|████████████████████████████████████| 166/166 [00:00<00:00, 297.98it/s]\n"
     ]
    },
    {
     "name": "stdout",
     "output_type": "stream",
     "text": [
      " - Saving clip keypoints and subtitle\n",
      "\n",
      "[041] Processing video: 6356350164394816474\n",
      " - Frames: 72219 to 72341\n",
      " - Loading keypoint JSONs\n",
      " - Extracting and normalizing keypoints\n"
     ]
    },
    {
     "name": "stderr",
     "output_type": "stream",
     "text": [
      "Normalizing keypoints (flattening): 100%|██████████████████████| 122/122 [00:00<00:00, 61048.09it/s]\n",
      "Applying normalization: 100%|████████████████████████████████████| 122/122 [00:00<00:00, 477.36it/s]\n"
     ]
    },
    {
     "name": "stdout",
     "output_type": "stream",
     "text": [
      " - Saving clip keypoints and subtitle\n",
      "\n",
      "[042] Processing video: 6005770022884969070\n",
      " - Frames: 33104 to 33175\n",
      " - Loading keypoint JSONs\n",
      " - Extracting and normalizing keypoints\n"
     ]
    },
    {
     "name": "stderr",
     "output_type": "stream",
     "text": [
      "Normalizing keypoints (flattening): 100%|████████████████████████| 71/71 [00:00<00:00, 71775.27it/s]\n",
      "Applying normalization: 100%|██████████████████████████████████████| 71/71 [00:00<00:00, 498.95it/s]"
     ]
    },
    {
     "name": "stdout",
     "output_type": "stream",
     "text": [
      " - Saving clip keypoints and subtitle\n"
     ]
    },
    {
     "name": "stderr",
     "output_type": "stream",
     "text": [
      "\n"
     ]
    },
    {
     "name": "stdout",
     "output_type": "stream",
     "text": [
      "\n",
      "[043] Processing video: 6010868578562130609\n",
      " - Frames: 39755 to 39849\n",
      " - Loading keypoint JSONs\n",
      " - Extracting and normalizing keypoints\n"
     ]
    },
    {
     "name": "stderr",
     "output_type": "stream",
     "text": [
      "Normalizing keypoints (flattening): 100%|████████████████████████| 94/94 [00:00<00:00, 93627.30it/s]\n",
      "Applying normalization: 100%|██████████████████████████████████████| 94/94 [00:00<00:00, 540.86it/s]\n"
     ]
    },
    {
     "name": "stdout",
     "output_type": "stream",
     "text": [
      " - Saving clip keypoints and subtitle\n",
      "\n",
      "[044] Processing video: 6010590264681275644\n",
      " - Frames: 23512 to 23610\n",
      " - Loading keypoint JSONs\n",
      " - Extracting and normalizing keypoints\n"
     ]
    },
    {
     "name": "stderr",
     "output_type": "stream",
     "text": [
      "Normalizing keypoints (flattening): 100%|████████████████████████| 98/98 [00:00<00:00, 98571.17it/s]\n",
      "Applying normalization: 100%|██████████████████████████████████████| 98/98 [00:00<00:00, 433.48it/s]\n"
     ]
    },
    {
     "name": "stdout",
     "output_type": "stream",
     "text": [
      " - Saving clip keypoints and subtitle\n",
      "\n",
      "[045] Processing video: 5999344322313448717\n",
      " - Frames: 6965 to 7002\n",
      " - Loading keypoint JSONs\n",
      " - Extracting and normalizing keypoints\n"
     ]
    },
    {
     "name": "stderr",
     "output_type": "stream",
     "text": [
      "Normalizing keypoints (flattening): 100%|████████████████████████| 37/37 [00:00<00:00, 37020.34it/s]\n",
      "Applying normalization: 100%|██████████████████████████████████████| 37/37 [00:00<00:00, 167.30it/s]\n"
     ]
    },
    {
     "name": "stdout",
     "output_type": "stream",
     "text": [
      " - Saving clip keypoints and subtitle\n",
      "\n",
      "[046] Processing video: 6052979014933462992\n",
      " - Frames: 38344 to 38426\n",
      " - Loading keypoint JSONs\n",
      " - Extracting and normalizing keypoints\n"
     ]
    },
    {
     "name": "stderr",
     "output_type": "stream",
     "text": [
      "Normalizing keypoints (flattening): 100%|████████████████████████| 82/82 [00:00<00:00, 82103.83it/s]\n",
      "Applying normalization: 100%|██████████████████████████████████████| 82/82 [00:00<00:00, 309.86it/s]\n"
     ]
    },
    {
     "name": "stdout",
     "output_type": "stream",
     "text": [
      " - Saving clip keypoints and subtitle\n",
      "\n",
      "[047] Processing video: 5925611759749542295\n",
      " - Frames: 60383 to 60630\n",
      " - Loading keypoint JSONs\n",
      " - Extracting and normalizing keypoints\n"
     ]
    },
    {
     "name": "stderr",
     "output_type": "stream",
     "text": [
      "Normalizing keypoints (flattening): 100%|██████████████████████| 247/247 [00:00<00:00, 61596.59it/s]\n",
      "Applying normalization: 100%|████████████████████████████████████| 247/247 [00:00<00:00, 343.37it/s]\n"
     ]
    },
    {
     "name": "stdout",
     "output_type": "stream",
     "text": [
      " - Saving clip keypoints and subtitle\n",
      "\n",
      "[048] Processing video: 6137019498986707547\n",
      " - Frames: 15803 to 15962\n",
      " - Loading keypoint JSONs\n",
      " - Extracting and normalizing keypoints\n"
     ]
    },
    {
     "name": "stderr",
     "output_type": "stream",
     "text": [
      "Normalizing keypoints (flattening): 100%|██████████████████████| 159/159 [00:00<00:00, 79420.55it/s]\n",
      "Applying normalization: 100%|████████████████████████████████████| 159/159 [00:00<00:00, 302.70it/s]\n"
     ]
    },
    {
     "name": "stdout",
     "output_type": "stream",
     "text": [
      " - Saving clip keypoints and subtitle\n",
      "\n",
      "[049] Processing video: 5933404548411412231\n",
      " - Frames: 74839 to 75013\n",
      " - Loading keypoint JSONs\n",
      " - Extracting and normalizing keypoints\n"
     ]
    },
    {
     "name": "stderr",
     "output_type": "stream",
     "text": [
      "Normalizing keypoints (flattening): 100%|█████████████████████| 174/174 [00:00<00:00, 197192.35it/s]\n",
      "Applying normalization: 100%|████████████████████████████████████| 174/174 [00:00<00:00, 475.15it/s]\n"
     ]
    },
    {
     "name": "stdout",
     "output_type": "stream",
     "text": [
      " - Saving clip keypoints and subtitle\n",
      "\n",
      "[050] Processing video: 6240206947266569588\n",
      " - Frames: 46892 to 46947\n",
      " - Loading keypoint JSONs\n",
      " - Extracting and normalizing keypoints\n"
     ]
    },
    {
     "name": "stderr",
     "output_type": "stream",
     "text": [
      "Normalizing keypoints (flattening): 100%|████████████████████████| 55/55 [00:00<00:00, 55188.21it/s]\n",
      "Applying normalization: 100%|██████████████████████████████████████| 55/55 [00:00<00:00, 572.67it/s]"
     ]
    },
    {
     "name": "stdout",
     "output_type": "stream",
     "text": [
      " - Saving clip keypoints and subtitle\n"
     ]
    },
    {
     "name": "stderr",
     "output_type": "stream",
     "text": [
      "\n"
     ]
    },
    {
     "name": "stdout",
     "output_type": "stream",
     "text": [
      "\n",
      "[051] Processing video: 5966855042223883556\n",
      " - Frames: 33205 to 33336\n",
      " - Loading keypoint JSONs\n",
      " - Extracting and normalizing keypoints\n"
     ]
    },
    {
     "name": "stderr",
     "output_type": "stream",
     "text": [
      "Normalizing keypoints (flattening): 100%|█████████████████████| 131/131 [00:00<00:00, 131354.01it/s]\n",
      "Applying normalization: 100%|████████████████████████████████████| 131/131 [00:00<00:00, 408.64it/s]\n"
     ]
    },
    {
     "name": "stdout",
     "output_type": "stream",
     "text": [
      " - Saving clip keypoints and subtitle\n",
      "\n",
      "[052] Processing video: 6023978966254132189\n",
      " - Frames: 6835 to 6899\n",
      " - Loading keypoint JSONs\n",
      " - Extracting and normalizing keypoints\n"
     ]
    },
    {
     "name": "stderr",
     "output_type": "stream",
     "text": [
      "Normalizing keypoints (flattening): 100%|████████████████████████| 64/64 [00:00<00:00, 64265.13it/s]\n",
      "Applying normalization: 100%|██████████████████████████████████████| 64/64 [00:00<00:00, 337.61it/s]\n"
     ]
    },
    {
     "name": "stdout",
     "output_type": "stream",
     "text": [
      " - Saving clip keypoints and subtitle\n",
      "\n",
      "[053] Processing video: 5867637432194743565\n",
      " - Frames: 32192 to 32225\n",
      " - Loading keypoint JSONs\n",
      " - Extracting and normalizing keypoints\n"
     ]
    },
    {
     "name": "stderr",
     "output_type": "stream",
     "text": [
      "Normalizing keypoints (flattening): 100%|███████████████████████████████████| 33/33 [00:00<?, ?it/s]\n",
      "Applying normalization: 100%|██████████████████████████████████████| 33/33 [00:00<00:00, 519.30it/s]"
     ]
    },
    {
     "name": "stdout",
     "output_type": "stream",
     "text": [
      " - Saving clip keypoints and subtitle\n",
      "\n",
      "[054] Processing video: 6257761337619840450\n",
      " - Frames: 28796 to 28896\n",
      " - Loading keypoint JSONs\n"
     ]
    },
    {
     "name": "stderr",
     "output_type": "stream",
     "text": [
      "\n"
     ]
    },
    {
     "name": "stdout",
     "output_type": "stream",
     "text": [
      " - Extracting and normalizing keypoints\n"
     ]
    },
    {
     "name": "stderr",
     "output_type": "stream",
     "text": [
      "Normalizing keypoints (flattening): 100%|██████████████████████| 100/100 [00:00<00:00, 99935.76it/s]\n",
      "Applying normalization: 100%|████████████████████████████████████| 100/100 [00:00<00:00, 379.24it/s]\n"
     ]
    },
    {
     "name": "stdout",
     "output_type": "stream",
     "text": [
      " - Saving clip keypoints and subtitle\n",
      "\n",
      "[055] Processing video: 6366824301139582006\n",
      " - Frames: 204 to 267\n",
      " - Loading keypoint JSONs\n",
      " - Extracting and normalizing keypoints\n"
     ]
    },
    {
     "name": "stderr",
     "output_type": "stream",
     "text": [
      "Normalizing keypoints (flattening): 100%|███████████████████████████████████| 63/63 [00:00<?, ?it/s]\n",
      "Applying normalization: 100%|██████████████████████████████████████| 63/63 [00:00<00:00, 326.87it/s]\n"
     ]
    },
    {
     "name": "stdout",
     "output_type": "stream",
     "text": [
      " - Saving clip keypoints and subtitle\n",
      "\n",
      "[056] Processing video: 5928209355970165142\n",
      " - Frames: 39825 to 39928\n",
      " - Loading keypoint JSONs\n",
      " - Extracting and normalizing keypoints\n"
     ]
    },
    {
     "name": "stderr",
     "output_type": "stream",
     "text": [
      "Normalizing keypoints (flattening): 100%|██████████████████████| 103/103 [00:00<00:00, 45832.09it/s]\n",
      "Applying normalization: 100%|████████████████████████████████████| 103/103 [00:00<00:00, 197.10it/s]\n"
     ]
    },
    {
     "name": "stdout",
     "output_type": "stream",
     "text": [
      " - Saving clip keypoints and subtitle\n",
      "\n",
      "[057] Processing video: 5987128146850270993\n",
      " - Frames: 5617 to 5791\n",
      " - Loading keypoint JSONs\n",
      " - Extracting and normalizing keypoints\n"
     ]
    },
    {
     "name": "stderr",
     "output_type": "stream",
     "text": [
      "Normalizing keypoints (flattening): 100%|██████████████████████| 174/174 [00:00<00:00, 86964.84it/s]\n",
      "Applying normalization: 100%|████████████████████████████████████| 174/174 [00:00<00:00, 394.59it/s]\n"
     ]
    },
    {
     "name": "stdout",
     "output_type": "stream",
     "text": [
      " - Saving clip keypoints and subtitle\n",
      "\n",
      "[058] Processing video: 5934408282268489292\n",
      " - Frames: 48791 to 48843\n",
      " - Loading keypoint JSONs\n",
      " - Extracting and normalizing keypoints\n"
     ]
    },
    {
     "name": "stderr",
     "output_type": "stream",
     "text": [
      "Normalizing keypoints (flattening): 100%|████████████████████████| 52/52 [00:00<00:00, 51966.60it/s]\n",
      "Applying normalization: 100%|██████████████████████████████████████| 52/52 [00:00<00:00, 494.77it/s]"
     ]
    },
    {
     "name": "stdout",
     "output_type": "stream",
     "text": [
      " - Saving clip keypoints and subtitle\n"
     ]
    },
    {
     "name": "stderr",
     "output_type": "stream",
     "text": [
      "\n"
     ]
    },
    {
     "name": "stdout",
     "output_type": "stream",
     "text": [
      "\n",
      "[059] Processing video: 6290262214121084137\n",
      " - Frames: 15064 to 15320\n",
      " - Loading keypoint JSONs\n",
      " - Extracting and normalizing keypoints\n"
     ]
    },
    {
     "name": "stderr",
     "output_type": "stream",
     "text": [
      "Normalizing keypoints (flattening): 100%|██████████████████████| 256/256 [00:00<00:00, 85177.04it/s]\n",
      "Applying normalization: 100%|████████████████████████████████████| 256/256 [00:01<00:00, 203.35it/s]\n"
     ]
    },
    {
     "name": "stdout",
     "output_type": "stream",
     "text": [
      " - Saving clip keypoints and subtitle\n",
      "\n",
      "[060] Processing video: 6047414025808034037\n",
      " - Frames: 40177 to 40282\n",
      " - Loading keypoint JSONs\n",
      " - Extracting and normalizing keypoints\n"
     ]
    },
    {
     "name": "stderr",
     "output_type": "stream",
     "text": [
      "Normalizing keypoints (flattening): 100%|██████████████████████| 105/105 [00:00<00:00, 34977.52it/s]\n",
      "Applying normalization: 100%|████████████████████████████████████| 105/105 [00:00<00:00, 145.46it/s]\n"
     ]
    },
    {
     "name": "stdout",
     "output_type": "stream",
     "text": [
      " - Saving clip keypoints and subtitle\n",
      "\n",
      "[061] Processing video: 6130854073433323136\n",
      " - Frames: 41980 to 42032\n",
      " - Loading keypoint JSONs\n",
      " - Extracting and normalizing keypoints\n"
     ]
    },
    {
     "name": "stderr",
     "output_type": "stream",
     "text": [
      "Normalizing keypoints (flattening): 100%|████████████████████████| 52/52 [00:00<00:00, 51488.15it/s]\n",
      "Applying normalization: 100%|██████████████████████████████████████| 52/52 [00:00<00:00, 168.87it/s]\n"
     ]
    },
    {
     "name": "stdout",
     "output_type": "stream",
     "text": [
      " - Saving clip keypoints and subtitle\n",
      "\n",
      "[062] Processing video: 6164100985774907995\n",
      " - Frames: 52992 to 53033\n",
      " - Loading keypoint JSONs\n",
      " - Extracting and normalizing keypoints\n"
     ]
    },
    {
     "name": "stderr",
     "output_type": "stream",
     "text": [
      "Normalizing keypoints (flattening): 100%|████████████████████████| 41/41 [00:00<00:00, 41229.07it/s]\n",
      "Applying normalization: 100%|██████████████████████████████████████| 41/41 [00:00<00:00, 352.47it/s]"
     ]
    },
    {
     "name": "stdout",
     "output_type": "stream",
     "text": [
      " - Saving clip keypoints and subtitle\n"
     ]
    },
    {
     "name": "stderr",
     "output_type": "stream",
     "text": [
      "\n"
     ]
    },
    {
     "name": "stdout",
     "output_type": "stream",
     "text": [
      "\n",
      "[063] Processing video: 6059100631799409485\n",
      " - Frames: 45758 to 45969\n",
      " - Loading keypoint JSONs\n",
      " - Extracting and normalizing keypoints\n"
     ]
    },
    {
     "name": "stderr",
     "output_type": "stream",
     "text": [
      "Normalizing keypoints (flattening): 100%|█████████████████████| 211/211 [00:00<00:00, 105709.29it/s]\n",
      "Applying normalization: 100%|████████████████████████████████████| 211/211 [00:00<00:00, 326.32it/s]\n"
     ]
    },
    {
     "name": "stdout",
     "output_type": "stream",
     "text": [
      " - Saving clip keypoints and subtitle\n",
      "\n",
      "[064] Processing video: 6118829882991424621\n",
      " - Frames: 20718 to 20967\n",
      " - Loading keypoint JSONs\n",
      " - Extracting and normalizing keypoints\n"
     ]
    },
    {
     "name": "stderr",
     "output_type": "stream",
     "text": [
      "Normalizing keypoints (flattening): 100%|█████████████████████| 249/249 [00:00<00:00, 119686.19it/s]\n",
      "Applying normalization: 100%|████████████████████████████████████| 249/249 [00:01<00:00, 202.07it/s]\n"
     ]
    },
    {
     "name": "stdout",
     "output_type": "stream",
     "text": [
      " - Saving clip keypoints and subtitle\n",
      "\n",
      "[065] Processing video: 6385655585248876901\n",
      " - Frames: 49412 to 49495\n",
      " - Loading keypoint JSONs\n",
      " - Extracting and normalizing keypoints\n"
     ]
    },
    {
     "name": "stderr",
     "output_type": "stream",
     "text": [
      "Normalizing keypoints (flattening): 100%|███████████████████████████████████| 83/83 [00:00<?, ?it/s]\n",
      "Applying normalization: 100%|██████████████████████████████████████| 83/83 [00:00<00:00, 441.30it/s]\n"
     ]
    },
    {
     "name": "stdout",
     "output_type": "stream",
     "text": [
      " - Saving clip keypoints and subtitle\n",
      "\n",
      "[066] Processing video: 5947893620584452247\n",
      " - Frames: 46374 to 46415\n",
      " - Loading keypoint JSONs\n",
      " - Extracting and normalizing keypoints\n"
     ]
    },
    {
     "name": "stderr",
     "output_type": "stream",
     "text": [
      "Normalizing keypoints (flattening): 100%|████████████████████████| 41/41 [00:00<00:00, 20511.27it/s]\n",
      "Applying normalization: 100%|██████████████████████████████████████| 41/41 [00:00<00:00, 149.35it/s]\n"
     ]
    },
    {
     "name": "stdout",
     "output_type": "stream",
     "text": [
      " - Saving clip keypoints and subtitle\n",
      "\n",
      "[067] Processing video: 6070722813302401768\n",
      " - Frames: 17352 to 17506\n",
      " - Loading keypoint JSONs\n",
      " - Extracting and normalizing keypoints\n"
     ]
    },
    {
     "name": "stderr",
     "output_type": "stream",
     "text": [
      "Normalizing keypoints (flattening): 100%|█████████████████████| 154/154 [00:00<00:00, 153134.85it/s]\n",
      "Applying normalization: 100%|████████████████████████████████████| 154/154 [00:00<00:00, 447.27it/s]\n"
     ]
    },
    {
     "name": "stdout",
     "output_type": "stream",
     "text": [
      " - Saving clip keypoints and subtitle\n",
      "\n",
      "[068] Processing video: 6124055999197204899\n",
      " - Frames: 65396 to 65443\n",
      " - Loading keypoint JSONs\n",
      " - Extracting and normalizing keypoints\n"
     ]
    },
    {
     "name": "stderr",
     "output_type": "stream",
     "text": [
      "Normalizing keypoints (flattening): 100%|████████████████████████| 47/47 [00:00<00:00, 43268.72it/s]\n",
      "Applying normalization: 100%|██████████████████████████████████████| 47/47 [00:00<00:00, 449.06it/s]"
     ]
    },
    {
     "name": "stdout",
     "output_type": "stream",
     "text": [
      " - Saving clip keypoints and subtitle\n"
     ]
    },
    {
     "name": "stderr",
     "output_type": "stream",
     "text": [
      "\n"
     ]
    },
    {
     "name": "stdout",
     "output_type": "stream",
     "text": [
      "\n",
      "[069] Processing video: 5960483458219230511\n",
      " - Frames: 83799 to 83861\n",
      " - Loading keypoint JSONs\n",
      " - Extracting and normalizing keypoints\n"
     ]
    },
    {
     "name": "stderr",
     "output_type": "stream",
     "text": [
      "Normalizing keypoints (flattening): 100%|████████████████████████| 62/62 [00:00<00:00, 68182.18it/s]\n",
      "Applying normalization: 100%|██████████████████████████████████████| 62/62 [00:00<00:00, 272.41it/s]\n"
     ]
    },
    {
     "name": "stdout",
     "output_type": "stream",
     "text": [
      " - Saving clip keypoints and subtitle\n",
      "\n",
      "[070] Processing video: 6249968548957975525\n",
      " - Frames: 25764 to 25882\n",
      " - Loading keypoint JSONs\n",
      " - Extracting and normalizing keypoints\n"
     ]
    },
    {
     "name": "stderr",
     "output_type": "stream",
     "text": [
      "Normalizing keypoints (flattening): 100%|██████████████████████| 118/118 [00:00<00:00, 59109.98it/s]\n",
      "Applying normalization: 100%|████████████████████████████████████| 118/118 [00:00<00:00, 183.89it/s]\n"
     ]
    },
    {
     "name": "stdout",
     "output_type": "stream",
     "text": [
      " - Saving clip keypoints and subtitle\n",
      "\n",
      "[071] Processing video: 6036581688769750274\n",
      " - Frames: 30816 to 30884\n",
      " - Loading keypoint JSONs\n",
      " - Extracting and normalizing keypoints\n"
     ]
    },
    {
     "name": "stderr",
     "output_type": "stream",
     "text": [
      "Normalizing keypoints (flattening): 100%|████████████████████████| 68/68 [00:00<00:00, 35571.55it/s]\n",
      "Applying normalization: 100%|██████████████████████████████████████| 68/68 [00:00<00:00, 299.13it/s]\n"
     ]
    },
    {
     "name": "stdout",
     "output_type": "stream",
     "text": [
      " - Saving clip keypoints and subtitle\n",
      "\n",
      "[072] Processing video: 6035711957892310247\n",
      " - Frames: 63622 to 63709\n",
      " - Loading keypoint JSONs\n",
      " - Extracting and normalizing keypoints\n"
     ]
    },
    {
     "name": "stderr",
     "output_type": "stream",
     "text": [
      "Normalizing keypoints (flattening): 100%|████████████████████████| 87/87 [00:00<00:00, 43518.72it/s]\n",
      "Applying normalization: 100%|██████████████████████████████████████| 87/87 [00:00<00:00, 152.19it/s]\n"
     ]
    },
    {
     "name": "stdout",
     "output_type": "stream",
     "text": [
      " - Saving clip keypoints and subtitle\n",
      "\n",
      "[073] Processing video: 6259110386826469954\n",
      " - Frames: 6714 to 6806\n",
      " - Loading keypoint JSONs\n",
      " - Extracting and normalizing keypoints\n"
     ]
    },
    {
     "name": "stderr",
     "output_type": "stream",
     "text": [
      "Normalizing keypoints (flattening): 100%|████████████████████████| 92/92 [00:00<00:00, 92072.53it/s]\n",
      "Applying normalization: 100%|██████████████████████████████████████| 92/92 [00:00<00:00, 283.78it/s]\n"
     ]
    },
    {
     "name": "stdout",
     "output_type": "stream",
     "text": [
      " - Saving clip keypoints and subtitle\n",
      "\n",
      "[074] Processing video: 6023593707666665811\n",
      " - Frames: 37258 to 37340\n",
      " - Loading keypoint JSONs\n",
      " - Extracting and normalizing keypoints\n"
     ]
    },
    {
     "name": "stderr",
     "output_type": "stream",
     "text": [
      "Normalizing keypoints (flattening): 100%|████████████████████████| 82/82 [00:00<00:00, 41017.64it/s]\n",
      "Applying normalization: 100%|██████████████████████████████████████| 82/82 [00:00<00:00, 228.22it/s]\n"
     ]
    },
    {
     "name": "stdout",
     "output_type": "stream",
     "text": [
      " - Saving clip keypoints and subtitle\n",
      "\n",
      "[075] Processing video: 5915128603573543065\n",
      " - Frames: 34016 to 34190\n",
      " - Loading keypoint JSONs\n",
      " - Extracting and normalizing keypoints\n"
     ]
    },
    {
     "name": "stderr",
     "output_type": "stream",
     "text": [
      "Normalizing keypoints (flattening): 100%|██████████████████████| 174/174 [00:00<00:00, 34752.80it/s]\n",
      "Applying normalization: 100%|████████████████████████████████████| 174/174 [00:01<00:00, 149.85it/s]\n"
     ]
    },
    {
     "name": "stdout",
     "output_type": "stream",
     "text": [
      " - Saving clip keypoints and subtitle\n",
      "\n",
      "[076] Processing video: 6274851871484060612\n",
      " - Frames: 26006 to 26056\n",
      " - Loading keypoint JSONs\n",
      " - Extracting and normalizing keypoints\n"
     ]
    },
    {
     "name": "stderr",
     "output_type": "stream",
     "text": [
      "Normalizing keypoints (flattening): 100%|████████████████████████| 50/50 [00:00<00:00, 50582.54it/s]\n",
      "Applying normalization: 100%|██████████████████████████████████████| 50/50 [00:00<00:00, 280.86it/s]\n"
     ]
    },
    {
     "name": "stdout",
     "output_type": "stream",
     "text": [
      " - Saving clip keypoints and subtitle\n",
      "\n",
      "[077] Processing video: 6163005769114423167\n",
      " - Frames: 33337 to 33596\n",
      " - Loading keypoint JSONs\n",
      " - Extracting and normalizing keypoints\n"
     ]
    },
    {
     "name": "stderr",
     "output_type": "stream",
     "text": [
      "Normalizing keypoints (flattening): 100%|█████████████████████| 259/259 [00:00<00:00, 129355.17it/s]\n",
      "Applying normalization: 100%|████████████████████████████████████| 259/259 [00:00<00:00, 315.87it/s]\n"
     ]
    },
    {
     "name": "stdout",
     "output_type": "stream",
     "text": [
      " - Saving clip keypoints and subtitle\n",
      "\n",
      "[078] Processing video: 6014949226990061588\n",
      " - Frames: 27774 to 27892\n",
      " - Loading keypoint JSONs\n",
      " - Extracting and normalizing keypoints\n"
     ]
    },
    {
     "name": "stderr",
     "output_type": "stream",
     "text": [
      "Normalizing keypoints (flattening): 100%|██████████████████████| 118/118 [00:00<00:00, 39311.19it/s]\n",
      "Applying normalization: 100%|████████████████████████████████████| 118/118 [00:00<00:00, 120.85it/s]\n"
     ]
    },
    {
     "name": "stdout",
     "output_type": "stream",
     "text": [
      " - Saving clip keypoints and subtitle\n",
      "\n",
      "[079] Processing video: 6147411172359393435\n",
      " - Frames: 56162 to 56320\n",
      " - Loading keypoint JSONs\n",
      " - Extracting and normalizing keypoints\n"
     ]
    },
    {
     "name": "stderr",
     "output_type": "stream",
     "text": [
      "Normalizing keypoints (flattening): 100%|██████████████████████| 158/158 [00:00<00:00, 79137.81it/s]\n",
      "Applying normalization: 100%|████████████████████████████████████| 158/158 [00:00<00:00, 182.79it/s]\n"
     ]
    },
    {
     "name": "stdout",
     "output_type": "stream",
     "text": [
      " - Saving clip keypoints and subtitle\n",
      "\n",
      "[080] Processing video: 5925241963065356687\n",
      " - Frames: 36835 to 37032\n",
      " - Loading keypoint JSONs\n",
      " - Extracting and normalizing keypoints\n"
     ]
    },
    {
     "name": "stderr",
     "output_type": "stream",
     "text": [
      "Normalizing keypoints (flattening): 100%|█████████████████████| 197/197 [00:00<00:00, 201777.26it/s]\n",
      "Applying normalization: 100%|████████████████████████████████████| 197/197 [00:00<00:00, 517.09it/s]\n"
     ]
    },
    {
     "name": "stdout",
     "output_type": "stream",
     "text": [
      " - Saving clip keypoints and subtitle\n",
      "\n",
      "[081] Processing video: 6273198738550790730\n",
      " - Frames: 66521 to 66634\n",
      " - Loading keypoint JSONs\n",
      " - Extracting and normalizing keypoints\n"
     ]
    },
    {
     "name": "stderr",
     "output_type": "stream",
     "text": [
      "Normalizing keypoints (flattening): 100%|██████████████████████| 113/113 [00:00<00:00, 56316.11it/s]\n",
      "Applying normalization: 100%|████████████████████████████████████| 113/113 [00:00<00:00, 202.63it/s]\n"
     ]
    },
    {
     "name": "stdout",
     "output_type": "stream",
     "text": [
      " - Saving clip keypoints and subtitle\n",
      "\n",
      "[082] Processing video: 6078143228299678284\n",
      " - Frames: 19932 to 20178\n",
      " - Loading keypoint JSONs\n",
      " - Extracting and normalizing keypoints\n"
     ]
    },
    {
     "name": "stderr",
     "output_type": "stream",
     "text": [
      "Normalizing keypoints (flattening): 100%|█████████████████████| 246/246 [00:00<00:00, 122979.59it/s]\n",
      "Applying normalization: 100%|████████████████████████████████████| 246/246 [00:00<00:00, 384.39it/s]\n"
     ]
    },
    {
     "name": "stdout",
     "output_type": "stream",
     "text": [
      " - Saving clip keypoints and subtitle\n",
      "\n",
      "[083] Processing video: 6373770551747408642\n",
      " - Frames: 9125 to 9244\n",
      " - Loading keypoint JSONs\n",
      " - Extracting and normalizing keypoints\n"
     ]
    },
    {
     "name": "stderr",
     "output_type": "stream",
     "text": [
      "Normalizing keypoints (flattening): 100%|█████████████████████| 119/119 [00:00<00:00, 118980.26it/s]\n",
      "Applying normalization: 100%|████████████████████████████████████| 119/119 [00:00<00:00, 468.97it/s]\n"
     ]
    },
    {
     "name": "stdout",
     "output_type": "stream",
     "text": [
      " - Saving clip keypoints and subtitle\n",
      "\n",
      "[084] Processing video: 6237606774065566357\n",
      " - Frames: 4923 to 4978\n",
      " - Loading keypoint JSONs\n",
      " - Extracting and normalizing keypoints\n"
     ]
    },
    {
     "name": "stderr",
     "output_type": "stream",
     "text": [
      "Normalizing keypoints (flattening): 100%|████████████████████████| 55/55 [00:00<00:00, 55856.35it/s]\n",
      "Applying normalization: 100%|██████████████████████████████████████| 55/55 [00:00<00:00, 248.22it/s]\n"
     ]
    },
    {
     "name": "stdout",
     "output_type": "stream",
     "text": [
      " - Saving clip keypoints and subtitle\n",
      "\n",
      "[085] Processing video: 6175991173237160649\n",
      " - Frames: 29622 to 29825\n",
      " - Loading keypoint JSONs\n",
      " - Extracting and normalizing keypoints\n"
     ]
    },
    {
     "name": "stderr",
     "output_type": "stream",
     "text": [
      "Normalizing keypoints (flattening): 100%|█████████████████████| 203/203 [00:00<00:00, 101507.36it/s]\n",
      "Applying normalization: 100%|████████████████████████████████████| 203/203 [00:00<00:00, 540.69it/s]\n"
     ]
    },
    {
     "name": "stdout",
     "output_type": "stream",
     "text": [
      " - Saving clip keypoints and subtitle\n",
      "\n",
      "[086] Processing video: 6183800712271483017\n",
      " - Frames: 80625 to 80730\n",
      " - Loading keypoint JSONs\n",
      " - Extracting and normalizing keypoints\n"
     ]
    },
    {
     "name": "stderr",
     "output_type": "stream",
     "text": [
      "Normalizing keypoints (flattening): 100%|█████████████████████| 105/105 [00:00<00:00, 105032.65it/s]\n",
      "Applying normalization: 100%|████████████████████████████████████| 105/105 [00:00<00:00, 218.25it/s]\n"
     ]
    },
    {
     "name": "stdout",
     "output_type": "stream",
     "text": [
      " - Saving clip keypoints and subtitle\n",
      "\n",
      "[087] Processing video: 6161239249065577328\n",
      " - Frames: 13621 to 13676\n",
      " - Loading keypoint JSONs\n",
      " - Extracting and normalizing keypoints\n"
     ]
    },
    {
     "name": "stderr",
     "output_type": "stream",
     "text": [
      "Normalizing keypoints (flattening): 100%|████████████████████████| 55/55 [00:00<00:00, 50622.50it/s]\n",
      "Applying normalization: 100%|██████████████████████████████████████| 55/55 [00:00<00:00, 375.02it/s]"
     ]
    },
    {
     "name": "stdout",
     "output_type": "stream",
     "text": [
      " - Saving clip keypoints and subtitle\n"
     ]
    },
    {
     "name": "stderr",
     "output_type": "stream",
     "text": [
      "\n"
     ]
    },
    {
     "name": "stdout",
     "output_type": "stream",
     "text": [
      "\n",
      "[088] Processing video: 6270230057155793464\n",
      " - Frames: 2001 to 2031\n",
      " - Loading keypoint JSONs\n",
      " - Extracting and normalizing keypoints\n"
     ]
    },
    {
     "name": "stderr",
     "output_type": "stream",
     "text": [
      "Normalizing keypoints (flattening): 100%|███████████████████████████████████| 30/30 [00:00<?, ?it/s]\n",
      "Applying normalization: 100%|██████████████████████████████████████| 30/30 [00:00<00:00, 206.35it/s]"
     ]
    },
    {
     "name": "stdout",
     "output_type": "stream",
     "text": [
      " - Saving clip keypoints and subtitle\n"
     ]
    },
    {
     "name": "stderr",
     "output_type": "stream",
     "text": [
      "\n"
     ]
    },
    {
     "name": "stdout",
     "output_type": "stream",
     "text": [
      "\n",
      "[089] Processing video: 6064277785378015921\n",
      " - Frames: 39670 to 39837\n",
      " - Loading keypoint JSONs\n",
      " - Extracting and normalizing keypoints\n"
     ]
    },
    {
     "name": "stderr",
     "output_type": "stream",
     "text": [
      "Normalizing keypoints (flattening): 100%|█████████████████████| 167/167 [00:00<00:00, 167251.38it/s]\n",
      "Applying normalization: 100%|████████████████████████████████████| 167/167 [00:00<00:00, 554.42it/s]\n"
     ]
    },
    {
     "name": "stdout",
     "output_type": "stream",
     "text": [
      " - Saving clip keypoints and subtitle\n",
      "\n",
      "[090] Processing video: 5921437051537909155\n",
      " - Frames: 53082 to 53122\n",
      " - Loading keypoint JSONs\n",
      " - Extracting and normalizing keypoints\n"
     ]
    },
    {
     "name": "stderr",
     "output_type": "stream",
     "text": [
      "Normalizing keypoints (flattening): 100%|████████████████████████| 40/40 [00:00<00:00, 40349.24it/s]\n",
      "Applying normalization: 100%|██████████████████████████████████████| 40/40 [00:00<00:00, 549.16it/s]"
     ]
    },
    {
     "name": "stdout",
     "output_type": "stream",
     "text": [
      " - Saving clip keypoints and subtitle\n"
     ]
    },
    {
     "name": "stderr",
     "output_type": "stream",
     "text": [
      "\n"
     ]
    },
    {
     "name": "stdout",
     "output_type": "stream",
     "text": [
      "\n",
      "[091] Processing video: 6275965127007184076\n",
      " - Frames: 36941 to 37018\n",
      " - Loading keypoint JSONs\n",
      " - Extracting and normalizing keypoints\n"
     ]
    },
    {
     "name": "stderr",
     "output_type": "stream",
     "text": [
      "Normalizing keypoints (flattening): 100%|████████████████████████| 77/77 [00:00<00:00, 76877.27it/s]\n",
      "Applying normalization: 100%|██████████████████████████████████████| 77/77 [00:00<00:00, 302.06it/s]\n"
     ]
    },
    {
     "name": "stdout",
     "output_type": "stream",
     "text": [
      " - Saving clip keypoints and subtitle\n",
      "\n",
      "[092] Processing video: 6577144554674233627\n",
      " - Frames: 42611 to 42759\n",
      " - Loading keypoint JSONs\n",
      " - Extracting and normalizing keypoints\n"
     ]
    },
    {
     "name": "stderr",
     "output_type": "stream",
     "text": [
      "Normalizing keypoints (flattening): 100%|█████████████████████████████████| 148/148 [00:00<?, ?it/s]\n",
      "Applying normalization: 100%|████████████████████████████████████| 148/148 [00:00<00:00, 400.11it/s]\n"
     ]
    },
    {
     "name": "stdout",
     "output_type": "stream",
     "text": [
      " - Saving clip keypoints and subtitle\n",
      "\n",
      "[093] Processing video: 6129252480128642705\n",
      " - Frames: 27881 to 28075\n",
      " - Loading keypoint JSONs\n",
      " - Extracting and normalizing keypoints\n"
     ]
    },
    {
     "name": "stderr",
     "output_type": "stream",
     "text": [
      "Normalizing keypoints (flattening): 100%|█████████████████████| 194/194 [00:00<00:00, 190293.49it/s]\n",
      "Applying normalization: 100%|████████████████████████████████████| 194/194 [00:00<00:00, 356.12it/s]\n"
     ]
    },
    {
     "name": "stdout",
     "output_type": "stream",
     "text": [
      " - Saving clip keypoints and subtitle\n",
      "\n",
      "[094] Processing video: 6039179284990373014\n",
      " - Frames: 15349 to 15587\n",
      " - Loading keypoint JSONs\n",
      " - Extracting and normalizing keypoints\n"
     ]
    },
    {
     "name": "stderr",
     "output_type": "stream",
     "text": [
      "Normalizing keypoints (flattening): 100%|█████████████████████| 238/238 [00:00<00:00, 119065.40it/s]\n",
      "Applying normalization: 100%|████████████████████████████████████| 238/238 [00:00<00:00, 331.75it/s]\n"
     ]
    },
    {
     "name": "stdout",
     "output_type": "stream",
     "text": [
      " - Saving clip keypoints and subtitle\n",
      "\n",
      "[095] Processing video: 6352730795454475067\n",
      " - Frames: 30542 to 30648\n",
      " - Loading keypoint JSONs\n",
      " - Extracting and normalizing keypoints\n"
     ]
    },
    {
     "name": "stderr",
     "output_type": "stream",
     "text": [
      "Normalizing keypoints (flattening): 100%|██████████████████████| 106/106 [00:00<00:00, 82761.77it/s]\n",
      "Applying normalization: 100%|████████████████████████████████████| 106/106 [00:00<00:00, 441.62it/s]\n"
     ]
    },
    {
     "name": "stdout",
     "output_type": "stream",
     "text": [
      " - Saving clip keypoints and subtitle\n",
      "\n",
      "[096] Processing video: 6268478998989212414\n",
      " - Frames: 78501 to 78635\n",
      " - Loading keypoint JSONs\n",
      " - Extracting and normalizing keypoints\n"
     ]
    },
    {
     "name": "stderr",
     "output_type": "stream",
     "text": [
      "Normalizing keypoints (flattening): 100%|██████████████████████| 134/134 [00:00<00:00, 44680.56it/s]\n",
      "Applying normalization: 100%|████████████████████████████████████| 134/134 [00:00<00:00, 195.43it/s]\n"
     ]
    },
    {
     "name": "stdout",
     "output_type": "stream",
     "text": [
      " - Saving clip keypoints and subtitle\n",
      "\n",
      "[097] Processing video: 6333418904504754384\n",
      " - Frames: 49244 to 49283\n",
      " - Loading keypoint JSONs\n",
      " - Extracting and normalizing keypoints\n"
     ]
    },
    {
     "name": "stderr",
     "output_type": "stream",
     "text": [
      "Normalizing keypoints (flattening): 100%|███████████████████████████████████| 39/39 [00:00<?, ?it/s]\n",
      "Applying normalization: 100%|██████████████████████████████████████| 39/39 [00:00<00:00, 591.32it/s]"
     ]
    },
    {
     "name": "stdout",
     "output_type": "stream",
     "text": [
      " - Saving clip keypoints and subtitle\n"
     ]
    },
    {
     "name": "stderr",
     "output_type": "stream",
     "text": [
      "\n"
     ]
    },
    {
     "name": "stdout",
     "output_type": "stream",
     "text": [
      "\n",
      "[098] Processing video: 6033968630666861125\n",
      " - Frames: 83956 to 84003\n",
      " - Loading keypoint JSONs\n",
      " - Extracting and normalizing keypoints\n"
     ]
    },
    {
     "name": "stderr",
     "output_type": "stream",
     "text": [
      "Normalizing keypoints (flattening): 100%|████████████████████████| 47/47 [00:00<00:00, 43230.76it/s]\n",
      "Applying normalization: 100%|██████████████████████████████████████| 47/47 [00:00<00:00, 506.22it/s]"
     ]
    },
    {
     "name": "stdout",
     "output_type": "stream",
     "text": [
      " - Saving clip keypoints and subtitle\n"
     ]
    },
    {
     "name": "stderr",
     "output_type": "stream",
     "text": [
      "\n"
     ]
    },
    {
     "name": "stdout",
     "output_type": "stream",
     "text": [
      "\n",
      "[099] Processing video: 6129605526440376534\n",
      " - Frames: 64800 to 64852\n",
      " - Loading keypoint JSONs\n",
      " - Extracting and normalizing keypoints\n"
     ]
    },
    {
     "name": "stderr",
     "output_type": "stream",
     "text": [
      "Normalizing keypoints (flattening): 100%|████████████████████████| 52/52 [00:00<00:00, 17934.69it/s]\n",
      "Applying normalization: 100%|██████████████████████████████████████| 52/52 [00:00<00:00, 255.86it/s]\n"
     ]
    },
    {
     "name": "stdout",
     "output_type": "stream",
     "text": [
      " - Saving clip keypoints and subtitle\n",
      "\n",
      "[100] Processing video: 6274706272088545077\n",
      " - Frames: 63852 to 64133\n",
      " - Loading keypoint JSONs\n",
      " - Extracting and normalizing keypoints\n"
     ]
    },
    {
     "name": "stderr",
     "output_type": "stream",
     "text": [
      "Normalizing keypoints (flattening): 100%|█████████████████████| 281/281 [00:00<00:00, 136301.54it/s]\n",
      "Applying normalization: 100%|████████████████████████████████████| 281/281 [00:00<00:00, 361.33it/s]\n"
     ]
    },
    {
     "name": "stdout",
     "output_type": "stream",
     "text": [
      " - Saving clip keypoints and subtitle\n",
      "\n",
      "✅ Done. Processed 100 samples.\n"
     ]
    }
   ],
   "source": [
    "# paths to the directory containing the JSON files\n",
    "test_data = \"<path_to_directory>\\\\test_data.json\"\n",
    "test_keypoints = \"<path_to_directory>\\\\keypoints\"\n",
    "test_keypoints_returned = \"<path_to_directory>\\\\keypoints_new\"\n",
    "\n",
    "# Empty list to store filenames\n",
    "filenames = []\n",
    "# Load the test data from the JSON file\n",
    "for data in test_data:\n",
    "    filenames.append(data[\"file\"])\n",
    "\n",
    "counter = 0\n",
    "\n",
    "# buffer frames to be added to the start and end of the video\n",
    "buffer_frames = 0 \n",
    "\n",
    "# frames per second (FPS) for the video\n",
    "fps = 25\n",
    "num_processed = 0\n",
    "\n",
    "# Function to extract selected keypoints from the JSON data\n",
    "def extract_selected_keypoints_from_folder(folder_path, start_frame, end_frame):\n",
    "    # List to hold selected keypoints data\n",
    "    selected_data = []\n",
    "    # Iterate through the range of frames to extract\n",
    "    for frame_idx in range(start_frame, end_frame):\n",
    "        # Construct the filename for the keypoints JSON file\n",
    "        filename = f\"{foldername}_{frame_idx:012}_keypoints.json\"\n",
    "        # Construct the full file path\n",
    "        file_path = os.path.join(folder_path, filename)\n",
    "        # Check if the file exists\n",
    "        if os.path.exists(file_path):\n",
    "            try:\n",
    "                # Open and read the JSON file\n",
    "                with open(file_path, 'r') as f:\n",
    "                    json_frame = json.load(f)\n",
    "                    selected_data.append(json_frame)\n",
    "            except Exception as e:\n",
    "                # Handle any errors that occur while reading the file\n",
    "                print(f\"[Error] Failed to read {file_path}: {e}\")\n",
    "        else:\n",
    "            # If the file does not exist, print a warning message\n",
    "            print(f\"[Warning] Missing frame: {file_path}\")\n",
    "    # Return the selected keypoints data\n",
    "    return selected_data\n",
    "\n",
    "# Iterate through each folder in the directory containing the keypoints\n",
    "for data in test_data:\n",
    "    # Build the full path to the keypoints folder\n",
    "    video_id = data[\"file\"][:-4]\n",
    "    foldername = video_id\n",
    "    folder_path = os.path.join(test_keypoints, foldername)\n",
    "\n",
    "    # Check if the folder exists\n",
    "    if not os.path.exists(folder_path):\n",
    "        print(f\"[Skip] Folder not found: {folder_path}\")\n",
    "        continue\n",
    "\n",
    "    print(f\"\\n[{data['code']}] Processing video: {video_id}\")\n",
    "    \n",
    "    # Extract the start and end times from the data\n",
    "    start_sec = time_to_float(data[\"start\"])\n",
    "    end_sec = time_to_float(data[\"end\"])\n",
    "    # Calculate the start and end frames based on the FPS\n",
    "    start_frame = max(int(start_sec * fps) - buffer_frames, 0)\n",
    "    end_frame = int(end_sec * fps) + buffer_frames\n",
    "\n",
    "    print(f\" - Frames: {start_frame} to {end_frame}\")\n",
    "\n",
    "    # Load only the required frames\n",
    "    print(\" - Loading keypoint JSONs\")\n",
    "    json_data = extract_selected_keypoints_from_folder(folder_path, start_frame, end_frame)\n",
    "\n",
    "    # Check if any JSON data was loaded\n",
    "    if not json_data:\n",
    "        print(f\"[Warning] No JSON frames loaded for {data['code']} — skipping.\")\n",
    "        continue\n",
    "\n",
    "    # Extract and normalize keypoints\n",
    "    print(\" - Extracting and normalizing keypoints\")\n",
    "    keypoints = extract_keypoints(json_data)\n",
    "    normalized_keypoints = normalize_keypoints(keypoints)\n",
    "\n",
    "    # Save the keypoints to the specified directory\n",
    "    print(\" - Saving clip keypoints and subtitle\")\n",
    "    save_path = os.path.join(test_keypoints_returned, data[\"code\"] + \"_keypoints.pt\")\n",
    "    torch.save(normalized_keypoints, save_path)\n",
    "\n",
    "    num_processed += 1\n",
    "\n",
    "print(f\"Processed {num_processed} samples.\")\n",
    "\n"
   ]
  }
 ],
 "metadata": {
  "kernelspec": {
   "display_name": ".venv",
   "language": "python",
   "name": "python3"
  },
  "language_info": {
   "codemirror_mode": {
    "name": "ipython",
    "version": 3
   },
   "file_extension": ".py",
   "mimetype": "text/x-python",
   "name": "python",
   "nbconvert_exporter": "python",
   "pygments_lexer": "ipython3",
   "version": "3.12.2"
  }
 },
 "nbformat": 4,
 "nbformat_minor": 2
}
