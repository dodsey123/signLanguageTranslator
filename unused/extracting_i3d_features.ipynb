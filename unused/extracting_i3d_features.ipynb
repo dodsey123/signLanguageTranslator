{
 "cells": [
  {
   "cell_type": "code",
   "execution_count": null,
   "metadata": {},
   "outputs": [],
   "source": [
    "filenames = [\"<filenames>\"]\n",
    "input_dir = \"<input_dir>\"\n",
    "output_dir = \"<output_dir>\""
   ]
  },
  {
   "cell_type": "code",
   "execution_count": null,
   "metadata": {},
   "outputs": [],
   "source": [
    "import tarfile\n",
    "import os\n",
    "import shutil\n",
    "import gzip\n",
    "\n",
    "def extract_map_gz(input_path: str, output_path: str) -> None:\n",
    "    # Ensure the input file exists\n",
    "    if not os.path.isfile(input_path):\n",
    "        raise FileNotFoundError(f\"Input file not found: {input_path}\")\n",
    "\n",
    "    # Open the gzipped file and write the decompressed content\n",
    "    with gzip.open(input_path, 'rb') as f_in:\n",
    "        with open(output_path, 'wb') as f_out:\n",
    "            shutil.copyfileobj(f_in, f_out)\n",
    "    print(f\"Extracted '{input_path}' to '{output_path}'\")"
   ]
  },
  {
   "cell_type": "code",
   "execution_count": null,
   "metadata": {},
   "outputs": [
    {
     "name": "stdout",
     "output_type": "stream",
     "text": [
      "Extracted 'D:\\bobsl_v1_4_features_i3d\\bobsl\\v1.4\\video_features\\i3d_c2281_16f_m8_-15_4_d0.8_-3_22\\5086465773912997411\\features.mat.gz' to 'C:\\Users\\taylo\\OneDrive\\Documents\\Dissertation_Work\\BOBSL\\i3d_features_data\\5086465773912997411_features.mat'\n",
      "Extracted 'D:\\bobsl_v1_4_features_i3d\\bobsl\\v1.4\\video_features\\i3d_c2281_16f_m8_-15_4_d0.8_-3_22\\5087953980081062580\\features.mat.gz' to 'C:\\Users\\taylo\\OneDrive\\Documents\\Dissertation_Work\\BOBSL\\i3d_features_data\\5087953980081062580_features.mat'\n",
      "Extracted 'D:\\bobsl_v1_4_features_i3d\\bobsl\\v1.4\\video_features\\i3d_c2281_16f_m8_-15_4_d0.8_-3_22\\5090546422340930233\\features.mat.gz' to 'C:\\Users\\taylo\\OneDrive\\Documents\\Dissertation_Work\\BOBSL\\i3d_features_data\\5090546422340930233_features.mat'\n",
      "Extracted 'D:\\bobsl_v1_4_features_i3d\\bobsl\\v1.4\\video_features\\i3d_c2281_16f_m8_-15_4_d0.8_-3_22\\5090916219025116054\\features.mat.gz' to 'C:\\Users\\taylo\\OneDrive\\Documents\\Dissertation_Work\\BOBSL\\i3d_features_data\\5090916219025116054_features.mat'\n",
      "Extracted 'D:\\bobsl_v1_4_features_i3d\\bobsl\\v1.4\\video_features\\i3d_c2281_16f_m8_-15_4_d0.8_-3_22\\5092765202446045704\\features.mat.gz' to 'C:\\Users\\taylo\\OneDrive\\Documents\\Dissertation_Work\\BOBSL\\i3d_features_data\\5092765202446045704_features.mat'\n",
      "Extracted 'D:\\bobsl_v1_4_features_i3d\\bobsl\\v1.4\\video_features\\i3d_c2281_16f_m8_-15_4_d0.8_-3_22\\5093160768934007504\\features.mat.gz' to 'C:\\Users\\taylo\\OneDrive\\Documents\\Dissertation_Work\\BOBSL\\i3d_features_data\\5093160768934007504_features.mat'\n",
      "Extracted 'D:\\bobsl_v1_4_features_i3d\\bobsl\\v1.4\\video_features\\i3d_c2281_16f_m8_-15_4_d0.8_-3_22\\5093521546186871869\\features.mat.gz' to 'C:\\Users\\taylo\\OneDrive\\Documents\\Dissertation_Work\\BOBSL\\i3d_features_data\\5093521546186871869_features.mat'\n",
      "Extracted 'D:\\bobsl_v1_4_features_i3d\\bobsl\\v1.4\\video_features\\i3d_c2281_16f_m8_-15_4_d0.8_-3_22\\5093895208341624036\\features.mat.gz' to 'C:\\Users\\taylo\\OneDrive\\Documents\\Dissertation_Work\\BOBSL\\i3d_features_data\\5093895208341624036_features.mat'\n",
      "Extracted 'D:\\bobsl_v1_4_features_i3d\\bobsl\\v1.4\\video_features\\i3d_c2281_16f_m8_-15_4_d0.8_-3_22\\5097975856769557081\\features.mat.gz' to 'C:\\Users\\taylo\\OneDrive\\Documents\\Dissertation_Work\\BOBSL\\i3d_features_data\\5097975856769557081_features.mat'\n",
      "Extracted 'D:\\bobsl_v1_4_features_i3d\\bobsl\\v1.4\\video_features\\i3d_c2281_16f_m8_-15_4_d0.8_-3_22\\5099091689273058848\\features.mat.gz' to 'C:\\Users\\taylo\\OneDrive\\Documents\\Dissertation_Work\\BOBSL\\i3d_features_data\\5099091689273058848_features.mat'\n"
     ]
    }
   ],
   "source": [
    "for f in filenames:\n",
    "    # Construct the full path to the .map.gz file\n",
    "    mat_file = os.path.join(input_dir, f, 'features.mat.gz')\n",
    "    \n",
    "    # Check if the file exists before attempting to extract it\n",
    "    if os.path.isfile(mat_file):\n",
    "        # Extract the .map.gz file to its .map counterpart in the current directory\n",
    "        extract_map_gz(mat_file, os.path.join(output_dir, f + '_features.mat'))\n",
    "    else:\n",
    "        print(f\"File not found: {mat_file}\")\n",
    "\n"
   ]
  },
  {
   "cell_type": "code",
   "execution_count": 12,
   "metadata": {},
   "outputs": [],
   "source": [
    "from scipy.io import loadmat\n",
    "mat = loadmat(os.getcwd() + '\\\\features.mat')      "
   ]
  },
  {
   "cell_type": "code",
   "execution_count": 13,
   "metadata": {},
   "outputs": [],
   "source": [
    "#!/usr/bin/env python3\n",
    "\"\"\"\n",
    "extract_optical_flow_mat.py: Load optical flow data from a .mat file and convert specific\n",
    "variables into NumPy arrays and PyTorch tensors for model processing.\n",
    "\"\"\"\n",
    "import numpy as np\n",
    "from scipy.io import loadmat\n",
    "\n",
    "def extract_i3d_features(mat_path, name):\n",
    "\n",
    "    # Load the .mat file\n",
    "    mat = loadmat(mat_path)\n",
    "\n",
    "    # Extract variables by name\n",
    "    preds = mat.get('preds')\n",
    "    clip_gt = mat.get('clip_gt')\n",
    "    clip_ix = mat.get('clip_ix')\n",
    "    video_names = mat.get('video_names')\n",
    "\n",
    "    # Validate that all required variables are present\n",
    "    missing = [name for name, var in [('preds', preds), ('clip_gt', clip_gt), ('clip_ix', clip_ix), ('video_names', video_names)] if var is None]\n",
    "    if missing:\n",
    "        raise KeyError(f\"Missing variables in MAT file: {missing}\")\n",
    "\n",
    "    # Convert to NumPy arrays and remove singleton dimensions\n",
    "    preds_np = np.squeeze(np.array(preds))          # shape: (11268, 1024)\n",
    "    clip_gt_np = np.squeeze(np.array(clip_gt))        # shape: (11268,)\n",
    "    clip_ix_np = np.squeeze(np.array(clip_ix))        # shape: (11268,)\n",
    "    video_names_arr = np.squeeze(np.array(video_names, dtype=object))  # e.g. '5086465773912997411.mp4'\n",
    "\n",
    "    # Convert video_names to a Python list of strings\n",
    "    if video_names_arr.ndim == 0:\n",
    "        video_names_list = [str(video_names_arr)]\n",
    "    else:\n",
    "        video_names_list = video_names_arr.tolist()\n",
    "\n",
    "    # Convert to PyTorch tensors\n",
    "    try:\n",
    "        import torch\n",
    "    except ImportError:\n",
    "        raise ImportError(\"PyTorch is required for tensor conversion. Please install torch.\")\n",
    "\n",
    "    preds_tensor = torch.from_numpy(preds_np).float()      # Tensor of shape (11268, 1024)\n",
    "    # Assuming clip_gt and clip_ix are integer labels/indices\n",
    "    clip_gt_tensor = torch.from_numpy(clip_gt_np).long()  # Tensor of shape (11268,)\n",
    "    clip_ix_tensor = torch.from_numpy(clip_ix_np).long()  # Tensor of shape (11268,)\n",
    "\n",
    "    # Print summaries\n",
    "    print(f\"preds_tensor: shape={preds_tensor.shape}, dtype={preds_tensor.dtype}\")\n",
    "    print(f\"clip_gt_tensor: shape={clip_gt_tensor.shape}, dtype={clip_gt_tensor.dtype}\")\n",
    "    print(f\"clip_ix_tensor: shape={clip_ix_tensor.shape}, dtype={clip_ix_tensor.dtype}\")\n",
    "    print(f\"video_names_list: {video_names_list}\")\n",
    "\n",
    "    torch.save(preds_tensor, os.path.join(output_dir, name + '_preds_tensor.pt'))\n",
    "    torch.save(clip_gt_tensor, os.path.join(output_dir, name + '_clip_gt_tensor.pt'))\n",
    "    torch.save(clip_ix_tensor, os.path.join(output_dir, name + '_clip_ix_tensor.pt'))\n"
   ]
  },
  {
   "cell_type": "code",
   "execution_count": 15,
   "metadata": {},
   "outputs": [
    {
     "name": "stdout",
     "output_type": "stream",
     "text": [
      "preds_tensor: shape=torch.Size([11268, 1024]), dtype=torch.float32\n",
      "clip_gt_tensor: shape=torch.Size([11268]), dtype=torch.int64\n",
      "clip_ix_tensor: shape=torch.Size([11268]), dtype=torch.int64\n",
      "video_names_list: ['5086465773912997411.mp4']\n",
      "preds_tensor: shape=torch.Size([18714, 1024]), dtype=torch.float32\n",
      "clip_gt_tensor: shape=torch.Size([18714]), dtype=torch.int64\n",
      "clip_ix_tensor: shape=torch.Size([18714]), dtype=torch.int64\n",
      "video_names_list: ['5087953980081062580.mp4']\n",
      "preds_tensor: shape=torch.Size([18806, 1024]), dtype=torch.float32\n",
      "clip_gt_tensor: shape=torch.Size([18806]), dtype=torch.int64\n",
      "clip_ix_tensor: shape=torch.Size([18806]), dtype=torch.int64\n",
      "video_names_list: ['5090546422340930233.mp4']\n",
      "preds_tensor: shape=torch.Size([21831, 1024]), dtype=torch.float32\n",
      "clip_gt_tensor: shape=torch.Size([21831]), dtype=torch.int64\n",
      "clip_ix_tensor: shape=torch.Size([21831]), dtype=torch.int64\n",
      "video_names_list: ['5090916219025116054.mp4']\n",
      "preds_tensor: shape=torch.Size([22463, 1024]), dtype=torch.float32\n",
      "clip_gt_tensor: shape=torch.Size([22463]), dtype=torch.int64\n",
      "clip_ix_tensor: shape=torch.Size([22463]), dtype=torch.int64\n",
      "video_names_list: ['5092765202446045704.mp4']\n",
      "preds_tensor: shape=torch.Size([18476, 1024]), dtype=torch.float32\n",
      "clip_gt_tensor: shape=torch.Size([18476]), dtype=torch.int64\n",
      "clip_ix_tensor: shape=torch.Size([18476]), dtype=torch.int64\n",
      "video_names_list: ['5093160768934007504.mp4']\n",
      "preds_tensor: shape=torch.Size([22252, 1024]), dtype=torch.float32\n",
      "clip_gt_tensor: shape=torch.Size([22252]), dtype=torch.int64\n",
      "clip_ix_tensor: shape=torch.Size([22252]), dtype=torch.int64\n",
      "video_names_list: ['5093521546186871869.mp4']\n",
      "preds_tensor: shape=torch.Size([22364, 1024]), dtype=torch.float32\n",
      "clip_gt_tensor: shape=torch.Size([22364]), dtype=torch.int64\n",
      "clip_ix_tensor: shape=torch.Size([22364]), dtype=torch.int64\n",
      "video_names_list: ['5093895208341624036.mp4']\n",
      "preds_tensor: shape=torch.Size([11321, 1024]), dtype=torch.float32\n",
      "clip_gt_tensor: shape=torch.Size([11321]), dtype=torch.int64\n",
      "clip_ix_tensor: shape=torch.Size([11321]), dtype=torch.int64\n",
      "video_names_list: ['5097975856769557081.mp4']\n",
      "preds_tensor: shape=torch.Size([22257, 1024]), dtype=torch.float32\n",
      "clip_gt_tensor: shape=torch.Size([22257]), dtype=torch.int64\n",
      "clip_ix_tensor: shape=torch.Size([22257]), dtype=torch.int64\n",
      "video_names_list: ['5099091689273058848.mp4']\n"
     ]
    }
   ],
   "source": [
    "for f in filenames:\n",
    "    # Construct the full path to the .map.gz file\n",
    "    mat_file = os.path.join(output_dir, f + '_features.mat')\n",
    "    \n",
    "    # Check if the file exists before attempting to extract it\n",
    "    if os.path.isfile(mat_file):\n",
    "        # Extract the .map.gz file to its .map counterpart in the current directory\n",
    "        extract_i3d_features(mat_file, f)\n",
    "    else:\n",
    "        print(f\"File not found: {mat_file}\")"
   ]
  },
  {
   "cell_type": "code",
   "execution_count": null,
   "metadata": {},
   "outputs": [],
   "source": []
  }
 ],
 "metadata": {
  "kernelspec": {
   "display_name": ".venv",
   "language": "python",
   "name": "python3"
  },
  "language_info": {
   "codemirror_mode": {
    "name": "ipython",
    "version": 3
   },
   "file_extension": ".py",
   "mimetype": "text/x-python",
   "name": "python",
   "nbconvert_exporter": "python",
   "pygments_lexer": "ipython3",
   "version": "3.12.2"
  }
 },
 "nbformat": 4,
 "nbformat_minor": 2
}
