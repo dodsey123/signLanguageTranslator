{
 "cells": [
  {
   "cell_type": "code",
   "execution_count": null,
   "id": "d6203b56",
   "metadata": {},
   "outputs": [],
   "source": [
    "import numpy as np\n",
    "import torch\n",
    "\n",
    "def get_swin_features(path):\n",
    "    features_np = np.load(path)  \n",
    "    print(f\"Loaded NumPy array with shape {features_np.shape} and dtype {features_np.dtype}\")\n",
    "\n",
    "    features_tensor = torch.from_numpy(features_np)\n",
    "    features_tensor = features_tensor.float().to('cuda' if torch.cuda.is_available() else 'cpu')\n",
    "    print(f\"Tensor: shape={features_tensor.shape}, device={features_tensor.device}, dtype={features_tensor.dtype}\")"
   ]
  },
  {
   "cell_type": "code",
   "execution_count": null,
   "id": "ccd2768a",
   "metadata": {},
   "outputs": [
    {
     "name": "stdout",
     "output_type": "stream",
     "text": [
      "Loaded NumPy array with shape (45069, 768) and dtype float16\n",
      "Tensor: shape=torch.Size([45069, 768]), device=cpu, dtype=torch.float32\n"
     ]
    },
    {
     "name": "stderr",
     "output_type": "stream",
     "text": [
      "<>:1: SyntaxWarning: invalid escape sequence '\\D'\n",
      "<>:1: SyntaxWarning: invalid escape sequence '\\D'\n",
      "C:\\Users\\taylo\\AppData\\Local\\Temp\\ipykernel_34800\\1570056422.py:1: SyntaxWarning: invalid escape sequence '\\D'\n",
      "  get_swin_features(\"C:\\\\Users\\\\taylo\\\\OneDrive - Queen Mary, University of London\\Documents\\\\BOBSL\\\\swin_features_1\\\\5086465773912997411.npy\\\\5086465773912997411.npy\")\n"
     ]
    }
   ],
   "source": [
    "get_swin_features(\"<path_to_file>.npy\")"
   ]
  }
 ],
 "metadata": {
  "kernelspec": {
   "display_name": ".venv",
   "language": "python",
   "name": "python3"
  },
  "language_info": {
   "codemirror_mode": {
    "name": "ipython",
    "version": 3
   },
   "file_extension": ".py",
   "mimetype": "text/x-python",
   "name": "python",
   "nbconvert_exporter": "python",
   "pygments_lexer": "ipython3",
   "version": "3.12.2"
  }
 },
 "nbformat": 4,
 "nbformat_minor": 5
}
